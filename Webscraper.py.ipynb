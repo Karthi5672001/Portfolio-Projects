{
 "cells": [
  {
   "cell_type": "code",
   "execution_count": null,
   "metadata": {},
   "outputs": [],
   "source": [
    "from bs4 import BeautifulSoup\n",
    "import requests\n",
    "import time\n",
    "import datetime\n",
    "import smtplib\n",
    "def pricechecker():\n",
    "    #We look for ratings and item name\n",
    "    #Website\n",
    "    URL = 'https://www.amazon.co.uk/Samsung-Internal-Solid-State-MZ-77Q2T0/dp/B089R1C9HV/?_encoding=UTF8&pd_rd_w=zJWcG&content-id=amzn1.sym.3bcd4179-dfc9-4ec8-bccf-cf5b493a737e&pf_rd_p=3bcd4179-dfc9-4ec8-bccf-cf5b493a737e&pf_rd_r=G6VAYVBFXP7QF62SBV6B&pd_rd_wg=b1zuZ&pd_rd_r=48fdaf4f-1cf6-4f32-a025-e8dd00c6b8df&ref_=pd_gw_deals_m1&th=1'\n",
    "    #Computer\n",
    "    headers = {\"User-Agent\": \"Mozilla/5.0 (Windows NT 10.0; Win64; x64) AppleWebKit/537.36 (KHTML, like Gecko) Chrome/107.0.0.0 Safari/537.36\",  \"Accept-Encoding\":\"gzip, deflate\", \"Accept\":\"text/html,application/xhtml+xml,application/xml;q=0.9,*/*;q=0.8\", \"DNT\":\"1\",\"Connection\":\"close\", \"Upgrade-Insecure-Requests\":\"1\"}\n",
    "    page = requests.get(URL, headers=headers)\n",
    "    soup1 = BeautifulSoup(page.content, \"html.parser\")\n",
    "    soup2 = BeautifulSoup(soup1.prettify(), \"html.parser\")\n",
    "    title = soup2.find(id='productTitle').get_text()\n",
    "    ratings = soup2.find(id='acrCustomerReviewText').get_text()\n",
    "    #Formatting the data\n",
    "    ratings = ratings.strip()[:-8]\n",
    "    title = title.strip()\n",
    "    # Timestamp\n",
    "    today = datetime.date.today()\n",
    "    #Writing a CSV for data\n",
    "    import csv \n",
    "    header = ['Ratings', 'title', 'Date']\n",
    "    data = [ratings, title, today]\n",
    "    #Appending data to the WebDataset.csv\n",
    "\n",
    "    with open('WebDataset.csv', 'a+', newline='', encoding='UTF8') as f:\n",
    "        writer = csv.writer(f)\n",
    "        writer.writerow(data)\n",
    "\n",
    "    "
   ]
  },
  {
   "cell_type": "code",
   "execution_count": null,
   "metadata": {},
   "outputs": [],
   "source": [
    "# Runs pricechecker after a set time and inputs data into your CSV\n",
    "\n",
    "while(True):\n",
    "    pricechecker()\n",
    "    time.sleep(5)"
   ]
  },
  {
   "cell_type": "code",
   "execution_count": null,
   "metadata": {},
   "outputs": [],
   "source": [
    "import pandas as pd\n",
    "\n",
    "df = pd.read_csv(r'C:\\Users\\karth\\WebDataset.csv')\n",
    "\n",
    "print(df)"
   ]
  },
  {
   "cell_type": "code",
   "execution_count": null,
   "metadata": {},
   "outputs": [],
   "source": []
  }
 ],
 "metadata": {
  "kernelspec": {
   "display_name": "Python 3",
   "language": "python",
   "name": "python3"
  },
  "language_info": {
   "codemirror_mode": {
    "name": "ipython",
    "version": 3
   },
   "file_extension": ".py",
   "mimetype": "text/x-python",
   "name": "python",
   "nbconvert_exporter": "python",
   "pygments_lexer": "ipython3",
   "version": "3.7.4"
  }
 },
 "nbformat": 4,
 "nbformat_minor": 2
}
