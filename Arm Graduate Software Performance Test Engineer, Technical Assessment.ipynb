{
 "cells": [
  {
   "cell_type": "code",
   "execution_count": null,
   "metadata": {},
   "outputs": [],
   "source": [
    "#Title: Performance analysis of Machine Learning (ML) software\n",
    "\n",
    "#Duration: 1 day\n",
    "\n",
    "#Exercise: \n",
    "#A team developing an ML application has requested some analysis be done on the performance data  produced by their testing infrastructure. \n",
    "#The data is contained within two files (TestInfo.csv & TestResults.pickle) and are provided to you.\n",
    "#You are tasked with analysing the performance data and providing a summary of your findings in bullet point format. \n",
    "\n",
    "#Deliverables: \n",
    "#1) Bullet point summary of your findings. \n",
    "#2) Visualisations that helped you analyse the data with added annotations. \n",
    "#3) Follow up actions regarding your findings you would take with the development team \n",
    "\n",
    "#Guidance: \n",
    "#The data within the two files are related to each other by the field 'TestId'.\n",
    "#TestResults.pickle was generated using pandas and Python2.7. \n",
    "#Please include any reasons/justifications in your summary as to why the observed behaviour has occurred.\n"
   ]
  },
  {
   "cell_type": "code",
   "execution_count": 76,
   "metadata": {},
   "outputs": [],
   "source": [
    "import pandas as pd\n",
    "#Importing PICKLE file\n",
    "obj = pd.read_pickle(r'C:\\Users\\karth\\Desktop\\Data Science\\New folder (2)\\TestResults.pickle')"
   ]
  },
  {
   "cell_type": "code",
   "execution_count": 77,
   "metadata": {},
   "outputs": [
    {
     "data": {
      "text/html": [
       "<div>\n",
       "<style scoped>\n",
       "    .dataframe tbody tr th:only-of-type {\n",
       "        vertical-align: middle;\n",
       "    }\n",
       "\n",
       "    .dataframe tbody tr th {\n",
       "        vertical-align: top;\n",
       "    }\n",
       "\n",
       "    .dataframe thead th {\n",
       "        text-align: right;\n",
       "    }\n",
       "</style>\n",
       "<table border=\"1\" class=\"dataframe\">\n",
       "  <thead>\n",
       "    <tr style=\"text-align: right;\">\n",
       "      <th></th>\n",
       "      <th>TestId</th>\n",
       "      <th>Build</th>\n",
       "      <th>Optimised</th>\n",
       "      <th>Time (ms)</th>\n",
       "      <th>PeakMemory (MB)</th>\n",
       "    </tr>\n",
       "  </thead>\n",
       "  <tbody>\n",
       "    <tr>\n",
       "      <th>0</th>\n",
       "      <td>33</td>\n",
       "      <td>10</td>\n",
       "      <td>N</td>\n",
       "      <td>125.000000</td>\n",
       "      <td>307</td>\n",
       "    </tr>\n",
       "    <tr>\n",
       "      <th>1</th>\n",
       "      <td>43</td>\n",
       "      <td>10</td>\n",
       "      <td>Y</td>\n",
       "      <td>50.000000</td>\n",
       "      <td>50</td>\n",
       "    </tr>\n",
       "    <tr>\n",
       "      <th>2</th>\n",
       "      <td>36</td>\n",
       "      <td>10</td>\n",
       "      <td>N</td>\n",
       "      <td>50.000000</td>\n",
       "      <td>458</td>\n",
       "    </tr>\n",
       "    <tr>\n",
       "      <th>3</th>\n",
       "      <td>1</td>\n",
       "      <td>2</td>\n",
       "      <td>N</td>\n",
       "      <td>64.000000</td>\n",
       "      <td>451</td>\n",
       "    </tr>\n",
       "    <tr>\n",
       "      <th>4</th>\n",
       "      <td>16</td>\n",
       "      <td>8</td>\n",
       "      <td>N</td>\n",
       "      <td>104.000000</td>\n",
       "      <td>453</td>\n",
       "    </tr>\n",
       "    <tr>\n",
       "      <th>5</th>\n",
       "      <td>27</td>\n",
       "      <td>10</td>\n",
       "      <td>N</td>\n",
       "      <td>500.000000</td>\n",
       "      <td>300</td>\n",
       "    </tr>\n",
       "    <tr>\n",
       "      <th>6</th>\n",
       "      <td>26</td>\n",
       "      <td>9</td>\n",
       "      <td>N</td>\n",
       "      <td>53.000000</td>\n",
       "      <td>457</td>\n",
       "    </tr>\n",
       "    <tr>\n",
       "      <th>7</th>\n",
       "      <td>41</td>\n",
       "      <td>10</td>\n",
       "      <td>N</td>\n",
       "      <td>200.000000</td>\n",
       "      <td>454</td>\n",
       "    </tr>\n",
       "    <tr>\n",
       "      <th>8</th>\n",
       "      <td>37</td>\n",
       "      <td>10</td>\n",
       "      <td>N</td>\n",
       "      <td>800.000000</td>\n",
       "      <td>298</td>\n",
       "    </tr>\n",
       "    <tr>\n",
       "      <th>9</th>\n",
       "      <td>46</td>\n",
       "      <td>10</td>\n",
       "      <td>Y</td>\n",
       "      <td>20.000000</td>\n",
       "      <td>86</td>\n",
       "    </tr>\n",
       "    <tr>\n",
       "      <th>10</th>\n",
       "      <td>4</td>\n",
       "      <td>5</td>\n",
       "      <td>N</td>\n",
       "      <td>63.000000</td>\n",
       "      <td>448</td>\n",
       "    </tr>\n",
       "    <tr>\n",
       "      <th>11</th>\n",
       "      <td>44</td>\n",
       "      <td>10</td>\n",
       "      <td>Y</td>\n",
       "      <td>33.333333</td>\n",
       "      <td>53</td>\n",
       "    </tr>\n",
       "    <tr>\n",
       "      <th>12</th>\n",
       "      <td>24</td>\n",
       "      <td>7</td>\n",
       "      <td>N</td>\n",
       "      <td>50.000000</td>\n",
       "      <td>458</td>\n",
       "    </tr>\n",
       "    <tr>\n",
       "      <th>13</th>\n",
       "      <td>9</td>\n",
       "      <td>1</td>\n",
       "      <td>N</td>\n",
       "      <td>101.000000</td>\n",
       "      <td>450</td>\n",
       "    </tr>\n",
       "    <tr>\n",
       "      <th>14</th>\n",
       "      <td>6</td>\n",
       "      <td>7</td>\n",
       "      <td>Y</td>\n",
       "      <td>25.000000</td>\n",
       "      <td>450</td>\n",
       "    </tr>\n",
       "    <tr>\n",
       "      <th>15</th>\n",
       "      <td>0</td>\n",
       "      <td>1</td>\n",
       "      <td>N</td>\n",
       "      <td>65.000000</td>\n",
       "      <td>450</td>\n",
       "    </tr>\n",
       "    <tr>\n",
       "      <th>16</th>\n",
       "      <td>22</td>\n",
       "      <td>5</td>\n",
       "      <td>N</td>\n",
       "      <td>51.000000</td>\n",
       "      <td>456</td>\n",
       "    </tr>\n",
       "    <tr>\n",
       "      <th>17</th>\n",
       "      <td>13</td>\n",
       "      <td>5</td>\n",
       "      <td>N</td>\n",
       "      <td>101.000000</td>\n",
       "      <td>452</td>\n",
       "    </tr>\n",
       "    <tr>\n",
       "      <th>18</th>\n",
       "      <td>29</td>\n",
       "      <td>10</td>\n",
       "      <td>N</td>\n",
       "      <td>166.666667</td>\n",
       "      <td>311</td>\n",
       "    </tr>\n",
       "    <tr>\n",
       "      <th>19</th>\n",
       "      <td>18</td>\n",
       "      <td>1</td>\n",
       "      <td>N</td>\n",
       "      <td>53.000000</td>\n",
       "      <td>456</td>\n",
       "    </tr>\n",
       "    <tr>\n",
       "      <th>20</th>\n",
       "      <td>17</td>\n",
       "      <td>9</td>\n",
       "      <td>N</td>\n",
       "      <td>102.000000</td>\n",
       "      <td>449</td>\n",
       "    </tr>\n",
       "    <tr>\n",
       "      <th>21</th>\n",
       "      <td>45</td>\n",
       "      <td>10</td>\n",
       "      <td>Y</td>\n",
       "      <td>25.000000</td>\n",
       "      <td>85</td>\n",
       "    </tr>\n",
       "    <tr>\n",
       "      <th>22</th>\n",
       "      <td>21</td>\n",
       "      <td>4</td>\n",
       "      <td>N</td>\n",
       "      <td>50.000000</td>\n",
       "      <td>457</td>\n",
       "    </tr>\n",
       "    <tr>\n",
       "      <th>23</th>\n",
       "      <td>11</td>\n",
       "      <td>3</td>\n",
       "      <td>N</td>\n",
       "      <td>104.000000</td>\n",
       "      <td>453</td>\n",
       "    </tr>\n",
       "    <tr>\n",
       "      <th>24</th>\n",
       "      <td>19</td>\n",
       "      <td>2</td>\n",
       "      <td>N</td>\n",
       "      <td>53.000000</td>\n",
       "      <td>456</td>\n",
       "    </tr>\n",
       "    <tr>\n",
       "      <th>25</th>\n",
       "      <td>42</td>\n",
       "      <td>10</td>\n",
       "      <td>Y</td>\n",
       "      <td>100.000000</td>\n",
       "      <td>51</td>\n",
       "    </tr>\n",
       "    <tr>\n",
       "      <th>26</th>\n",
       "      <td>38</td>\n",
       "      <td>10</td>\n",
       "      <td>N</td>\n",
       "      <td>500.000000</td>\n",
       "      <td>305</td>\n",
       "    </tr>\n",
       "    <tr>\n",
       "      <th>27</th>\n",
       "      <td>8</td>\n",
       "      <td>9</td>\n",
       "      <td>Y</td>\n",
       "      <td>19.000000</td>\n",
       "      <td>449</td>\n",
       "    </tr>\n",
       "    <tr>\n",
       "      <th>28</th>\n",
       "      <td>40</td>\n",
       "      <td>10</td>\n",
       "      <td>N</td>\n",
       "      <td>250.000000</td>\n",
       "      <td>449</td>\n",
       "    </tr>\n",
       "    <tr>\n",
       "      <th>29</th>\n",
       "      <td>30</td>\n",
       "      <td>10</td>\n",
       "      <td>N</td>\n",
       "      <td>125.000000</td>\n",
       "      <td>450</td>\n",
       "    </tr>\n",
       "    <tr>\n",
       "      <th>30</th>\n",
       "      <td>31</td>\n",
       "      <td>10</td>\n",
       "      <td>N</td>\n",
       "      <td>100.000000</td>\n",
       "      <td>449</td>\n",
       "    </tr>\n",
       "    <tr>\n",
       "      <th>31</th>\n",
       "      <td>23</td>\n",
       "      <td>6</td>\n",
       "      <td>N</td>\n",
       "      <td>54.000000</td>\n",
       "      <td>458</td>\n",
       "    </tr>\n",
       "    <tr>\n",
       "      <th>32</th>\n",
       "      <td>20</td>\n",
       "      <td>3</td>\n",
       "      <td>N</td>\n",
       "      <td>52.000000</td>\n",
       "      <td>457</td>\n",
       "    </tr>\n",
       "    <tr>\n",
       "      <th>33</th>\n",
       "      <td>32</td>\n",
       "      <td>10</td>\n",
       "      <td>N</td>\n",
       "      <td>250.000000</td>\n",
       "      <td>301</td>\n",
       "    </tr>\n",
       "    <tr>\n",
       "      <th>34</th>\n",
       "      <td>12</td>\n",
       "      <td>4</td>\n",
       "      <td>N</td>\n",
       "      <td>102.000000</td>\n",
       "      <td>453</td>\n",
       "    </tr>\n",
       "    <tr>\n",
       "      <th>35</th>\n",
       "      <td>2</td>\n",
       "      <td>3</td>\n",
       "      <td>N</td>\n",
       "      <td>65.000000</td>\n",
       "      <td>450</td>\n",
       "    </tr>\n",
       "    <tr>\n",
       "      <th>36</th>\n",
       "      <td>35</td>\n",
       "      <td>10</td>\n",
       "      <td>N</td>\n",
       "      <td>300.000000</td>\n",
       "      <td>460</td>\n",
       "    </tr>\n",
       "    <tr>\n",
       "      <th>37</th>\n",
       "      <td>5</td>\n",
       "      <td>6</td>\n",
       "      <td>Y</td>\n",
       "      <td>21.000000</td>\n",
       "      <td>449</td>\n",
       "    </tr>\n",
       "    <tr>\n",
       "      <th>38</th>\n",
       "      <td>28</td>\n",
       "      <td>10</td>\n",
       "      <td>N</td>\n",
       "      <td>250.000000</td>\n",
       "      <td>310</td>\n",
       "    </tr>\n",
       "    <tr>\n",
       "      <th>39</th>\n",
       "      <td>25</td>\n",
       "      <td>8</td>\n",
       "      <td>N</td>\n",
       "      <td>53.000000</td>\n",
       "      <td>458</td>\n",
       "    </tr>\n",
       "    <tr>\n",
       "      <th>40</th>\n",
       "      <td>10</td>\n",
       "      <td>2</td>\n",
       "      <td>N</td>\n",
       "      <td>102.000000</td>\n",
       "      <td>449</td>\n",
       "    </tr>\n",
       "    <tr>\n",
       "      <th>41</th>\n",
       "      <td>39</td>\n",
       "      <td>10</td>\n",
       "      <td>N</td>\n",
       "      <td>333.333333</td>\n",
       "      <td>302</td>\n",
       "    </tr>\n",
       "    <tr>\n",
       "      <th>42</th>\n",
       "      <td>15</td>\n",
       "      <td>7</td>\n",
       "      <td>N</td>\n",
       "      <td>97.000000</td>\n",
       "      <td>455</td>\n",
       "    </tr>\n",
       "    <tr>\n",
       "      <th>43</th>\n",
       "      <td>34</td>\n",
       "      <td>10</td>\n",
       "      <td>N</td>\n",
       "      <td>83.333333</td>\n",
       "      <td>308</td>\n",
       "    </tr>\n",
       "    <tr>\n",
       "      <th>44</th>\n",
       "      <td>14</td>\n",
       "      <td>6</td>\n",
       "      <td>N</td>\n",
       "      <td>99.000000</td>\n",
       "      <td>450</td>\n",
       "    </tr>\n",
       "    <tr>\n",
       "      <th>45</th>\n",
       "      <td>3</td>\n",
       "      <td>4</td>\n",
       "      <td>N</td>\n",
       "      <td>66.000000</td>\n",
       "      <td>450</td>\n",
       "    </tr>\n",
       "    <tr>\n",
       "      <th>46</th>\n",
       "      <td>7</td>\n",
       "      <td>8</td>\n",
       "      <td>Y</td>\n",
       "      <td>23.000000</td>\n",
       "      <td>451</td>\n",
       "    </tr>\n",
       "  </tbody>\n",
       "</table>\n",
       "</div>"
      ],
      "text/plain": [
       "    TestId  Build Optimised   Time (ms)  PeakMemory (MB)\n",
       "0       33     10         N  125.000000              307\n",
       "1       43     10         Y   50.000000               50\n",
       "2       36     10         N   50.000000              458\n",
       "3        1      2         N   64.000000              451\n",
       "4       16      8         N  104.000000              453\n",
       "5       27     10         N  500.000000              300\n",
       "6       26      9         N   53.000000              457\n",
       "7       41     10         N  200.000000              454\n",
       "8       37     10         N  800.000000              298\n",
       "9       46     10         Y   20.000000               86\n",
       "10       4      5         N   63.000000              448\n",
       "11      44     10         Y   33.333333               53\n",
       "12      24      7         N   50.000000              458\n",
       "13       9      1         N  101.000000              450\n",
       "14       6      7         Y   25.000000              450\n",
       "15       0      1         N   65.000000              450\n",
       "16      22      5         N   51.000000              456\n",
       "17      13      5         N  101.000000              452\n",
       "18      29     10         N  166.666667              311\n",
       "19      18      1         N   53.000000              456\n",
       "20      17      9         N  102.000000              449\n",
       "21      45     10         Y   25.000000               85\n",
       "22      21      4         N   50.000000              457\n",
       "23      11      3         N  104.000000              453\n",
       "24      19      2         N   53.000000              456\n",
       "25      42     10         Y  100.000000               51\n",
       "26      38     10         N  500.000000              305\n",
       "27       8      9         Y   19.000000              449\n",
       "28      40     10         N  250.000000              449\n",
       "29      30     10         N  125.000000              450\n",
       "30      31     10         N  100.000000              449\n",
       "31      23      6         N   54.000000              458\n",
       "32      20      3         N   52.000000              457\n",
       "33      32     10         N  250.000000              301\n",
       "34      12      4         N  102.000000              453\n",
       "35       2      3         N   65.000000              450\n",
       "36      35     10         N  300.000000              460\n",
       "37       5      6         Y   21.000000              449\n",
       "38      28     10         N  250.000000              310\n",
       "39      25      8         N   53.000000              458\n",
       "40      10      2         N  102.000000              449\n",
       "41      39     10         N  333.333333              302\n",
       "42      15      7         N   97.000000              455\n",
       "43      34     10         N   83.333333              308\n",
       "44      14      6         N   99.000000              450\n",
       "45       3      4         N   66.000000              450\n",
       "46       7      8         Y   23.000000              451"
      ]
     },
     "execution_count": 77,
     "metadata": {},
     "output_type": "execute_result"
    }
   ],
   "source": [
    "obj"
   ]
  },
  {
   "cell_type": "code",
   "execution_count": 78,
   "metadata": {},
   "outputs": [
    {
     "data": {
      "text/html": [
       "<div>\n",
       "<style scoped>\n",
       "    .dataframe tbody tr th:only-of-type {\n",
       "        vertical-align: middle;\n",
       "    }\n",
       "\n",
       "    .dataframe tbody tr th {\n",
       "        vertical-align: top;\n",
       "    }\n",
       "\n",
       "    .dataframe thead th {\n",
       "        text-align: right;\n",
       "    }\n",
       "</style>\n",
       "<table border=\"1\" class=\"dataframe\">\n",
       "  <thead>\n",
       "    <tr style=\"text-align: right;\">\n",
       "      <th></th>\n",
       "      <th>TestId</th>\n",
       "      <th>Device</th>\n",
       "      <th>CPUFrequency (MHz)</th>\n",
       "      <th>Threads</th>\n",
       "      <th>MLNetwork</th>\n",
       "    </tr>\n",
       "  </thead>\n",
       "  <tbody>\n",
       "    <tr>\n",
       "      <th>0</th>\n",
       "      <td>17</td>\n",
       "      <td>Device_0</td>\n",
       "      <td>1000</td>\n",
       "      <td>5</td>\n",
       "      <td>AlexNet</td>\n",
       "    </tr>\n",
       "    <tr>\n",
       "      <th>1</th>\n",
       "      <td>16</td>\n",
       "      <td>Device_0</td>\n",
       "      <td>1000</td>\n",
       "      <td>5</td>\n",
       "      <td>AlexNet</td>\n",
       "    </tr>\n",
       "    <tr>\n",
       "      <th>2</th>\n",
       "      <td>39</td>\n",
       "      <td>Device_1</td>\n",
       "      <td>1000</td>\n",
       "      <td>3</td>\n",
       "      <td>AlexNet</td>\n",
       "    </tr>\n",
       "    <tr>\n",
       "      <th>3</th>\n",
       "      <td>31</td>\n",
       "      <td>Device_0</td>\n",
       "      <td>1000</td>\n",
       "      <td>5</td>\n",
       "      <td>AlexNet</td>\n",
       "    </tr>\n",
       "    <tr>\n",
       "      <th>4</th>\n",
       "      <td>30</td>\n",
       "      <td>Device_0</td>\n",
       "      <td>1000</td>\n",
       "      <td>4</td>\n",
       "      <td>AlexNet</td>\n",
       "    </tr>\n",
       "    <tr>\n",
       "      <th>5</th>\n",
       "      <td>25</td>\n",
       "      <td>Device_0</td>\n",
       "      <td>2000</td>\n",
       "      <td>5</td>\n",
       "      <td>AlexNet</td>\n",
       "    </tr>\n",
       "    <tr>\n",
       "      <th>6</th>\n",
       "      <td>45</td>\n",
       "      <td>Device_0</td>\n",
       "      <td>1000</td>\n",
       "      <td>4</td>\n",
       "      <td>MobileNet</td>\n",
       "    </tr>\n",
       "    <tr>\n",
       "      <th>7</th>\n",
       "      <td>34</td>\n",
       "      <td>Device_0</td>\n",
       "      <td>2000</td>\n",
       "      <td>3</td>\n",
       "      <td>AlexNet</td>\n",
       "    </tr>\n",
       "    <tr>\n",
       "      <th>8</th>\n",
       "      <td>6</td>\n",
       "      <td>Device_0</td>\n",
       "      <td>1000</td>\n",
       "      <td>5</td>\n",
       "      <td>MobileNet</td>\n",
       "    </tr>\n",
       "    <tr>\n",
       "      <th>9</th>\n",
       "      <td>27</td>\n",
       "      <td>Device_0</td>\n",
       "      <td>1000</td>\n",
       "      <td>1</td>\n",
       "      <td>AlexNet</td>\n",
       "    </tr>\n",
       "    <tr>\n",
       "      <th>10</th>\n",
       "      <td>46</td>\n",
       "      <td>Device_0</td>\n",
       "      <td>1000</td>\n",
       "      <td>5</td>\n",
       "      <td>MobileNet</td>\n",
       "    </tr>\n",
       "    <tr>\n",
       "      <th>11</th>\n",
       "      <td>33</td>\n",
       "      <td>Device_0</td>\n",
       "      <td>2000</td>\n",
       "      <td>2</td>\n",
       "      <td>AlexNet</td>\n",
       "    </tr>\n",
       "    <tr>\n",
       "      <th>12</th>\n",
       "      <td>24</td>\n",
       "      <td>Device_0</td>\n",
       "      <td>2000</td>\n",
       "      <td>5</td>\n",
       "      <td>AlexNet</td>\n",
       "    </tr>\n",
       "    <tr>\n",
       "      <th>13</th>\n",
       "      <td>4</td>\n",
       "      <td>Device_0</td>\n",
       "      <td>1000</td>\n",
       "      <td>5</td>\n",
       "      <td>MobileNet</td>\n",
       "    </tr>\n",
       "    <tr>\n",
       "      <th>14</th>\n",
       "      <td>32</td>\n",
       "      <td>Device_0</td>\n",
       "      <td>2000</td>\n",
       "      <td>1</td>\n",
       "      <td>AlexNet</td>\n",
       "    </tr>\n",
       "    <tr>\n",
       "      <th>15</th>\n",
       "      <td>2</td>\n",
       "      <td>Device_0</td>\n",
       "      <td>1000</td>\n",
       "      <td>5</td>\n",
       "      <td>MobileNet</td>\n",
       "    </tr>\n",
       "    <tr>\n",
       "      <th>16</th>\n",
       "      <td>37</td>\n",
       "      <td>Device_1</td>\n",
       "      <td>1000</td>\n",
       "      <td>1</td>\n",
       "      <td>AlexNet</td>\n",
       "    </tr>\n",
       "    <tr>\n",
       "      <th>17</th>\n",
       "      <td>20</td>\n",
       "      <td>Device_0</td>\n",
       "      <td>2000</td>\n",
       "      <td>5</td>\n",
       "      <td>AlexNet</td>\n",
       "    </tr>\n",
       "    <tr>\n",
       "      <th>18</th>\n",
       "      <td>23</td>\n",
       "      <td>Device_0</td>\n",
       "      <td>2000</td>\n",
       "      <td>5</td>\n",
       "      <td>AlexNet</td>\n",
       "    </tr>\n",
       "    <tr>\n",
       "      <th>19</th>\n",
       "      <td>12</td>\n",
       "      <td>Device_0</td>\n",
       "      <td>1000</td>\n",
       "      <td>5</td>\n",
       "      <td>AlexNet</td>\n",
       "    </tr>\n",
       "    <tr>\n",
       "      <th>20</th>\n",
       "      <td>1</td>\n",
       "      <td>Device_0</td>\n",
       "      <td>1000</td>\n",
       "      <td>5</td>\n",
       "      <td>MobileNet</td>\n",
       "    </tr>\n",
       "    <tr>\n",
       "      <th>21</th>\n",
       "      <td>0</td>\n",
       "      <td>Device_0</td>\n",
       "      <td>1000</td>\n",
       "      <td>5</td>\n",
       "      <td>MobileNet</td>\n",
       "    </tr>\n",
       "    <tr>\n",
       "      <th>22</th>\n",
       "      <td>21</td>\n",
       "      <td>Device_0</td>\n",
       "      <td>2000</td>\n",
       "      <td>5</td>\n",
       "      <td>AlexNet</td>\n",
       "    </tr>\n",
       "    <tr>\n",
       "      <th>23</th>\n",
       "      <td>44</td>\n",
       "      <td>Device_0</td>\n",
       "      <td>1000</td>\n",
       "      <td>3</td>\n",
       "      <td>MobileNet</td>\n",
       "    </tr>\n",
       "    <tr>\n",
       "      <th>24</th>\n",
       "      <td>29</td>\n",
       "      <td>Device_0</td>\n",
       "      <td>1000</td>\n",
       "      <td>3</td>\n",
       "      <td>AlexNet</td>\n",
       "    </tr>\n",
       "    <tr>\n",
       "      <th>25</th>\n",
       "      <td>13</td>\n",
       "      <td>Device_0</td>\n",
       "      <td>1000</td>\n",
       "      <td>5</td>\n",
       "      <td>AlexNet</td>\n",
       "    </tr>\n",
       "    <tr>\n",
       "      <th>26</th>\n",
       "      <td>7</td>\n",
       "      <td>Device_0</td>\n",
       "      <td>1000</td>\n",
       "      <td>5</td>\n",
       "      <td>MobileNet</td>\n",
       "    </tr>\n",
       "    <tr>\n",
       "      <th>27</th>\n",
       "      <td>8</td>\n",
       "      <td>Device_0</td>\n",
       "      <td>1000</td>\n",
       "      <td>5</td>\n",
       "      <td>MobileNet</td>\n",
       "    </tr>\n",
       "    <tr>\n",
       "      <th>28</th>\n",
       "      <td>19</td>\n",
       "      <td>Device_0</td>\n",
       "      <td>2000</td>\n",
       "      <td>5</td>\n",
       "      <td>AlexNet</td>\n",
       "    </tr>\n",
       "    <tr>\n",
       "      <th>29</th>\n",
       "      <td>9</td>\n",
       "      <td>Device_0</td>\n",
       "      <td>1000</td>\n",
       "      <td>5</td>\n",
       "      <td>AlexNet</td>\n",
       "    </tr>\n",
       "    <tr>\n",
       "      <th>30</th>\n",
       "      <td>26</td>\n",
       "      <td>Device_0</td>\n",
       "      <td>2000</td>\n",
       "      <td>5</td>\n",
       "      <td>AlexNet</td>\n",
       "    </tr>\n",
       "    <tr>\n",
       "      <th>31</th>\n",
       "      <td>43</td>\n",
       "      <td>Device_0</td>\n",
       "      <td>1000</td>\n",
       "      <td>2</td>\n",
       "      <td>MobileNet</td>\n",
       "    </tr>\n",
       "    <tr>\n",
       "      <th>32</th>\n",
       "      <td>28</td>\n",
       "      <td>Device_0</td>\n",
       "      <td>1000</td>\n",
       "      <td>2</td>\n",
       "      <td>AlexNet</td>\n",
       "    </tr>\n",
       "    <tr>\n",
       "      <th>33</th>\n",
       "      <td>18</td>\n",
       "      <td>Device_0</td>\n",
       "      <td>2000</td>\n",
       "      <td>5</td>\n",
       "      <td>AlexNet</td>\n",
       "    </tr>\n",
       "    <tr>\n",
       "      <th>34</th>\n",
       "      <td>3</td>\n",
       "      <td>Device_0</td>\n",
       "      <td>1000</td>\n",
       "      <td>5</td>\n",
       "      <td>MobileNet</td>\n",
       "    </tr>\n",
       "    <tr>\n",
       "      <th>35</th>\n",
       "      <td>11</td>\n",
       "      <td>Device_0</td>\n",
       "      <td>1000</td>\n",
       "      <td>5</td>\n",
       "      <td>AlexNet</td>\n",
       "    </tr>\n",
       "    <tr>\n",
       "      <th>36</th>\n",
       "      <td>5</td>\n",
       "      <td>Device_0</td>\n",
       "      <td>1000</td>\n",
       "      <td>5</td>\n",
       "      <td>MobileNet</td>\n",
       "    </tr>\n",
       "    <tr>\n",
       "      <th>37</th>\n",
       "      <td>38</td>\n",
       "      <td>Device_1</td>\n",
       "      <td>1000</td>\n",
       "      <td>2</td>\n",
       "      <td>AlexNet</td>\n",
       "    </tr>\n",
       "    <tr>\n",
       "      <th>38</th>\n",
       "      <td>41</td>\n",
       "      <td>Device_1</td>\n",
       "      <td>1000</td>\n",
       "      <td>5</td>\n",
       "      <td>AlexNet</td>\n",
       "    </tr>\n",
       "    <tr>\n",
       "      <th>39</th>\n",
       "      <td>22</td>\n",
       "      <td>Device_0</td>\n",
       "      <td>2000</td>\n",
       "      <td>5</td>\n",
       "      <td>AlexNet</td>\n",
       "    </tr>\n",
       "    <tr>\n",
       "      <th>40</th>\n",
       "      <td>36</td>\n",
       "      <td>Device_0</td>\n",
       "      <td>2000</td>\n",
       "      <td>5</td>\n",
       "      <td>AlexNet</td>\n",
       "    </tr>\n",
       "    <tr>\n",
       "      <th>41</th>\n",
       "      <td>10</td>\n",
       "      <td>Device_0</td>\n",
       "      <td>1000</td>\n",
       "      <td>5</td>\n",
       "      <td>AlexNet</td>\n",
       "    </tr>\n",
       "    <tr>\n",
       "      <th>42</th>\n",
       "      <td>40</td>\n",
       "      <td>Device_1</td>\n",
       "      <td>1000</td>\n",
       "      <td>4</td>\n",
       "      <td>AlexNet</td>\n",
       "    </tr>\n",
       "    <tr>\n",
       "      <th>43</th>\n",
       "      <td>14</td>\n",
       "      <td>Device_0</td>\n",
       "      <td>1000</td>\n",
       "      <td>5</td>\n",
       "      <td>AlexNet</td>\n",
       "    </tr>\n",
       "    <tr>\n",
       "      <th>44</th>\n",
       "      <td>35</td>\n",
       "      <td>Device_0</td>\n",
       "      <td>2000</td>\n",
       "      <td>4</td>\n",
       "      <td>AlexNet</td>\n",
       "    </tr>\n",
       "    <tr>\n",
       "      <th>45</th>\n",
       "      <td>15</td>\n",
       "      <td>Device_0</td>\n",
       "      <td>1000</td>\n",
       "      <td>5</td>\n",
       "      <td>AlexNet</td>\n",
       "    </tr>\n",
       "    <tr>\n",
       "      <th>46</th>\n",
       "      <td>42</td>\n",
       "      <td>Device_0</td>\n",
       "      <td>1000</td>\n",
       "      <td>1</td>\n",
       "      <td>MobileNet</td>\n",
       "    </tr>\n",
       "  </tbody>\n",
       "</table>\n",
       "</div>"
      ],
      "text/plain": [
       "    TestId    Device  CPUFrequency (MHz)  Threads  MLNetwork\n",
       "0       17  Device_0                1000        5    AlexNet\n",
       "1       16  Device_0                1000        5    AlexNet\n",
       "2       39  Device_1                1000        3    AlexNet\n",
       "3       31  Device_0                1000        5    AlexNet\n",
       "4       30  Device_0                1000        4    AlexNet\n",
       "5       25  Device_0                2000        5    AlexNet\n",
       "6       45  Device_0                1000        4  MobileNet\n",
       "7       34  Device_0                2000        3    AlexNet\n",
       "8        6  Device_0                1000        5  MobileNet\n",
       "9       27  Device_0                1000        1    AlexNet\n",
       "10      46  Device_0                1000        5  MobileNet\n",
       "11      33  Device_0                2000        2    AlexNet\n",
       "12      24  Device_0                2000        5    AlexNet\n",
       "13       4  Device_0                1000        5  MobileNet\n",
       "14      32  Device_0                2000        1    AlexNet\n",
       "15       2  Device_0                1000        5  MobileNet\n",
       "16      37  Device_1                1000        1    AlexNet\n",
       "17      20  Device_0                2000        5    AlexNet\n",
       "18      23  Device_0                2000        5    AlexNet\n",
       "19      12  Device_0                1000        5    AlexNet\n",
       "20       1  Device_0                1000        5  MobileNet\n",
       "21       0  Device_0                1000        5  MobileNet\n",
       "22      21  Device_0                2000        5    AlexNet\n",
       "23      44  Device_0                1000        3  MobileNet\n",
       "24      29  Device_0                1000        3    AlexNet\n",
       "25      13  Device_0                1000        5    AlexNet\n",
       "26       7  Device_0                1000        5  MobileNet\n",
       "27       8  Device_0                1000        5  MobileNet\n",
       "28      19  Device_0                2000        5    AlexNet\n",
       "29       9  Device_0                1000        5    AlexNet\n",
       "30      26  Device_0                2000        5    AlexNet\n",
       "31      43  Device_0                1000        2  MobileNet\n",
       "32      28  Device_0                1000        2    AlexNet\n",
       "33      18  Device_0                2000        5    AlexNet\n",
       "34       3  Device_0                1000        5  MobileNet\n",
       "35      11  Device_0                1000        5    AlexNet\n",
       "36       5  Device_0                1000        5  MobileNet\n",
       "37      38  Device_1                1000        2    AlexNet\n",
       "38      41  Device_1                1000        5    AlexNet\n",
       "39      22  Device_0                2000        5    AlexNet\n",
       "40      36  Device_0                2000        5    AlexNet\n",
       "41      10  Device_0                1000        5    AlexNet\n",
       "42      40  Device_1                1000        4    AlexNet\n",
       "43      14  Device_0                1000        5    AlexNet\n",
       "44      35  Device_0                2000        4    AlexNet\n",
       "45      15  Device_0                1000        5    AlexNet\n",
       "46      42  Device_0                1000        1  MobileNet"
      ]
     },
     "execution_count": 78,
     "metadata": {},
     "output_type": "execute_result"
    }
   ],
   "source": [
    "#Importing csv\n",
    "spreadsheet = pd.read_csv(r'C:\\Users\\karth\\Desktop\\Data Science\\New folder (2)\\TestInfo.csv')\n",
    "spreadsheet"
   ]
  },
  {
   "cell_type": "code",
   "execution_count": 79,
   "metadata": {},
   "outputs": [
    {
     "data": {
      "text/html": [
       "<div>\n",
       "<style scoped>\n",
       "    .dataframe tbody tr th:only-of-type {\n",
       "        vertical-align: middle;\n",
       "    }\n",
       "\n",
       "    .dataframe tbody tr th {\n",
       "        vertical-align: top;\n",
       "    }\n",
       "\n",
       "    .dataframe thead th {\n",
       "        text-align: right;\n",
       "    }\n",
       "</style>\n",
       "<table border=\"1\" class=\"dataframe\">\n",
       "  <thead>\n",
       "    <tr style=\"text-align: right;\">\n",
       "      <th></th>\n",
       "      <th>TestId</th>\n",
       "      <th>Device</th>\n",
       "      <th>CPUFrequency (MHz)</th>\n",
       "      <th>Threads</th>\n",
       "      <th>MLNetwork</th>\n",
       "      <th>Build</th>\n",
       "      <th>Optimised</th>\n",
       "      <th>Time (ms)</th>\n",
       "      <th>PeakMemory (MB)</th>\n",
       "    </tr>\n",
       "  </thead>\n",
       "  <tbody>\n",
       "    <tr>\n",
       "      <th>0</th>\n",
       "      <td>17</td>\n",
       "      <td>Device_0</td>\n",
       "      <td>1000</td>\n",
       "      <td>5</td>\n",
       "      <td>AlexNet</td>\n",
       "      <td>9</td>\n",
       "      <td>N</td>\n",
       "      <td>102.000000</td>\n",
       "      <td>449</td>\n",
       "    </tr>\n",
       "    <tr>\n",
       "      <th>1</th>\n",
       "      <td>16</td>\n",
       "      <td>Device_0</td>\n",
       "      <td>1000</td>\n",
       "      <td>5</td>\n",
       "      <td>AlexNet</td>\n",
       "      <td>8</td>\n",
       "      <td>N</td>\n",
       "      <td>104.000000</td>\n",
       "      <td>453</td>\n",
       "    </tr>\n",
       "    <tr>\n",
       "      <th>2</th>\n",
       "      <td>39</td>\n",
       "      <td>Device_1</td>\n",
       "      <td>1000</td>\n",
       "      <td>3</td>\n",
       "      <td>AlexNet</td>\n",
       "      <td>10</td>\n",
       "      <td>N</td>\n",
       "      <td>333.333333</td>\n",
       "      <td>302</td>\n",
       "    </tr>\n",
       "    <tr>\n",
       "      <th>3</th>\n",
       "      <td>31</td>\n",
       "      <td>Device_0</td>\n",
       "      <td>1000</td>\n",
       "      <td>5</td>\n",
       "      <td>AlexNet</td>\n",
       "      <td>10</td>\n",
       "      <td>N</td>\n",
       "      <td>100.000000</td>\n",
       "      <td>449</td>\n",
       "    </tr>\n",
       "    <tr>\n",
       "      <th>4</th>\n",
       "      <td>30</td>\n",
       "      <td>Device_0</td>\n",
       "      <td>1000</td>\n",
       "      <td>4</td>\n",
       "      <td>AlexNet</td>\n",
       "      <td>10</td>\n",
       "      <td>N</td>\n",
       "      <td>125.000000</td>\n",
       "      <td>450</td>\n",
       "    </tr>\n",
       "    <tr>\n",
       "      <th>5</th>\n",
       "      <td>25</td>\n",
       "      <td>Device_0</td>\n",
       "      <td>2000</td>\n",
       "      <td>5</td>\n",
       "      <td>AlexNet</td>\n",
       "      <td>8</td>\n",
       "      <td>N</td>\n",
       "      <td>53.000000</td>\n",
       "      <td>458</td>\n",
       "    </tr>\n",
       "    <tr>\n",
       "      <th>6</th>\n",
       "      <td>45</td>\n",
       "      <td>Device_0</td>\n",
       "      <td>1000</td>\n",
       "      <td>4</td>\n",
       "      <td>MobileNet</td>\n",
       "      <td>10</td>\n",
       "      <td>Y</td>\n",
       "      <td>25.000000</td>\n",
       "      <td>85</td>\n",
       "    </tr>\n",
       "    <tr>\n",
       "      <th>7</th>\n",
       "      <td>34</td>\n",
       "      <td>Device_0</td>\n",
       "      <td>2000</td>\n",
       "      <td>3</td>\n",
       "      <td>AlexNet</td>\n",
       "      <td>10</td>\n",
       "      <td>N</td>\n",
       "      <td>83.333333</td>\n",
       "      <td>308</td>\n",
       "    </tr>\n",
       "    <tr>\n",
       "      <th>8</th>\n",
       "      <td>6</td>\n",
       "      <td>Device_0</td>\n",
       "      <td>1000</td>\n",
       "      <td>5</td>\n",
       "      <td>MobileNet</td>\n",
       "      <td>7</td>\n",
       "      <td>Y</td>\n",
       "      <td>25.000000</td>\n",
       "      <td>450</td>\n",
       "    </tr>\n",
       "    <tr>\n",
       "      <th>9</th>\n",
       "      <td>27</td>\n",
       "      <td>Device_0</td>\n",
       "      <td>1000</td>\n",
       "      <td>1</td>\n",
       "      <td>AlexNet</td>\n",
       "      <td>10</td>\n",
       "      <td>N</td>\n",
       "      <td>500.000000</td>\n",
       "      <td>300</td>\n",
       "    </tr>\n",
       "    <tr>\n",
       "      <th>10</th>\n",
       "      <td>46</td>\n",
       "      <td>Device_0</td>\n",
       "      <td>1000</td>\n",
       "      <td>5</td>\n",
       "      <td>MobileNet</td>\n",
       "      <td>10</td>\n",
       "      <td>Y</td>\n",
       "      <td>20.000000</td>\n",
       "      <td>86</td>\n",
       "    </tr>\n",
       "    <tr>\n",
       "      <th>11</th>\n",
       "      <td>33</td>\n",
       "      <td>Device_0</td>\n",
       "      <td>2000</td>\n",
       "      <td>2</td>\n",
       "      <td>AlexNet</td>\n",
       "      <td>10</td>\n",
       "      <td>N</td>\n",
       "      <td>125.000000</td>\n",
       "      <td>307</td>\n",
       "    </tr>\n",
       "    <tr>\n",
       "      <th>12</th>\n",
       "      <td>24</td>\n",
       "      <td>Device_0</td>\n",
       "      <td>2000</td>\n",
       "      <td>5</td>\n",
       "      <td>AlexNet</td>\n",
       "      <td>7</td>\n",
       "      <td>N</td>\n",
       "      <td>50.000000</td>\n",
       "      <td>458</td>\n",
       "    </tr>\n",
       "    <tr>\n",
       "      <th>13</th>\n",
       "      <td>4</td>\n",
       "      <td>Device_0</td>\n",
       "      <td>1000</td>\n",
       "      <td>5</td>\n",
       "      <td>MobileNet</td>\n",
       "      <td>5</td>\n",
       "      <td>N</td>\n",
       "      <td>63.000000</td>\n",
       "      <td>448</td>\n",
       "    </tr>\n",
       "    <tr>\n",
       "      <th>14</th>\n",
       "      <td>32</td>\n",
       "      <td>Device_0</td>\n",
       "      <td>2000</td>\n",
       "      <td>1</td>\n",
       "      <td>AlexNet</td>\n",
       "      <td>10</td>\n",
       "      <td>N</td>\n",
       "      <td>250.000000</td>\n",
       "      <td>301</td>\n",
       "    </tr>\n",
       "    <tr>\n",
       "      <th>15</th>\n",
       "      <td>2</td>\n",
       "      <td>Device_0</td>\n",
       "      <td>1000</td>\n",
       "      <td>5</td>\n",
       "      <td>MobileNet</td>\n",
       "      <td>3</td>\n",
       "      <td>N</td>\n",
       "      <td>65.000000</td>\n",
       "      <td>450</td>\n",
       "    </tr>\n",
       "    <tr>\n",
       "      <th>16</th>\n",
       "      <td>37</td>\n",
       "      <td>Device_1</td>\n",
       "      <td>1000</td>\n",
       "      <td>1</td>\n",
       "      <td>AlexNet</td>\n",
       "      <td>10</td>\n",
       "      <td>N</td>\n",
       "      <td>800.000000</td>\n",
       "      <td>298</td>\n",
       "    </tr>\n",
       "    <tr>\n",
       "      <th>17</th>\n",
       "      <td>20</td>\n",
       "      <td>Device_0</td>\n",
       "      <td>2000</td>\n",
       "      <td>5</td>\n",
       "      <td>AlexNet</td>\n",
       "      <td>3</td>\n",
       "      <td>N</td>\n",
       "      <td>52.000000</td>\n",
       "      <td>457</td>\n",
       "    </tr>\n",
       "    <tr>\n",
       "      <th>18</th>\n",
       "      <td>23</td>\n",
       "      <td>Device_0</td>\n",
       "      <td>2000</td>\n",
       "      <td>5</td>\n",
       "      <td>AlexNet</td>\n",
       "      <td>6</td>\n",
       "      <td>N</td>\n",
       "      <td>54.000000</td>\n",
       "      <td>458</td>\n",
       "    </tr>\n",
       "    <tr>\n",
       "      <th>19</th>\n",
       "      <td>12</td>\n",
       "      <td>Device_0</td>\n",
       "      <td>1000</td>\n",
       "      <td>5</td>\n",
       "      <td>AlexNet</td>\n",
       "      <td>4</td>\n",
       "      <td>N</td>\n",
       "      <td>102.000000</td>\n",
       "      <td>453</td>\n",
       "    </tr>\n",
       "    <tr>\n",
       "      <th>20</th>\n",
       "      <td>1</td>\n",
       "      <td>Device_0</td>\n",
       "      <td>1000</td>\n",
       "      <td>5</td>\n",
       "      <td>MobileNet</td>\n",
       "      <td>2</td>\n",
       "      <td>N</td>\n",
       "      <td>64.000000</td>\n",
       "      <td>451</td>\n",
       "    </tr>\n",
       "    <tr>\n",
       "      <th>21</th>\n",
       "      <td>0</td>\n",
       "      <td>Device_0</td>\n",
       "      <td>1000</td>\n",
       "      <td>5</td>\n",
       "      <td>MobileNet</td>\n",
       "      <td>1</td>\n",
       "      <td>N</td>\n",
       "      <td>65.000000</td>\n",
       "      <td>450</td>\n",
       "    </tr>\n",
       "    <tr>\n",
       "      <th>22</th>\n",
       "      <td>21</td>\n",
       "      <td>Device_0</td>\n",
       "      <td>2000</td>\n",
       "      <td>5</td>\n",
       "      <td>AlexNet</td>\n",
       "      <td>4</td>\n",
       "      <td>N</td>\n",
       "      <td>50.000000</td>\n",
       "      <td>457</td>\n",
       "    </tr>\n",
       "    <tr>\n",
       "      <th>23</th>\n",
       "      <td>44</td>\n",
       "      <td>Device_0</td>\n",
       "      <td>1000</td>\n",
       "      <td>3</td>\n",
       "      <td>MobileNet</td>\n",
       "      <td>10</td>\n",
       "      <td>Y</td>\n",
       "      <td>33.333333</td>\n",
       "      <td>53</td>\n",
       "    </tr>\n",
       "    <tr>\n",
       "      <th>24</th>\n",
       "      <td>29</td>\n",
       "      <td>Device_0</td>\n",
       "      <td>1000</td>\n",
       "      <td>3</td>\n",
       "      <td>AlexNet</td>\n",
       "      <td>10</td>\n",
       "      <td>N</td>\n",
       "      <td>166.666667</td>\n",
       "      <td>311</td>\n",
       "    </tr>\n",
       "    <tr>\n",
       "      <th>25</th>\n",
       "      <td>13</td>\n",
       "      <td>Device_0</td>\n",
       "      <td>1000</td>\n",
       "      <td>5</td>\n",
       "      <td>AlexNet</td>\n",
       "      <td>5</td>\n",
       "      <td>N</td>\n",
       "      <td>101.000000</td>\n",
       "      <td>452</td>\n",
       "    </tr>\n",
       "    <tr>\n",
       "      <th>26</th>\n",
       "      <td>7</td>\n",
       "      <td>Device_0</td>\n",
       "      <td>1000</td>\n",
       "      <td>5</td>\n",
       "      <td>MobileNet</td>\n",
       "      <td>8</td>\n",
       "      <td>Y</td>\n",
       "      <td>23.000000</td>\n",
       "      <td>451</td>\n",
       "    </tr>\n",
       "    <tr>\n",
       "      <th>27</th>\n",
       "      <td>8</td>\n",
       "      <td>Device_0</td>\n",
       "      <td>1000</td>\n",
       "      <td>5</td>\n",
       "      <td>MobileNet</td>\n",
       "      <td>9</td>\n",
       "      <td>Y</td>\n",
       "      <td>19.000000</td>\n",
       "      <td>449</td>\n",
       "    </tr>\n",
       "    <tr>\n",
       "      <th>28</th>\n",
       "      <td>19</td>\n",
       "      <td>Device_0</td>\n",
       "      <td>2000</td>\n",
       "      <td>5</td>\n",
       "      <td>AlexNet</td>\n",
       "      <td>2</td>\n",
       "      <td>N</td>\n",
       "      <td>53.000000</td>\n",
       "      <td>456</td>\n",
       "    </tr>\n",
       "    <tr>\n",
       "      <th>29</th>\n",
       "      <td>9</td>\n",
       "      <td>Device_0</td>\n",
       "      <td>1000</td>\n",
       "      <td>5</td>\n",
       "      <td>AlexNet</td>\n",
       "      <td>1</td>\n",
       "      <td>N</td>\n",
       "      <td>101.000000</td>\n",
       "      <td>450</td>\n",
       "    </tr>\n",
       "    <tr>\n",
       "      <th>30</th>\n",
       "      <td>26</td>\n",
       "      <td>Device_0</td>\n",
       "      <td>2000</td>\n",
       "      <td>5</td>\n",
       "      <td>AlexNet</td>\n",
       "      <td>9</td>\n",
       "      <td>N</td>\n",
       "      <td>53.000000</td>\n",
       "      <td>457</td>\n",
       "    </tr>\n",
       "    <tr>\n",
       "      <th>31</th>\n",
       "      <td>43</td>\n",
       "      <td>Device_0</td>\n",
       "      <td>1000</td>\n",
       "      <td>2</td>\n",
       "      <td>MobileNet</td>\n",
       "      <td>10</td>\n",
       "      <td>Y</td>\n",
       "      <td>50.000000</td>\n",
       "      <td>50</td>\n",
       "    </tr>\n",
       "    <tr>\n",
       "      <th>32</th>\n",
       "      <td>28</td>\n",
       "      <td>Device_0</td>\n",
       "      <td>1000</td>\n",
       "      <td>2</td>\n",
       "      <td>AlexNet</td>\n",
       "      <td>10</td>\n",
       "      <td>N</td>\n",
       "      <td>250.000000</td>\n",
       "      <td>310</td>\n",
       "    </tr>\n",
       "    <tr>\n",
       "      <th>33</th>\n",
       "      <td>18</td>\n",
       "      <td>Device_0</td>\n",
       "      <td>2000</td>\n",
       "      <td>5</td>\n",
       "      <td>AlexNet</td>\n",
       "      <td>1</td>\n",
       "      <td>N</td>\n",
       "      <td>53.000000</td>\n",
       "      <td>456</td>\n",
       "    </tr>\n",
       "    <tr>\n",
       "      <th>34</th>\n",
       "      <td>3</td>\n",
       "      <td>Device_0</td>\n",
       "      <td>1000</td>\n",
       "      <td>5</td>\n",
       "      <td>MobileNet</td>\n",
       "      <td>4</td>\n",
       "      <td>N</td>\n",
       "      <td>66.000000</td>\n",
       "      <td>450</td>\n",
       "    </tr>\n",
       "    <tr>\n",
       "      <th>35</th>\n",
       "      <td>11</td>\n",
       "      <td>Device_0</td>\n",
       "      <td>1000</td>\n",
       "      <td>5</td>\n",
       "      <td>AlexNet</td>\n",
       "      <td>3</td>\n",
       "      <td>N</td>\n",
       "      <td>104.000000</td>\n",
       "      <td>453</td>\n",
       "    </tr>\n",
       "    <tr>\n",
       "      <th>36</th>\n",
       "      <td>5</td>\n",
       "      <td>Device_0</td>\n",
       "      <td>1000</td>\n",
       "      <td>5</td>\n",
       "      <td>MobileNet</td>\n",
       "      <td>6</td>\n",
       "      <td>Y</td>\n",
       "      <td>21.000000</td>\n",
       "      <td>449</td>\n",
       "    </tr>\n",
       "    <tr>\n",
       "      <th>37</th>\n",
       "      <td>38</td>\n",
       "      <td>Device_1</td>\n",
       "      <td>1000</td>\n",
       "      <td>2</td>\n",
       "      <td>AlexNet</td>\n",
       "      <td>10</td>\n",
       "      <td>N</td>\n",
       "      <td>500.000000</td>\n",
       "      <td>305</td>\n",
       "    </tr>\n",
       "    <tr>\n",
       "      <th>38</th>\n",
       "      <td>41</td>\n",
       "      <td>Device_1</td>\n",
       "      <td>1000</td>\n",
       "      <td>5</td>\n",
       "      <td>AlexNet</td>\n",
       "      <td>10</td>\n",
       "      <td>N</td>\n",
       "      <td>200.000000</td>\n",
       "      <td>454</td>\n",
       "    </tr>\n",
       "    <tr>\n",
       "      <th>39</th>\n",
       "      <td>22</td>\n",
       "      <td>Device_0</td>\n",
       "      <td>2000</td>\n",
       "      <td>5</td>\n",
       "      <td>AlexNet</td>\n",
       "      <td>5</td>\n",
       "      <td>N</td>\n",
       "      <td>51.000000</td>\n",
       "      <td>456</td>\n",
       "    </tr>\n",
       "    <tr>\n",
       "      <th>40</th>\n",
       "      <td>36</td>\n",
       "      <td>Device_0</td>\n",
       "      <td>2000</td>\n",
       "      <td>5</td>\n",
       "      <td>AlexNet</td>\n",
       "      <td>10</td>\n",
       "      <td>N</td>\n",
       "      <td>50.000000</td>\n",
       "      <td>458</td>\n",
       "    </tr>\n",
       "    <tr>\n",
       "      <th>41</th>\n",
       "      <td>10</td>\n",
       "      <td>Device_0</td>\n",
       "      <td>1000</td>\n",
       "      <td>5</td>\n",
       "      <td>AlexNet</td>\n",
       "      <td>2</td>\n",
       "      <td>N</td>\n",
       "      <td>102.000000</td>\n",
       "      <td>449</td>\n",
       "    </tr>\n",
       "    <tr>\n",
       "      <th>42</th>\n",
       "      <td>40</td>\n",
       "      <td>Device_1</td>\n",
       "      <td>1000</td>\n",
       "      <td>4</td>\n",
       "      <td>AlexNet</td>\n",
       "      <td>10</td>\n",
       "      <td>N</td>\n",
       "      <td>250.000000</td>\n",
       "      <td>449</td>\n",
       "    </tr>\n",
       "    <tr>\n",
       "      <th>43</th>\n",
       "      <td>14</td>\n",
       "      <td>Device_0</td>\n",
       "      <td>1000</td>\n",
       "      <td>5</td>\n",
       "      <td>AlexNet</td>\n",
       "      <td>6</td>\n",
       "      <td>N</td>\n",
       "      <td>99.000000</td>\n",
       "      <td>450</td>\n",
       "    </tr>\n",
       "    <tr>\n",
       "      <th>44</th>\n",
       "      <td>35</td>\n",
       "      <td>Device_0</td>\n",
       "      <td>2000</td>\n",
       "      <td>4</td>\n",
       "      <td>AlexNet</td>\n",
       "      <td>10</td>\n",
       "      <td>N</td>\n",
       "      <td>300.000000</td>\n",
       "      <td>460</td>\n",
       "    </tr>\n",
       "    <tr>\n",
       "      <th>45</th>\n",
       "      <td>15</td>\n",
       "      <td>Device_0</td>\n",
       "      <td>1000</td>\n",
       "      <td>5</td>\n",
       "      <td>AlexNet</td>\n",
       "      <td>7</td>\n",
       "      <td>N</td>\n",
       "      <td>97.000000</td>\n",
       "      <td>455</td>\n",
       "    </tr>\n",
       "    <tr>\n",
       "      <th>46</th>\n",
       "      <td>42</td>\n",
       "      <td>Device_0</td>\n",
       "      <td>1000</td>\n",
       "      <td>1</td>\n",
       "      <td>MobileNet</td>\n",
       "      <td>10</td>\n",
       "      <td>Y</td>\n",
       "      <td>100.000000</td>\n",
       "      <td>51</td>\n",
       "    </tr>\n",
       "  </tbody>\n",
       "</table>\n",
       "</div>"
      ],
      "text/plain": [
       "    TestId    Device  CPUFrequency (MHz)  Threads  MLNetwork  Build Optimised  \\\n",
       "0       17  Device_0                1000        5    AlexNet      9         N   \n",
       "1       16  Device_0                1000        5    AlexNet      8         N   \n",
       "2       39  Device_1                1000        3    AlexNet     10         N   \n",
       "3       31  Device_0                1000        5    AlexNet     10         N   \n",
       "4       30  Device_0                1000        4    AlexNet     10         N   \n",
       "5       25  Device_0                2000        5    AlexNet      8         N   \n",
       "6       45  Device_0                1000        4  MobileNet     10         Y   \n",
       "7       34  Device_0                2000        3    AlexNet     10         N   \n",
       "8        6  Device_0                1000        5  MobileNet      7         Y   \n",
       "9       27  Device_0                1000        1    AlexNet     10         N   \n",
       "10      46  Device_0                1000        5  MobileNet     10         Y   \n",
       "11      33  Device_0                2000        2    AlexNet     10         N   \n",
       "12      24  Device_0                2000        5    AlexNet      7         N   \n",
       "13       4  Device_0                1000        5  MobileNet      5         N   \n",
       "14      32  Device_0                2000        1    AlexNet     10         N   \n",
       "15       2  Device_0                1000        5  MobileNet      3         N   \n",
       "16      37  Device_1                1000        1    AlexNet     10         N   \n",
       "17      20  Device_0                2000        5    AlexNet      3         N   \n",
       "18      23  Device_0                2000        5    AlexNet      6         N   \n",
       "19      12  Device_0                1000        5    AlexNet      4         N   \n",
       "20       1  Device_0                1000        5  MobileNet      2         N   \n",
       "21       0  Device_0                1000        5  MobileNet      1         N   \n",
       "22      21  Device_0                2000        5    AlexNet      4         N   \n",
       "23      44  Device_0                1000        3  MobileNet     10         Y   \n",
       "24      29  Device_0                1000        3    AlexNet     10         N   \n",
       "25      13  Device_0                1000        5    AlexNet      5         N   \n",
       "26       7  Device_0                1000        5  MobileNet      8         Y   \n",
       "27       8  Device_0                1000        5  MobileNet      9         Y   \n",
       "28      19  Device_0                2000        5    AlexNet      2         N   \n",
       "29       9  Device_0                1000        5    AlexNet      1         N   \n",
       "30      26  Device_0                2000        5    AlexNet      9         N   \n",
       "31      43  Device_0                1000        2  MobileNet     10         Y   \n",
       "32      28  Device_0                1000        2    AlexNet     10         N   \n",
       "33      18  Device_0                2000        5    AlexNet      1         N   \n",
       "34       3  Device_0                1000        5  MobileNet      4         N   \n",
       "35      11  Device_0                1000        5    AlexNet      3         N   \n",
       "36       5  Device_0                1000        5  MobileNet      6         Y   \n",
       "37      38  Device_1                1000        2    AlexNet     10         N   \n",
       "38      41  Device_1                1000        5    AlexNet     10         N   \n",
       "39      22  Device_0                2000        5    AlexNet      5         N   \n",
       "40      36  Device_0                2000        5    AlexNet     10         N   \n",
       "41      10  Device_0                1000        5    AlexNet      2         N   \n",
       "42      40  Device_1                1000        4    AlexNet     10         N   \n",
       "43      14  Device_0                1000        5    AlexNet      6         N   \n",
       "44      35  Device_0                2000        4    AlexNet     10         N   \n",
       "45      15  Device_0                1000        5    AlexNet      7         N   \n",
       "46      42  Device_0                1000        1  MobileNet     10         Y   \n",
       "\n",
       "     Time (ms)  PeakMemory (MB)  \n",
       "0   102.000000              449  \n",
       "1   104.000000              453  \n",
       "2   333.333333              302  \n",
       "3   100.000000              449  \n",
       "4   125.000000              450  \n",
       "5    53.000000              458  \n",
       "6    25.000000               85  \n",
       "7    83.333333              308  \n",
       "8    25.000000              450  \n",
       "9   500.000000              300  \n",
       "10   20.000000               86  \n",
       "11  125.000000              307  \n",
       "12   50.000000              458  \n",
       "13   63.000000              448  \n",
       "14  250.000000              301  \n",
       "15   65.000000              450  \n",
       "16  800.000000              298  \n",
       "17   52.000000              457  \n",
       "18   54.000000              458  \n",
       "19  102.000000              453  \n",
       "20   64.000000              451  \n",
       "21   65.000000              450  \n",
       "22   50.000000              457  \n",
       "23   33.333333               53  \n",
       "24  166.666667              311  \n",
       "25  101.000000              452  \n",
       "26   23.000000              451  \n",
       "27   19.000000              449  \n",
       "28   53.000000              456  \n",
       "29  101.000000              450  \n",
       "30   53.000000              457  \n",
       "31   50.000000               50  \n",
       "32  250.000000              310  \n",
       "33   53.000000              456  \n",
       "34   66.000000              450  \n",
       "35  104.000000              453  \n",
       "36   21.000000              449  \n",
       "37  500.000000              305  \n",
       "38  200.000000              454  \n",
       "39   51.000000              456  \n",
       "40   50.000000              458  \n",
       "41  102.000000              449  \n",
       "42  250.000000              449  \n",
       "43   99.000000              450  \n",
       "44  300.000000              460  \n",
       "45   97.000000              455  \n",
       "46  100.000000               51  "
      ]
     },
     "execution_count": 79,
     "metadata": {},
     "output_type": "execute_result"
    }
   ],
   "source": [
    "#Mergeing the datasets\n",
    "merge = pd.merge(spreadsheet, obj, how='inner', on=['TestId'])\n",
    "merge"
   ]
  },
  {
   "cell_type": "code",
   "execution_count": 80,
   "metadata": {},
   "outputs": [
    {
     "data": {
      "text/html": [
       "<div>\n",
       "<style scoped>\n",
       "    .dataframe tbody tr th:only-of-type {\n",
       "        vertical-align: middle;\n",
       "    }\n",
       "\n",
       "    .dataframe tbody tr th {\n",
       "        vertical-align: top;\n",
       "    }\n",
       "\n",
       "    .dataframe thead th {\n",
       "        text-align: right;\n",
       "    }\n",
       "</style>\n",
       "<table border=\"1\" class=\"dataframe\">\n",
       "  <thead>\n",
       "    <tr style=\"text-align: right;\">\n",
       "      <th></th>\n",
       "      <th>TestId</th>\n",
       "      <th>Device</th>\n",
       "      <th>CPUFrequency (MHz)</th>\n",
       "      <th>Threads</th>\n",
       "      <th>MLNetwork</th>\n",
       "      <th>Build</th>\n",
       "      <th>Optimised</th>\n",
       "      <th>Time (ms)</th>\n",
       "      <th>PeakMemory (MB)</th>\n",
       "    </tr>\n",
       "  </thead>\n",
       "  <tbody>\n",
       "    <tr>\n",
       "      <th>33</th>\n",
       "      <td>18</td>\n",
       "      <td>Device_0</td>\n",
       "      <td>2000</td>\n",
       "      <td>5</td>\n",
       "      <td>AlexNet</td>\n",
       "      <td>1</td>\n",
       "      <td>N</td>\n",
       "      <td>53.000000</td>\n",
       "      <td>456</td>\n",
       "    </tr>\n",
       "    <tr>\n",
       "      <th>29</th>\n",
       "      <td>9</td>\n",
       "      <td>Device_0</td>\n",
       "      <td>1000</td>\n",
       "      <td>5</td>\n",
       "      <td>AlexNet</td>\n",
       "      <td>1</td>\n",
       "      <td>N</td>\n",
       "      <td>101.000000</td>\n",
       "      <td>450</td>\n",
       "    </tr>\n",
       "    <tr>\n",
       "      <th>21</th>\n",
       "      <td>0</td>\n",
       "      <td>Device_0</td>\n",
       "      <td>1000</td>\n",
       "      <td>5</td>\n",
       "      <td>MobileNet</td>\n",
       "      <td>1</td>\n",
       "      <td>N</td>\n",
       "      <td>65.000000</td>\n",
       "      <td>450</td>\n",
       "    </tr>\n",
       "    <tr>\n",
       "      <th>28</th>\n",
       "      <td>19</td>\n",
       "      <td>Device_0</td>\n",
       "      <td>2000</td>\n",
       "      <td>5</td>\n",
       "      <td>AlexNet</td>\n",
       "      <td>2</td>\n",
       "      <td>N</td>\n",
       "      <td>53.000000</td>\n",
       "      <td>456</td>\n",
       "    </tr>\n",
       "    <tr>\n",
       "      <th>20</th>\n",
       "      <td>1</td>\n",
       "      <td>Device_0</td>\n",
       "      <td>1000</td>\n",
       "      <td>5</td>\n",
       "      <td>MobileNet</td>\n",
       "      <td>2</td>\n",
       "      <td>N</td>\n",
       "      <td>64.000000</td>\n",
       "      <td>451</td>\n",
       "    </tr>\n",
       "    <tr>\n",
       "      <th>41</th>\n",
       "      <td>10</td>\n",
       "      <td>Device_0</td>\n",
       "      <td>1000</td>\n",
       "      <td>5</td>\n",
       "      <td>AlexNet</td>\n",
       "      <td>2</td>\n",
       "      <td>N</td>\n",
       "      <td>102.000000</td>\n",
       "      <td>449</td>\n",
       "    </tr>\n",
       "    <tr>\n",
       "      <th>17</th>\n",
       "      <td>20</td>\n",
       "      <td>Device_0</td>\n",
       "      <td>2000</td>\n",
       "      <td>5</td>\n",
       "      <td>AlexNet</td>\n",
       "      <td>3</td>\n",
       "      <td>N</td>\n",
       "      <td>52.000000</td>\n",
       "      <td>457</td>\n",
       "    </tr>\n",
       "    <tr>\n",
       "      <th>35</th>\n",
       "      <td>11</td>\n",
       "      <td>Device_0</td>\n",
       "      <td>1000</td>\n",
       "      <td>5</td>\n",
       "      <td>AlexNet</td>\n",
       "      <td>3</td>\n",
       "      <td>N</td>\n",
       "      <td>104.000000</td>\n",
       "      <td>453</td>\n",
       "    </tr>\n",
       "    <tr>\n",
       "      <th>15</th>\n",
       "      <td>2</td>\n",
       "      <td>Device_0</td>\n",
       "      <td>1000</td>\n",
       "      <td>5</td>\n",
       "      <td>MobileNet</td>\n",
       "      <td>3</td>\n",
       "      <td>N</td>\n",
       "      <td>65.000000</td>\n",
       "      <td>450</td>\n",
       "    </tr>\n",
       "    <tr>\n",
       "      <th>19</th>\n",
       "      <td>12</td>\n",
       "      <td>Device_0</td>\n",
       "      <td>1000</td>\n",
       "      <td>5</td>\n",
       "      <td>AlexNet</td>\n",
       "      <td>4</td>\n",
       "      <td>N</td>\n",
       "      <td>102.000000</td>\n",
       "      <td>453</td>\n",
       "    </tr>\n",
       "    <tr>\n",
       "      <th>22</th>\n",
       "      <td>21</td>\n",
       "      <td>Device_0</td>\n",
       "      <td>2000</td>\n",
       "      <td>5</td>\n",
       "      <td>AlexNet</td>\n",
       "      <td>4</td>\n",
       "      <td>N</td>\n",
       "      <td>50.000000</td>\n",
       "      <td>457</td>\n",
       "    </tr>\n",
       "    <tr>\n",
       "      <th>34</th>\n",
       "      <td>3</td>\n",
       "      <td>Device_0</td>\n",
       "      <td>1000</td>\n",
       "      <td>5</td>\n",
       "      <td>MobileNet</td>\n",
       "      <td>4</td>\n",
       "      <td>N</td>\n",
       "      <td>66.000000</td>\n",
       "      <td>450</td>\n",
       "    </tr>\n",
       "    <tr>\n",
       "      <th>39</th>\n",
       "      <td>22</td>\n",
       "      <td>Device_0</td>\n",
       "      <td>2000</td>\n",
       "      <td>5</td>\n",
       "      <td>AlexNet</td>\n",
       "      <td>5</td>\n",
       "      <td>N</td>\n",
       "      <td>51.000000</td>\n",
       "      <td>456</td>\n",
       "    </tr>\n",
       "    <tr>\n",
       "      <th>13</th>\n",
       "      <td>4</td>\n",
       "      <td>Device_0</td>\n",
       "      <td>1000</td>\n",
       "      <td>5</td>\n",
       "      <td>MobileNet</td>\n",
       "      <td>5</td>\n",
       "      <td>N</td>\n",
       "      <td>63.000000</td>\n",
       "      <td>448</td>\n",
       "    </tr>\n",
       "    <tr>\n",
       "      <th>25</th>\n",
       "      <td>13</td>\n",
       "      <td>Device_0</td>\n",
       "      <td>1000</td>\n",
       "      <td>5</td>\n",
       "      <td>AlexNet</td>\n",
       "      <td>5</td>\n",
       "      <td>N</td>\n",
       "      <td>101.000000</td>\n",
       "      <td>452</td>\n",
       "    </tr>\n",
       "    <tr>\n",
       "      <th>36</th>\n",
       "      <td>5</td>\n",
       "      <td>Device_0</td>\n",
       "      <td>1000</td>\n",
       "      <td>5</td>\n",
       "      <td>MobileNet</td>\n",
       "      <td>6</td>\n",
       "      <td>Y</td>\n",
       "      <td>21.000000</td>\n",
       "      <td>449</td>\n",
       "    </tr>\n",
       "    <tr>\n",
       "      <th>18</th>\n",
       "      <td>23</td>\n",
       "      <td>Device_0</td>\n",
       "      <td>2000</td>\n",
       "      <td>5</td>\n",
       "      <td>AlexNet</td>\n",
       "      <td>6</td>\n",
       "      <td>N</td>\n",
       "      <td>54.000000</td>\n",
       "      <td>458</td>\n",
       "    </tr>\n",
       "    <tr>\n",
       "      <th>43</th>\n",
       "      <td>14</td>\n",
       "      <td>Device_0</td>\n",
       "      <td>1000</td>\n",
       "      <td>5</td>\n",
       "      <td>AlexNet</td>\n",
       "      <td>6</td>\n",
       "      <td>N</td>\n",
       "      <td>99.000000</td>\n",
       "      <td>450</td>\n",
       "    </tr>\n",
       "    <tr>\n",
       "      <th>12</th>\n",
       "      <td>24</td>\n",
       "      <td>Device_0</td>\n",
       "      <td>2000</td>\n",
       "      <td>5</td>\n",
       "      <td>AlexNet</td>\n",
       "      <td>7</td>\n",
       "      <td>N</td>\n",
       "      <td>50.000000</td>\n",
       "      <td>458</td>\n",
       "    </tr>\n",
       "    <tr>\n",
       "      <th>8</th>\n",
       "      <td>6</td>\n",
       "      <td>Device_0</td>\n",
       "      <td>1000</td>\n",
       "      <td>5</td>\n",
       "      <td>MobileNet</td>\n",
       "      <td>7</td>\n",
       "      <td>Y</td>\n",
       "      <td>25.000000</td>\n",
       "      <td>450</td>\n",
       "    </tr>\n",
       "    <tr>\n",
       "      <th>45</th>\n",
       "      <td>15</td>\n",
       "      <td>Device_0</td>\n",
       "      <td>1000</td>\n",
       "      <td>5</td>\n",
       "      <td>AlexNet</td>\n",
       "      <td>7</td>\n",
       "      <td>N</td>\n",
       "      <td>97.000000</td>\n",
       "      <td>455</td>\n",
       "    </tr>\n",
       "    <tr>\n",
       "      <th>1</th>\n",
       "      <td>16</td>\n",
       "      <td>Device_0</td>\n",
       "      <td>1000</td>\n",
       "      <td>5</td>\n",
       "      <td>AlexNet</td>\n",
       "      <td>8</td>\n",
       "      <td>N</td>\n",
       "      <td>104.000000</td>\n",
       "      <td>453</td>\n",
       "    </tr>\n",
       "    <tr>\n",
       "      <th>26</th>\n",
       "      <td>7</td>\n",
       "      <td>Device_0</td>\n",
       "      <td>1000</td>\n",
       "      <td>5</td>\n",
       "      <td>MobileNet</td>\n",
       "      <td>8</td>\n",
       "      <td>Y</td>\n",
       "      <td>23.000000</td>\n",
       "      <td>451</td>\n",
       "    </tr>\n",
       "    <tr>\n",
       "      <th>5</th>\n",
       "      <td>25</td>\n",
       "      <td>Device_0</td>\n",
       "      <td>2000</td>\n",
       "      <td>5</td>\n",
       "      <td>AlexNet</td>\n",
       "      <td>8</td>\n",
       "      <td>N</td>\n",
       "      <td>53.000000</td>\n",
       "      <td>458</td>\n",
       "    </tr>\n",
       "    <tr>\n",
       "      <th>27</th>\n",
       "      <td>8</td>\n",
       "      <td>Device_0</td>\n",
       "      <td>1000</td>\n",
       "      <td>5</td>\n",
       "      <td>MobileNet</td>\n",
       "      <td>9</td>\n",
       "      <td>Y</td>\n",
       "      <td>19.000000</td>\n",
       "      <td>449</td>\n",
       "    </tr>\n",
       "    <tr>\n",
       "      <th>0</th>\n",
       "      <td>17</td>\n",
       "      <td>Device_0</td>\n",
       "      <td>1000</td>\n",
       "      <td>5</td>\n",
       "      <td>AlexNet</td>\n",
       "      <td>9</td>\n",
       "      <td>N</td>\n",
       "      <td>102.000000</td>\n",
       "      <td>449</td>\n",
       "    </tr>\n",
       "    <tr>\n",
       "      <th>30</th>\n",
       "      <td>26</td>\n",
       "      <td>Device_0</td>\n",
       "      <td>2000</td>\n",
       "      <td>5</td>\n",
       "      <td>AlexNet</td>\n",
       "      <td>9</td>\n",
       "      <td>N</td>\n",
       "      <td>53.000000</td>\n",
       "      <td>457</td>\n",
       "    </tr>\n",
       "    <tr>\n",
       "      <th>37</th>\n",
       "      <td>38</td>\n",
       "      <td>Device_1</td>\n",
       "      <td>1000</td>\n",
       "      <td>2</td>\n",
       "      <td>AlexNet</td>\n",
       "      <td>10</td>\n",
       "      <td>N</td>\n",
       "      <td>500.000000</td>\n",
       "      <td>305</td>\n",
       "    </tr>\n",
       "    <tr>\n",
       "      <th>44</th>\n",
       "      <td>35</td>\n",
       "      <td>Device_0</td>\n",
       "      <td>2000</td>\n",
       "      <td>4</td>\n",
       "      <td>AlexNet</td>\n",
       "      <td>10</td>\n",
       "      <td>N</td>\n",
       "      <td>300.000000</td>\n",
       "      <td>460</td>\n",
       "    </tr>\n",
       "    <tr>\n",
       "      <th>38</th>\n",
       "      <td>41</td>\n",
       "      <td>Device_1</td>\n",
       "      <td>1000</td>\n",
       "      <td>5</td>\n",
       "      <td>AlexNet</td>\n",
       "      <td>10</td>\n",
       "      <td>N</td>\n",
       "      <td>200.000000</td>\n",
       "      <td>454</td>\n",
       "    </tr>\n",
       "    <tr>\n",
       "      <th>40</th>\n",
       "      <td>36</td>\n",
       "      <td>Device_0</td>\n",
       "      <td>2000</td>\n",
       "      <td>5</td>\n",
       "      <td>AlexNet</td>\n",
       "      <td>10</td>\n",
       "      <td>N</td>\n",
       "      <td>50.000000</td>\n",
       "      <td>458</td>\n",
       "    </tr>\n",
       "    <tr>\n",
       "      <th>42</th>\n",
       "      <td>40</td>\n",
       "      <td>Device_1</td>\n",
       "      <td>1000</td>\n",
       "      <td>4</td>\n",
       "      <td>AlexNet</td>\n",
       "      <td>10</td>\n",
       "      <td>N</td>\n",
       "      <td>250.000000</td>\n",
       "      <td>449</td>\n",
       "    </tr>\n",
       "    <tr>\n",
       "      <th>23</th>\n",
       "      <td>44</td>\n",
       "      <td>Device_0</td>\n",
       "      <td>1000</td>\n",
       "      <td>3</td>\n",
       "      <td>MobileNet</td>\n",
       "      <td>10</td>\n",
       "      <td>Y</td>\n",
       "      <td>33.333333</td>\n",
       "      <td>53</td>\n",
       "    </tr>\n",
       "    <tr>\n",
       "      <th>31</th>\n",
       "      <td>43</td>\n",
       "      <td>Device_0</td>\n",
       "      <td>1000</td>\n",
       "      <td>2</td>\n",
       "      <td>MobileNet</td>\n",
       "      <td>10</td>\n",
       "      <td>Y</td>\n",
       "      <td>50.000000</td>\n",
       "      <td>50</td>\n",
       "    </tr>\n",
       "    <tr>\n",
       "      <th>24</th>\n",
       "      <td>29</td>\n",
       "      <td>Device_0</td>\n",
       "      <td>1000</td>\n",
       "      <td>3</td>\n",
       "      <td>AlexNet</td>\n",
       "      <td>10</td>\n",
       "      <td>N</td>\n",
       "      <td>166.666667</td>\n",
       "      <td>311</td>\n",
       "    </tr>\n",
       "    <tr>\n",
       "      <th>16</th>\n",
       "      <td>37</td>\n",
       "      <td>Device_1</td>\n",
       "      <td>1000</td>\n",
       "      <td>1</td>\n",
       "      <td>AlexNet</td>\n",
       "      <td>10</td>\n",
       "      <td>N</td>\n",
       "      <td>800.000000</td>\n",
       "      <td>298</td>\n",
       "    </tr>\n",
       "    <tr>\n",
       "      <th>14</th>\n",
       "      <td>32</td>\n",
       "      <td>Device_0</td>\n",
       "      <td>2000</td>\n",
       "      <td>1</td>\n",
       "      <td>AlexNet</td>\n",
       "      <td>10</td>\n",
       "      <td>N</td>\n",
       "      <td>250.000000</td>\n",
       "      <td>301</td>\n",
       "    </tr>\n",
       "    <tr>\n",
       "      <th>11</th>\n",
       "      <td>33</td>\n",
       "      <td>Device_0</td>\n",
       "      <td>2000</td>\n",
       "      <td>2</td>\n",
       "      <td>AlexNet</td>\n",
       "      <td>10</td>\n",
       "      <td>N</td>\n",
       "      <td>125.000000</td>\n",
       "      <td>307</td>\n",
       "    </tr>\n",
       "    <tr>\n",
       "      <th>10</th>\n",
       "      <td>46</td>\n",
       "      <td>Device_0</td>\n",
       "      <td>1000</td>\n",
       "      <td>5</td>\n",
       "      <td>MobileNet</td>\n",
       "      <td>10</td>\n",
       "      <td>Y</td>\n",
       "      <td>20.000000</td>\n",
       "      <td>86</td>\n",
       "    </tr>\n",
       "    <tr>\n",
       "      <th>9</th>\n",
       "      <td>27</td>\n",
       "      <td>Device_0</td>\n",
       "      <td>1000</td>\n",
       "      <td>1</td>\n",
       "      <td>AlexNet</td>\n",
       "      <td>10</td>\n",
       "      <td>N</td>\n",
       "      <td>500.000000</td>\n",
       "      <td>300</td>\n",
       "    </tr>\n",
       "    <tr>\n",
       "      <th>7</th>\n",
       "      <td>34</td>\n",
       "      <td>Device_0</td>\n",
       "      <td>2000</td>\n",
       "      <td>3</td>\n",
       "      <td>AlexNet</td>\n",
       "      <td>10</td>\n",
       "      <td>N</td>\n",
       "      <td>83.333333</td>\n",
       "      <td>308</td>\n",
       "    </tr>\n",
       "    <tr>\n",
       "      <th>6</th>\n",
       "      <td>45</td>\n",
       "      <td>Device_0</td>\n",
       "      <td>1000</td>\n",
       "      <td>4</td>\n",
       "      <td>MobileNet</td>\n",
       "      <td>10</td>\n",
       "      <td>Y</td>\n",
       "      <td>25.000000</td>\n",
       "      <td>85</td>\n",
       "    </tr>\n",
       "    <tr>\n",
       "      <th>4</th>\n",
       "      <td>30</td>\n",
       "      <td>Device_0</td>\n",
       "      <td>1000</td>\n",
       "      <td>4</td>\n",
       "      <td>AlexNet</td>\n",
       "      <td>10</td>\n",
       "      <td>N</td>\n",
       "      <td>125.000000</td>\n",
       "      <td>450</td>\n",
       "    </tr>\n",
       "    <tr>\n",
       "      <th>3</th>\n",
       "      <td>31</td>\n",
       "      <td>Device_0</td>\n",
       "      <td>1000</td>\n",
       "      <td>5</td>\n",
       "      <td>AlexNet</td>\n",
       "      <td>10</td>\n",
       "      <td>N</td>\n",
       "      <td>100.000000</td>\n",
       "      <td>449</td>\n",
       "    </tr>\n",
       "    <tr>\n",
       "      <th>2</th>\n",
       "      <td>39</td>\n",
       "      <td>Device_1</td>\n",
       "      <td>1000</td>\n",
       "      <td>3</td>\n",
       "      <td>AlexNet</td>\n",
       "      <td>10</td>\n",
       "      <td>N</td>\n",
       "      <td>333.333333</td>\n",
       "      <td>302</td>\n",
       "    </tr>\n",
       "    <tr>\n",
       "      <th>32</th>\n",
       "      <td>28</td>\n",
       "      <td>Device_0</td>\n",
       "      <td>1000</td>\n",
       "      <td>2</td>\n",
       "      <td>AlexNet</td>\n",
       "      <td>10</td>\n",
       "      <td>N</td>\n",
       "      <td>250.000000</td>\n",
       "      <td>310</td>\n",
       "    </tr>\n",
       "    <tr>\n",
       "      <th>46</th>\n",
       "      <td>42</td>\n",
       "      <td>Device_0</td>\n",
       "      <td>1000</td>\n",
       "      <td>1</td>\n",
       "      <td>MobileNet</td>\n",
       "      <td>10</td>\n",
       "      <td>Y</td>\n",
       "      <td>100.000000</td>\n",
       "      <td>51</td>\n",
       "    </tr>\n",
       "  </tbody>\n",
       "</table>\n",
       "</div>"
      ],
      "text/plain": [
       "    TestId    Device  CPUFrequency (MHz)  Threads  MLNetwork  Build Optimised  \\\n",
       "33      18  Device_0                2000        5    AlexNet      1         N   \n",
       "29       9  Device_0                1000        5    AlexNet      1         N   \n",
       "21       0  Device_0                1000        5  MobileNet      1         N   \n",
       "28      19  Device_0                2000        5    AlexNet      2         N   \n",
       "20       1  Device_0                1000        5  MobileNet      2         N   \n",
       "41      10  Device_0                1000        5    AlexNet      2         N   \n",
       "17      20  Device_0                2000        5    AlexNet      3         N   \n",
       "35      11  Device_0                1000        5    AlexNet      3         N   \n",
       "15       2  Device_0                1000        5  MobileNet      3         N   \n",
       "19      12  Device_0                1000        5    AlexNet      4         N   \n",
       "22      21  Device_0                2000        5    AlexNet      4         N   \n",
       "34       3  Device_0                1000        5  MobileNet      4         N   \n",
       "39      22  Device_0                2000        5    AlexNet      5         N   \n",
       "13       4  Device_0                1000        5  MobileNet      5         N   \n",
       "25      13  Device_0                1000        5    AlexNet      5         N   \n",
       "36       5  Device_0                1000        5  MobileNet      6         Y   \n",
       "18      23  Device_0                2000        5    AlexNet      6         N   \n",
       "43      14  Device_0                1000        5    AlexNet      6         N   \n",
       "12      24  Device_0                2000        5    AlexNet      7         N   \n",
       "8        6  Device_0                1000        5  MobileNet      7         Y   \n",
       "45      15  Device_0                1000        5    AlexNet      7         N   \n",
       "1       16  Device_0                1000        5    AlexNet      8         N   \n",
       "26       7  Device_0                1000        5  MobileNet      8         Y   \n",
       "5       25  Device_0                2000        5    AlexNet      8         N   \n",
       "27       8  Device_0                1000        5  MobileNet      9         Y   \n",
       "0       17  Device_0                1000        5    AlexNet      9         N   \n",
       "30      26  Device_0                2000        5    AlexNet      9         N   \n",
       "37      38  Device_1                1000        2    AlexNet     10         N   \n",
       "44      35  Device_0                2000        4    AlexNet     10         N   \n",
       "38      41  Device_1                1000        5    AlexNet     10         N   \n",
       "40      36  Device_0                2000        5    AlexNet     10         N   \n",
       "42      40  Device_1                1000        4    AlexNet     10         N   \n",
       "23      44  Device_0                1000        3  MobileNet     10         Y   \n",
       "31      43  Device_0                1000        2  MobileNet     10         Y   \n",
       "24      29  Device_0                1000        3    AlexNet     10         N   \n",
       "16      37  Device_1                1000        1    AlexNet     10         N   \n",
       "14      32  Device_0                2000        1    AlexNet     10         N   \n",
       "11      33  Device_0                2000        2    AlexNet     10         N   \n",
       "10      46  Device_0                1000        5  MobileNet     10         Y   \n",
       "9       27  Device_0                1000        1    AlexNet     10         N   \n",
       "7       34  Device_0                2000        3    AlexNet     10         N   \n",
       "6       45  Device_0                1000        4  MobileNet     10         Y   \n",
       "4       30  Device_0                1000        4    AlexNet     10         N   \n",
       "3       31  Device_0                1000        5    AlexNet     10         N   \n",
       "2       39  Device_1                1000        3    AlexNet     10         N   \n",
       "32      28  Device_0                1000        2    AlexNet     10         N   \n",
       "46      42  Device_0                1000        1  MobileNet     10         Y   \n",
       "\n",
       "     Time (ms)  PeakMemory (MB)  \n",
       "33   53.000000              456  \n",
       "29  101.000000              450  \n",
       "21   65.000000              450  \n",
       "28   53.000000              456  \n",
       "20   64.000000              451  \n",
       "41  102.000000              449  \n",
       "17   52.000000              457  \n",
       "35  104.000000              453  \n",
       "15   65.000000              450  \n",
       "19  102.000000              453  \n",
       "22   50.000000              457  \n",
       "34   66.000000              450  \n",
       "39   51.000000              456  \n",
       "13   63.000000              448  \n",
       "25  101.000000              452  \n",
       "36   21.000000              449  \n",
       "18   54.000000              458  \n",
       "43   99.000000              450  \n",
       "12   50.000000              458  \n",
       "8    25.000000              450  \n",
       "45   97.000000              455  \n",
       "1   104.000000              453  \n",
       "26   23.000000              451  \n",
       "5    53.000000              458  \n",
       "27   19.000000              449  \n",
       "0   102.000000              449  \n",
       "30   53.000000              457  \n",
       "37  500.000000              305  \n",
       "44  300.000000              460  \n",
       "38  200.000000              454  \n",
       "40   50.000000              458  \n",
       "42  250.000000              449  \n",
       "23   33.333333               53  \n",
       "31   50.000000               50  \n",
       "24  166.666667              311  \n",
       "16  800.000000              298  \n",
       "14  250.000000              301  \n",
       "11  125.000000              307  \n",
       "10   20.000000               86  \n",
       "9   500.000000              300  \n",
       "7    83.333333              308  \n",
       "6    25.000000               85  \n",
       "4   125.000000              450  \n",
       "3   100.000000              449  \n",
       "2   333.333333              302  \n",
       "32  250.000000              310  \n",
       "46  100.000000               51  "
      ]
     },
     "execution_count": 80,
     "metadata": {},
     "output_type": "execute_result"
    }
   ],
   "source": [
    "merge.sort_values('Build')"
   ]
  },
  {
   "cell_type": "code",
   "execution_count": 107,
   "metadata": {
    "scrolled": true
   },
   "outputs": [
    {
     "data": {
      "text/plain": [
       "TestId                  int64\n",
       "Device                 object\n",
       "CPUFrequency (MHz)      int64\n",
       "Threads                 int64\n",
       "MLNetwork              object\n",
       "Build                   int64\n",
       "Optimised              object\n",
       "Time (ms)             float64\n",
       "PeakMemory (MB)         int64\n",
       "dtype: object"
      ]
     },
     "execution_count": 107,
     "metadata": {},
     "output_type": "execute_result"
    }
   ],
   "source": [
    "merge.dtypes"
   ]
  },
  {
   "cell_type": "code",
   "execution_count": 81,
   "metadata": {},
   "outputs": [],
   "source": [
    "import numpy as np # For Linear Algebra,etc\n",
    "import pandas as pd # To Work With Data\n",
    "# for visualizations\n",
    "import plotly.express as px \n",
    "import plotly.graph_objects as go\n",
    "from plotly.subplots import make_subplots\n",
    "from datetime import datetime # Time Series analysis.\n",
    "#Ignore errors\n",
    "import sys\n",
    "import matplotlib.pyplot as plt\n",
    "if not sys.warnoptions:\n",
    "    import warnings\n",
    "    warnings.simplefilter(\"ignore\")"
   ]
  },
  {
   "cell_type": "code",
   "execution_count": 82,
   "metadata": {},
   "outputs": [
    {
     "data": {
      "image/png": "[encoded data removed]",
      "text/plain": [
       "<Figure size 432x288 with 1 Axes>"
      ]
     },
     "metadata": {
      "needs_background": "light"
     },
     "output_type": "display_data"
    }
   ],
   "source": [
    "plt.scatter(merge['PeakMemory (MB)'],merge['Time (ms)'])\n",
    "plt.title('PeakMemory (MB) vs Time (ms)')\n",
    "plt.xlabel('PeakMemory (MB)')\n",
    "plt.ylabel('Time (ms)')\n",
    "plt.show()\n",
    "#Correlation between time and peak memory is very weak."
   ]
  },
  {
   "cell_type": "code",
   "execution_count": 83,
   "metadata": {},
   "outputs": [
    {
     "data": {
      "application/vnd.plotly.v1+json": {
       "config": {
        "plotlyServerURL": "https://plot.ly"
       },
       "data": [
        {
         "alignmentgroup": "True",
         "bingroup": "x",
         "histnorm": "density",
         "hovertemplate": "x=%{x}<br>density=%{y}<extra></extra>",
         "legendgroup": "",
         "marker": {
          "color": "#636efa",
          "pattern": {
           "shape": ""
          }
         },
         "name": "",
         "nbinsx": 40,
         "offsetgroup": "",
         "orientation": "v",
         "showlegend": false,
         "type": "histogram",
         "x": [
          102,
          104,
          333.3333333333,
          100,
          125,
          53,
          25,
          83.3333333333,
          25,
          500,
          20,
          125,
          50,
          63,
          250,
          65,
          800,
          52,
          54,
          102,
          64,
          65,
          50,
          33.3333333333,
          166.6666666667,
          101,
          23,
          19,
          53,
          101,
          53,
          50,
          250,
          53,
          66,
          104,
          21,
          500,
          200,
          51,
          50,
          102,
          250,
          99,
          300,
          97,
          100
         ],
         "xaxis": "x",
         "yaxis": "y"
        }
       ],
       "layout": {
        "barmode": "relative",
        "legend": {
         "tracegroupgap": 0
        },
        "margin": {
         "t": 60
        },
        "template": {
         "data": {
          "bar": [
           {
            "error_x": {
             "color": "#2a3f5f"
            },
            "error_y": {
             "color": "#2a3f5f"
            },
            "marker": {
             "line": {
              "color": "#E5ECF6",
              "width": 0.5
             },
             "pattern": {
              "fillmode": "overlay",
              "size": 10,
              "solidity": 0.2
             }
            },
            "type": "bar"
           }
          ],
          "barpolar": [
           {
            "marker": {
             "line": {
              "color": "#E5ECF6",
              "width": 0.5
             },
             "pattern": {
              "fillmode": "overlay",
              "size": 10,
              "solidity": 0.2
             }
            },
            "type": "barpolar"
           }
          ],
          "carpet": [
           {
            "aaxis": {
             "endlinecolor": "#2a3f5f",
             "gridcolor": "white",
             "linecolor": "white",
             "minorgridcolor": "white",
             "startlinecolor": "#2a3f5f"
            },
            "baxis": {
             "endlinecolor": "#2a3f5f",
             "gridcolor": "white",
             "linecolor": "white",
             "minorgridcolor": "white",
             "startlinecolor": "#2a3f5f"
            },
            "type": "carpet"
           }
          ],
          "choropleth": [
           {
            "colorbar": {
             "outlinewidth": 0,
             "ticks": ""
            },
            "type": "choropleth"
           }
          ],
          "contour": [
           {
            "colorbar": {
             "outlinewidth": 0,
             "ticks": ""
            },
            "colorscale": [
             [
              0,
              "#0d0887"
             ],
             [
              0.1111111111111111,
              "#46039f"
             ],
             [
              0.2222222222222222,
              "#7201a8"
             ],
             [
              0.3333333333333333,
              "#9c179e"
             ],
             [
              0.4444444444444444,
              "#bd3786"
             ],
             [
              0.5555555555555556,
              "#d8576b"
             ],
             [
              0.6666666666666666,
              "#ed7953"
             ],
             [
              0.7777777777777778,
              "#fb9f3a"
             ],
             [
              0.8888888888888888,
              "#fdca26"
             ],
             [
              1,
              "#f0f921"
             ]
            ],
            "type": "contour"
           }
          ],
          "contourcarpet": [
           {
            "colorbar": {
             "outlinewidth": 0,
             "ticks": ""
            },
            "type": "contourcarpet"
           }
          ],
          "heatmap": [
           {
            "colorbar": {
             "outlinewidth": 0,
             "ticks": ""
            },
            "colorscale": [
             [
              0,
              "#0d0887"
             ],
             [
              0.1111111111111111,
              "#46039f"
             ],
             [
              0.2222222222222222,
              "#7201a8"
             ],
             [
              0.3333333333333333,
              "#9c179e"
             ],
             [
              0.4444444444444444,
              "#bd3786"
             ],
             [
              0.5555555555555556,
              "#d8576b"
             ],
             [
              0.6666666666666666,
              "#ed7953"
             ],
             [
              0.7777777777777778,
              "#fb9f3a"
             ],
             [
              0.8888888888888888,
              "#fdca26"
             ],
             [
              1,
              "#f0f921"
             ]
            ],
            "type": "heatmap"
           }
          ],
          "heatmapgl": [
           {
            "colorbar": {
             "outlinewidth": 0,
             "ticks": ""
            },
            "colorscale": [
             [
              0,
              "#0d0887"
             ],
             [
              0.1111111111111111,
              "#46039f"
             ],
             [
              0.2222222222222222,
              "#7201a8"
             ],
             [
              0.3333333333333333,
              "#9c179e"
             ],
             [
              0.4444444444444444,
              "#bd3786"
             ],
             [
              0.5555555555555556,
              "#d8576b"
             ],
             [
              0.6666666666666666,
              "#ed7953"
             ],
             [
              0.7777777777777778,
              "#fb9f3a"
             ],
             [
              0.8888888888888888,
              "#fdca26"
             ],
             [
              1,
              "#f0f921"
             ]
            ],
            "type": "heatmapgl"
           }
          ],
          "histogram": [
           {
            "marker": {
             "pattern": {
              "fillmode": "overlay",
              "size": 10,
              "solidity": 0.2
             }
            },
            "type": "histogram"
           }
          ],
          "histogram2d": [
           {
            "colorbar": {
             "outlinewidth": 0,
             "ticks": ""
            },
            "colorscale": [
             [
              0,
              "#0d0887"
             ],
             [
              0.1111111111111111,
              "#46039f"
             ],
             [
              0.2222222222222222,
              "#7201a8"
             ],
             [
              0.3333333333333333,
              "#9c179e"
             ],
             [
              0.4444444444444444,
              "#bd3786"
             ],
             [
              0.5555555555555556,
              "#d8576b"
             ],
             [
              0.6666666666666666,
              "#ed7953"
             ],
             [
              0.7777777777777778,
              "#fb9f3a"
             ],
             [
              0.8888888888888888,
              "#fdca26"
             ],
             [
              1,
              "#f0f921"
             ]
            ],
            "type": "histogram2d"
           }
          ],
          "histogram2dcontour": [
           {
            "colorbar": {
             "outlinewidth": 0,
             "ticks": ""
            },
            "colorscale": [
             [
              0,
              "#0d0887"
             ],
             [
              0.1111111111111111,
              "#46039f"
             ],
             [
              0.2222222222222222,
              "#7201a8"
             ],
             [
              0.3333333333333333,
              "#9c179e"
             ],
             [
              0.4444444444444444,
              "#bd3786"
             ],
             [
              0.5555555555555556,
              "#d8576b"
             ],
             [
              0.6666666666666666,
              "#ed7953"
             ],
             [
              0.7777777777777778,
              "#fb9f3a"
             ],
             [
              0.8888888888888888,
              "#fdca26"
             ],
             [
              1,
              "#f0f921"
             ]
            ],
            "type": "histogram2dcontour"
           }
          ],
          "mesh3d": [
           {
            "colorbar": {
             "outlinewidth": 0,
             "ticks": ""
            },
            "type": "mesh3d"
           }
          ],
          "parcoords": [
           {
            "line": {
             "colorbar": {
              "outlinewidth": 0,
              "ticks": ""
             }
            },
            "type": "parcoords"
           }
          ],
          "pie": [
           {
            "automargin": true,
            "type": "pie"
           }
          ],
          "scatter": [
           {
            "fillpattern": {
             "fillmode": "overlay",
             "size": 10,
             "solidity": 0.2
            },
            "type": "scatter"
           }
          ],
          "scatter3d": [
           {
            "line": {
             "colorbar": {
              "outlinewidth": 0,
              "ticks": ""
             }
            },
            "marker": {
             "colorbar": {
              "outlinewidth": 0,
              "ticks": ""
             }
            },
            "type": "scatter3d"
           }
          ],
          "scattercarpet": [
           {
            "marker": {
             "colorbar": {
              "outlinewidth": 0,
              "ticks": ""
             }
            },
            "type": "scattercarpet"
           }
          ],
          "scattergeo": [
           {
            "marker": {
             "colorbar": {
              "outlinewidth": 0,
              "ticks": ""
             }
            },
            "type": "scattergeo"
           }
          ],
          "scattergl": [
           {
            "marker": {
             "colorbar": {
              "outlinewidth": 0,
              "ticks": ""
             }
            },
            "type": "scattergl"
           }
          ],
          "scattermapbox": [
           {
            "marker": {
             "colorbar": {
              "outlinewidth": 0,
              "ticks": ""
             }
            },
            "type": "scattermapbox"
           }
          ],
          "scatterpolar": [
           {
            "marker": {
             "colorbar": {
              "outlinewidth": 0,
              "ticks": ""
             }
            },
            "type": "scatterpolar"
           }
          ],
          "scatterpolargl": [
           {
            "marker": {
             "colorbar": {
              "outlinewidth": 0,
              "ticks": ""
             }
            },
            "type": "scatterpolargl"
           }
          ],
          "scatterternary": [
           {
            "marker": {
             "colorbar": {
              "outlinewidth": 0,
              "ticks": ""
             }
            },
            "type": "scatterternary"
           }
          ],
          "surface": [
           {
            "colorbar": {
             "outlinewidth": 0,
             "ticks": ""
            },
            "colorscale": [
             [
              0,
              "#0d0887"
             ],
             [
              0.1111111111111111,
              "#46039f"
             ],
             [
              0.2222222222222222,
              "#7201a8"
             ],
             [
              0.3333333333333333,
              "#9c179e"
             ],
             [
              0.4444444444444444,
              "#bd3786"
             ],
             [
              0.5555555555555556,
              "#d8576b"
             ],
             [
              0.6666666666666666,
              "#ed7953"
             ],
             [
              0.7777777777777778,
              "#fb9f3a"
             ],
             [
              0.8888888888888888,
              "#fdca26"
             ],
             [
              1,
              "#f0f921"
             ]
            ],
            "type": "surface"
           }
          ],
          "table": [
           {
            "cells": {
             "fill": {
              "color": "#EBF0F8"
             },
             "line": {
              "color": "white"
             }
            },
            "header": {
             "fill": {
              "color": "#C8D4E3"
             },
             "line": {
              "color": "white"
             }
            },
            "type": "table"
           }
          ]
         },
         "layout": {
          "annotationdefaults": {
           "arrowcolor": "#2a3f5f",
           "arrowhead": 0,
           "arrowwidth": 1
          },
          "autotypenumbers": "strict",
          "coloraxis": {
           "colorbar": {
            "outlinewidth": 0,
            "ticks": ""
           }
          },
          "colorscale": {
           "diverging": [
            [
             0,
             "#8e0152"
            ],
            [
             0.1,
             "#c51b7d"
            ],
            [
             0.2,
             "#de77ae"
            ],
            [
             0.3,
             "#f1b6da"
            ],
            [
             0.4,
             "#fde0ef"
            ],
            [
             0.5,
             "#f7f7f7"
            ],
            [
             0.6,
             "#e6f5d0"
            ],
            [
             0.7,
             "#b8e186"
            ],
            [
             0.8,
             "#7fbc41"
            ],
            [
             0.9,
             "#4d9221"
            ],
            [
             1,
             "#276419"
            ]
           ],
           "sequential": [
            [
             0,
             "#0d0887"
            ],
            [
             0.1111111111111111,
             "#46039f"
            ],
            [
             0.2222222222222222,
             "#7201a8"
            ],
            [
             0.3333333333333333,
             "#9c179e"
            ],
            [
             0.4444444444444444,
             "#bd3786"
            ],
            [
             0.5555555555555556,
             "#d8576b"
            ],
            [
             0.6666666666666666,
             "#ed7953"
            ],
            [
             0.7777777777777778,
             "#fb9f3a"
            ],
            [
             0.8888888888888888,
             "#fdca26"
            ],
            [
             1,
             "#f0f921"
            ]
           ],
           "sequentialminus": [
            [
             0,
             "#0d0887"
            ],
            [
             0.1111111111111111,
             "#46039f"
            ],
            [
             0.2222222222222222,
             "#7201a8"
            ],
            [
             0.3333333333333333,
             "#9c179e"
            ],
            [
             0.4444444444444444,
             "#bd3786"
            ],
            [
             0.5555555555555556,
             "#d8576b"
            ],
            [
             0.6666666666666666,
             "#ed7953"
            ],
            [
             0.7777777777777778,
             "#fb9f3a"
            ],
            [
             0.8888888888888888,
             "#fdca26"
            ],
            [
             1,
             "#f0f921"
            ]
           ]
          },
          "colorway": [
           "#636efa",
           "#EF553B",
           "#00cc96",
           "#ab63fa",
           "#FFA15A",
           "#19d3f3",
           "#FF6692",
           "#B6E880",
           "#FF97FF",
           "#FECB52"
          ],
          "font": {
           "color": "#2a3f5f"
          },
          "geo": {
           "bgcolor": "white",
           "lakecolor": "white",
           "landcolor": "#E5ECF6",
           "showlakes": true,
           "showland": true,
           "subunitcolor": "white"
          },
          "hoverlabel": {
           "align": "left"
          },
          "hovermode": "closest",
          "mapbox": {
           "style": "light"
          },
          "paper_bgcolor": "white",
          "plot_bgcolor": "#E5ECF6",
          "polar": {
           "angularaxis": {
            "gridcolor": "white",
            "linecolor": "white",
            "ticks": ""
           },
           "bgcolor": "#E5ECF6",
           "radialaxis": {
            "gridcolor": "white",
            "linecolor": "white",
            "ticks": ""
           }
          },
          "scene": {
           "xaxis": {
            "backgroundcolor": "#E5ECF6",
            "gridcolor": "white",
            "gridwidth": 2,
            "linecolor": "white",
            "showbackground": true,
            "ticks": "",
            "zerolinecolor": "white"
           },
           "yaxis": {
            "backgroundcolor": "#E5ECF6",
            "gridcolor": "white",
            "gridwidth": 2,
            "linecolor": "white",
            "showbackground": true,
            "ticks": "",
            "zerolinecolor": "white"
           },
           "zaxis": {
            "backgroundcolor": "#E5ECF6",
            "gridcolor": "white",
            "gridwidth": 2,
            "linecolor": "white",
            "showbackground": true,
            "ticks": "",
            "zerolinecolor": "white"
           }
          },
          "shapedefaults": {
           "line": {
            "color": "#2a3f5f"
           }
          },
          "ternary": {
           "aaxis": {
            "gridcolor": "white",
            "linecolor": "white",
            "ticks": ""
           },
           "baxis": {
            "gridcolor": "white",
            "linecolor": "white",
            "ticks": ""
           },
           "bgcolor": "#E5ECF6",
           "caxis": {
            "gridcolor": "white",
            "linecolor": "white",
            "ticks": ""
           }
          },
          "title": {
           "x": 0.05
          },
          "xaxis": {
           "automargin": true,
           "gridcolor": "white",
           "linecolor": "white",
           "ticks": "",
           "title": {
            "standoff": 15
           },
           "zerolinecolor": "white",
           "zerolinewidth": 2
          },
          "yaxis": {
           "automargin": true,
           "gridcolor": "white",
           "linecolor": "white",
           "ticks": "",
           "title": {
            "standoff": 15
           },
           "zerolinecolor": "white",
           "zerolinewidth": 2
          }
         }
        },
        "title": {
         "text": "Histogram of Time (ms) readings:"
        },
        "xaxis": {
         "anchor": "y",
         "domain": [
          0,
          1
         ],
         "title": {
          "text": "Time (ms)"
         }
        },
        "yaxis": {
         "anchor": "x",
         "domain": [
          0,
          1
         ],
         "title": {
          "text": "density"
         }
        }
       }
      },
      "text/html": [
       "<div>                            <div id=\"46cafc1e-05de-479d-9fae-1b2fbeb97b39\" class=\"plotly-graph-div\" style=\"height:525px; width:100%;\"></div>            <script type=\"text/javascript\">                require([\"plotly\"], function(Plotly) {                    window.PLOTLYENV=window.PLOTLYENV || {};                                    if (document.getElementById(\"46cafc1e-05de-479d-9fae-1b2fbeb97b39\")) {                    Plotly.newPlot(                        \"46cafc1e-05de-479d-9fae-1b2fbeb97b39\",                        [{\"alignmentgroup\":\"True\",\"bingroup\":\"x\",\"histnorm\":\"density\",\"hovertemplate\":\"x=%{x}<br>density=%{y}<extra></extra>\",\"legendgroup\":\"\",\"marker\":{\"color\":\"#636efa\",\"pattern\":{\"shape\":\"\"}},\"name\":\"\",\"nbinsx\":40,\"offsetgroup\":\"\",\"orientation\":\"v\",\"showlegend\":false,\"x\":[102.0,104.0,333.3333333333,100.0,125.0,53.0,25.0,83.3333333333,25.0,500.0,20.0,125.0,50.0,63.0,250.0,65.0,800.0,52.0,54.0,102.0,64.0,65.0,50.0,33.3333333333,166.6666666667,101.0,23.0,19.0,53.0,101.0,53.0,50.0,250.0,53.0,66.0,104.0,21.0,500.0,200.0,51.0,50.0,102.0,250.0,99.0,300.0,97.0,100.0],\"xaxis\":\"x\",\"yaxis\":\"y\",\"type\":\"histogram\"}],                        {\"template\":{\"data\":{\"histogram2dcontour\":[{\"type\":\"histogram2dcontour\",\"colorbar\":{\"outlinewidth\":0,\"ticks\":\"\"},\"colorscale\":[[0.0,\"#0d0887\"],[0.1111111111111111,\"#46039f\"],[0.2222222222222222,\"#7201a8\"],[0.3333333333333333,\"#9c179e\"],[0.4444444444444444,\"#bd3786\"],[0.5555555555555556,\"#d8576b\"],[0.6666666666666666,\"#ed7953\"],[0.7777777777777778,\"#fb9f3a\"],[0.8888888888888888,\"#fdca26\"],[1.0,\"#f0f921\"]]}],\"choropleth\":[{\"type\":\"choropleth\",\"colorbar\":{\"outlinewidth\":0,\"ticks\":\"\"}}],\"histogram2d\":[{\"type\":\"histogram2d\",\"colorbar\":{\"outlinewidth\":0,\"ticks\":\"\"},\"colorscale\":[[0.0,\"#0d0887\"],[0.1111111111111111,\"#46039f\"],[0.2222222222222222,\"#7201a8\"],[0.3333333333333333,\"#9c179e\"],[0.4444444444444444,\"#bd3786\"],[0.5555555555555556,\"#d8576b\"],[0.6666666666666666,\"#ed7953\"],[0.7777777777777778,\"#fb9f3a\"],[0.8888888888888888,\"#fdca26\"],[1.0,\"#f0f921\"]]}],\"heatmap\":[{\"type\":\"heatmap\",\"colorbar\":{\"outlinewidth\":0,\"ticks\":\"\"},\"colorscale\":[[0.0,\"#0d0887\"],[0.1111111111111111,\"#46039f\"],[0.2222222222222222,\"#7201a8\"],[0.3333333333333333,\"#9c179e\"],[0.4444444444444444,\"#bd3786\"],[0.5555555555555556,\"#d8576b\"],[0.6666666666666666,\"#ed7953\"],[0.7777777777777778,\"#fb9f3a\"],[0.8888888888888888,\"#fdca26\"],[1.0,\"#f0f921\"]]}],\"heatmapgl\":[{\"type\":\"heatmapgl\",\"colorbar\":{\"outlinewidth\":0,\"ticks\":\"\"},\"colorscale\":[[0.0,\"#0d0887\"],[0.1111111111111111,\"#46039f\"],[0.2222222222222222,\"#7201a8\"],[0.3333333333333333,\"#9c179e\"],[0.4444444444444444,\"#bd3786\"],[0.5555555555555556,\"#d8576b\"],[0.6666666666666666,\"#ed7953\"],[0.7777777777777778,\"#fb9f3a\"],[0.8888888888888888,\"#fdca26\"],[1.0,\"#f0f921\"]]}],\"contourcarpet\":[{\"type\":\"contourcarpet\",\"colorbar\":{\"outlinewidth\":0,\"ticks\":\"\"}}],\"contour\":[{\"type\":\"contour\",\"colorbar\":{\"outlinewidth\":0,\"ticks\":\"\"},\"colorscale\":[[0.0,\"#0d0887\"],[0.1111111111111111,\"#46039f\"],[0.2222222222222222,\"#7201a8\"],[0.3333333333333333,\"#9c179e\"],[0.4444444444444444,\"#bd3786\"],[0.5555555555555556,\"#d8576b\"],[0.6666666666666666,\"#ed7953\"],[0.7777777777777778,\"#fb9f3a\"],[0.8888888888888888,\"#fdca26\"],[1.0,\"#f0f921\"]]}],\"surface\":[{\"type\":\"surface\",\"colorbar\":{\"outlinewidth\":0,\"ticks\":\"\"},\"colorscale\":[[0.0,\"#0d0887\"],[0.1111111111111111,\"#46039f\"],[0.2222222222222222,\"#7201a8\"],[0.3333333333333333,\"#9c179e\"],[0.4444444444444444,\"#bd3786\"],[0.5555555555555556,\"#d8576b\"],[0.6666666666666666,\"#ed7953\"],[0.7777777777777778,\"#fb9f3a\"],[0.8888888888888888,\"#fdca26\"],[1.0,\"#f0f921\"]]}],\"mesh3d\":[{\"type\":\"mesh3d\",\"colorbar\":{\"outlinewidth\":0,\"ticks\":\"\"}}],\"scatter\":[{\"fillpattern\":{\"fillmode\":\"overlay\",\"size\":10,\"solidity\":0.2},\"type\":\"scatter\"}],\"parcoords\":[{\"type\":\"parcoords\",\"line\":{\"colorbar\":{\"outlinewidth\":0,\"ticks\":\"\"}}}],\"scatterpolargl\":[{\"type\":\"scatterpolargl\",\"marker\":{\"colorbar\":{\"outlinewidth\":0,\"ticks\":\"\"}}}],\"bar\":[{\"error_x\":{\"color\":\"#2a3f5f\"},\"error_y\":{\"color\":\"#2a3f5f\"},\"marker\":{\"line\":{\"color\":\"#E5ECF6\",\"width\":0.5},\"pattern\":{\"fillmode\":\"overlay\",\"size\":10,\"solidity\":0.2}},\"type\":\"bar\"}],\"scattergeo\":[{\"type\":\"scattergeo\",\"marker\":{\"colorbar\":{\"outlinewidth\":0,\"ticks\":\"\"}}}],\"scatterpolar\":[{\"type\":\"scatterpolar\",\"marker\":{\"colorbar\":{\"outlinewidth\":0,\"ticks\":\"\"}}}],\"histogram\":[{\"marker\":{\"pattern\":{\"fillmode\":\"overlay\",\"size\":10,\"solidity\":0.2}},\"type\":\"histogram\"}],\"scattergl\":[{\"type\":\"scattergl\",\"marker\":{\"colorbar\":{\"outlinewidth\":0,\"ticks\":\"\"}}}],\"scatter3d\":[{\"type\":\"scatter3d\",\"line\":{\"colorbar\":{\"outlinewidth\":0,\"ticks\":\"\"}},\"marker\":{\"colorbar\":{\"outlinewidth\":0,\"ticks\":\"\"}}}],\"scattermapbox\":[{\"type\":\"scattermapbox\",\"marker\":{\"colorbar\":{\"outlinewidth\":0,\"ticks\":\"\"}}}],\"scatterternary\":[{\"type\":\"scatterternary\",\"marker\":{\"colorbar\":{\"outlinewidth\":0,\"ticks\":\"\"}}}],\"scattercarpet\":[{\"type\":\"scattercarpet\",\"marker\":{\"colorbar\":{\"outlinewidth\":0,\"ticks\":\"\"}}}],\"carpet\":[{\"aaxis\":{\"endlinecolor\":\"#2a3f5f\",\"gridcolor\":\"white\",\"linecolor\":\"white\",\"minorgridcolor\":\"white\",\"startlinecolor\":\"#2a3f5f\"},\"baxis\":{\"endlinecolor\":\"#2a3f5f\",\"gridcolor\":\"white\",\"linecolor\":\"white\",\"minorgridcolor\":\"white\",\"startlinecolor\":\"#2a3f5f\"},\"type\":\"carpet\"}],\"table\":[{\"cells\":{\"fill\":{\"color\":\"#EBF0F8\"},\"line\":{\"color\":\"white\"}},\"header\":{\"fill\":{\"color\":\"#C8D4E3\"},\"line\":{\"color\":\"white\"}},\"type\":\"table\"}],\"barpolar\":[{\"marker\":{\"line\":{\"color\":\"#E5ECF6\",\"width\":0.5},\"pattern\":{\"fillmode\":\"overlay\",\"size\":10,\"solidity\":0.2}},\"type\":\"barpolar\"}],\"pie\":[{\"automargin\":true,\"type\":\"pie\"}]},\"layout\":{\"autotypenumbers\":\"strict\",\"colorway\":[\"#636efa\",\"#EF553B\",\"#00cc96\",\"#ab63fa\",\"#FFA15A\",\"#19d3f3\",\"#FF6692\",\"#B6E880\",\"#FF97FF\",\"#FECB52\"],\"font\":{\"color\":\"#2a3f5f\"},\"hovermode\":\"closest\",\"hoverlabel\":{\"align\":\"left\"},\"paper_bgcolor\":\"white\",\"plot_bgcolor\":\"#E5ECF6\",\"polar\":{\"bgcolor\":\"#E5ECF6\",\"angularaxis\":{\"gridcolor\":\"white\",\"linecolor\":\"white\",\"ticks\":\"\"},\"radialaxis\":{\"gridcolor\":\"white\",\"linecolor\":\"white\",\"ticks\":\"\"}},\"ternary\":{\"bgcolor\":\"#E5ECF6\",\"aaxis\":{\"gridcolor\":\"white\",\"linecolor\":\"white\",\"ticks\":\"\"},\"baxis\":{\"gridcolor\":\"white\",\"linecolor\":\"white\",\"ticks\":\"\"},\"caxis\":{\"gridcolor\":\"white\",\"linecolor\":\"white\",\"ticks\":\"\"}},\"coloraxis\":{\"colorbar\":{\"outlinewidth\":0,\"ticks\":\"\"}},\"colorscale\":{\"sequential\":[[0.0,\"#0d0887\"],[0.1111111111111111,\"#46039f\"],[0.2222222222222222,\"#7201a8\"],[0.3333333333333333,\"#9c179e\"],[0.4444444444444444,\"#bd3786\"],[0.5555555555555556,\"#d8576b\"],[0.6666666666666666,\"#ed7953\"],[0.7777777777777778,\"#fb9f3a\"],[0.8888888888888888,\"#fdca26\"],[1.0,\"#f0f921\"]],\"sequentialminus\":[[0.0,\"#0d0887\"],[0.1111111111111111,\"#46039f\"],[0.2222222222222222,\"#7201a8\"],[0.3333333333333333,\"#9c179e\"],[0.4444444444444444,\"#bd3786\"],[0.5555555555555556,\"#d8576b\"],[0.6666666666666666,\"#ed7953\"],[0.7777777777777778,\"#fb9f3a\"],[0.8888888888888888,\"#fdca26\"],[1.0,\"#f0f921\"]],\"diverging\":[[0,\"#8e0152\"],[0.1,\"#c51b7d\"],[0.2,\"#de77ae\"],[0.3,\"#f1b6da\"],[0.4,\"#fde0ef\"],[0.5,\"#f7f7f7\"],[0.6,\"#e6f5d0\"],[0.7,\"#b8e186\"],[0.8,\"#7fbc41\"],[0.9,\"#4d9221\"],[1,\"#276419\"]]},\"xaxis\":{\"gridcolor\":\"white\",\"linecolor\":\"white\",\"ticks\":\"\",\"title\":{\"standoff\":15},\"zerolinecolor\":\"white\",\"automargin\":true,\"zerolinewidth\":2},\"yaxis\":{\"gridcolor\":\"white\",\"linecolor\":\"white\",\"ticks\":\"\",\"title\":{\"standoff\":15},\"zerolinecolor\":\"white\",\"automargin\":true,\"zerolinewidth\":2},\"scene\":{\"xaxis\":{\"backgroundcolor\":\"#E5ECF6\",\"gridcolor\":\"white\",\"linecolor\":\"white\",\"showbackground\":true,\"ticks\":\"\",\"zerolinecolor\":\"white\",\"gridwidth\":2},\"yaxis\":{\"backgroundcolor\":\"#E5ECF6\",\"gridcolor\":\"white\",\"linecolor\":\"white\",\"showbackground\":true,\"ticks\":\"\",\"zerolinecolor\":\"white\",\"gridwidth\":2},\"zaxis\":{\"backgroundcolor\":\"#E5ECF6\",\"gridcolor\":\"white\",\"linecolor\":\"white\",\"showbackground\":true,\"ticks\":\"\",\"zerolinecolor\":\"white\",\"gridwidth\":2}},\"shapedefaults\":{\"line\":{\"color\":\"#2a3f5f\"}},\"annotationdefaults\":{\"arrowcolor\":\"#2a3f5f\",\"arrowhead\":0,\"arrowwidth\":1},\"geo\":{\"bgcolor\":\"white\",\"landcolor\":\"#E5ECF6\",\"subunitcolor\":\"white\",\"showland\":true,\"showlakes\":true,\"lakecolor\":\"white\"},\"title\":{\"x\":0.05},\"mapbox\":{\"style\":\"light\"}}},\"xaxis\":{\"anchor\":\"y\",\"domain\":[0.0,1.0],\"title\":{\"text\":\"Time (ms)\"}},\"yaxis\":{\"anchor\":\"x\",\"domain\":[0.0,1.0],\"title\":{\"text\":\"density\"}},\"legend\":{\"tracegroupgap\":0},\"margin\":{\"t\":60},\"barmode\":\"relative\",\"title\":{\"text\":\"Histogram of Time (ms) readings:\"}},                        {\"responsive\": true}                    ).then(function(){\n",
       "                            \n",
       "var gd = document.getElementById('46cafc1e-05de-479d-9fae-1b2fbeb97b39');\n",
       "var x = new MutationObserver(function (mutations, observer) {{\n",
       "        var display = window.getComputedStyle(gd).display;\n",
       "        if (!display || display === 'none') {{\n",
       "            console.log([gd, 'removed!']);\n",
       "            Plotly.purge(gd);\n",
       "            observer.disconnect();\n",
       "        }}\n",
       "}});\n",
       "\n",
       "// Listen for the removal of the full notebook cells\n",
       "var notebookContainer = gd.closest('#notebook-container');\n",
       "if (notebookContainer) {{\n",
       "    x.observe(notebookContainer, {childList: true});\n",
       "}}\n",
       "\n",
       "// Listen for the clearing of the current output cell\n",
       "var outputEl = gd.closest('.output');\n",
       "if (outputEl) {{\n",
       "    x.observe(outputEl, {childList: true});\n",
       "}}\n",
       "\n",
       "                        })                };                });            </script>        </div>"
      ]
     },
     "metadata": {},
     "output_type": "display_data"
    }
   ],
   "source": [
    "fig = px.histogram(x=merge['Time (ms)'], nbins=40, histnorm='density')\n",
    "fig.update_layout(title='Histogram of Time (ms) readings:',\n",
    "                 xaxis_title='Time (ms)', yaxis_title='density')\n",
    "#Times are distributed toward lower end"
   ]
  },
  {
   "cell_type": "code",
   "execution_count": 109,
   "metadata": {},
   "outputs": [
    {
     "data": {
      "application/vnd.plotly.v1+json": {
       "config": {
        "plotlyServerURL": "https://plot.ly"
       },
       "data": [
        {
         "alignmentgroup": "True",
         "bingroup": "x",
         "histnorm": "density",
         "hovertemplate": "x=%{x}<br>density=%{y}<extra></extra>",
         "legendgroup": "",
         "marker": {
          "color": "#636efa",
          "pattern": {
           "shape": ""
          }
         },
         "name": "",
         "nbinsx": 40,
         "offsetgroup": "",
         "orientation": "v",
         "showlegend": false,
         "type": "histogram",
         "x": [
          449,
          453,
          302,
          449,
          450,
          458,
          85,
          308,
          450,
          300,
          86,
          307,
          458,
          448,
          301,
          450,
          298,
          457,
          458,
          453,
          451,
          450,
          457,
          53,
          311,
          452,
          451,
          449,
          456,
          450,
          457,
          50,
          310,
          456,
          450,
          453,
          449,
          305,
          454,
          456,
          458,
          449,
          449,
          450,
          460,
          455,
          51
         ],
         "xaxis": "x",
         "yaxis": "y"
        }
       ],
       "layout": {
        "barmode": "relative",
        "legend": {
         "tracegroupgap": 0
        },
        "margin": {
         "t": 60
        },
        "template": {
         "data": {
          "bar": [
           {
            "error_x": {
             "color": "#2a3f5f"
            },
            "error_y": {
             "color": "#2a3f5f"
            },
            "marker": {
             "line": {
              "color": "#E5ECF6",
              "width": 0.5
             },
             "pattern": {
              "fillmode": "overlay",
              "size": 10,
              "solidity": 0.2
             }
            },
            "type": "bar"
           }
          ],
          "barpolar": [
           {
            "marker": {
             "line": {
              "color": "#E5ECF6",
              "width": 0.5
             },
             "pattern": {
              "fillmode": "overlay",
              "size": 10,
              "solidity": 0.2
             }
            },
            "type": "barpolar"
           }
          ],
          "carpet": [
           {
            "aaxis": {
             "endlinecolor": "#2a3f5f",
             "gridcolor": "white",
             "linecolor": "white",
             "minorgridcolor": "white",
             "startlinecolor": "#2a3f5f"
            },
            "baxis": {
             "endlinecolor": "#2a3f5f",
             "gridcolor": "white",
             "linecolor": "white",
             "minorgridcolor": "white",
             "startlinecolor": "#2a3f5f"
            },
            "type": "carpet"
           }
          ],
          "choropleth": [
           {
            "colorbar": {
             "outlinewidth": 0,
             "ticks": ""
            },
            "type": "choropleth"
           }
          ],
          "contour": [
           {
            "colorbar": {
             "outlinewidth": 0,
             "ticks": ""
            },
            "colorscale": [
             [
              0,
              "#0d0887"
             ],
             [
              0.1111111111111111,
              "#46039f"
             ],
             [
              0.2222222222222222,
              "#7201a8"
             ],
             [
              0.3333333333333333,
              "#9c179e"
             ],
             [
              0.4444444444444444,
              "#bd3786"
             ],
             [
              0.5555555555555556,
              "#d8576b"
             ],
             [
              0.6666666666666666,
              "#ed7953"
             ],
             [
              0.7777777777777778,
              "#fb9f3a"
             ],
             [
              0.8888888888888888,
              "#fdca26"
             ],
             [
              1,
              "#f0f921"
             ]
            ],
            "type": "contour"
           }
          ],
          "contourcarpet": [
           {
            "colorbar": {
             "outlinewidth": 0,
             "ticks": ""
            },
            "type": "contourcarpet"
           }
          ],
          "heatmap": [
           {
            "colorbar": {
             "outlinewidth": 0,
             "ticks": ""
            },
            "colorscale": [
             [
              0,
              "#0d0887"
             ],
             [
              0.1111111111111111,
              "#46039f"
             ],
             [
              0.2222222222222222,
              "#7201a8"
             ],
             [
              0.3333333333333333,
              "#9c179e"
             ],
             [
              0.4444444444444444,
              "#bd3786"
             ],
             [
              0.5555555555555556,
              "#d8576b"
             ],
             [
              0.6666666666666666,
              "#ed7953"
             ],
             [
              0.7777777777777778,
              "#fb9f3a"
             ],
             [
              0.8888888888888888,
              "#fdca26"
             ],
             [
              1,
              "#f0f921"
             ]
            ],
            "type": "heatmap"
           }
          ],
          "heatmapgl": [
           {
            "colorbar": {
             "outlinewidth": 0,
             "ticks": ""
            },
            "colorscale": [
             [
              0,
              "#0d0887"
             ],
             [
              0.1111111111111111,
              "#46039f"
             ],
             [
              0.2222222222222222,
              "#7201a8"
             ],
             [
              0.3333333333333333,
              "#9c179e"
             ],
             [
              0.4444444444444444,
              "#bd3786"
             ],
             [
              0.5555555555555556,
              "#d8576b"
             ],
             [
              0.6666666666666666,
              "#ed7953"
             ],
             [
              0.7777777777777778,
              "#fb9f3a"
             ],
             [
              0.8888888888888888,
              "#fdca26"
             ],
             [
              1,
              "#f0f921"
             ]
            ],
            "type": "heatmapgl"
           }
          ],
          "histogram": [
           {
            "marker": {
             "pattern": {
              "fillmode": "overlay",
              "size": 10,
              "solidity": 0.2
             }
            },
            "type": "histogram"
           }
          ],
          "histogram2d": [
           {
            "colorbar": {
             "outlinewidth": 0,
             "ticks": ""
            },
            "colorscale": [
             [
              0,
              "#0d0887"
             ],
             [
              0.1111111111111111,
              "#46039f"
             ],
             [
              0.2222222222222222,
              "#7201a8"
             ],
             [
              0.3333333333333333,
              "#9c179e"
             ],
             [
              0.4444444444444444,
              "#bd3786"
             ],
             [
              0.5555555555555556,
              "#d8576b"
             ],
             [
              0.6666666666666666,
              "#ed7953"
             ],
             [
              0.7777777777777778,
              "#fb9f3a"
             ],
             [
              0.8888888888888888,
              "#fdca26"
             ],
             [
              1,
              "#f0f921"
             ]
            ],
            "type": "histogram2d"
           }
          ],
          "histogram2dcontour": [
           {
            "colorbar": {
             "outlinewidth": 0,
             "ticks": ""
            },
            "colorscale": [
             [
              0,
              "#0d0887"
             ],
             [
              0.1111111111111111,
              "#46039f"
             ],
             [
              0.2222222222222222,
              "#7201a8"
             ],
             [
              0.3333333333333333,
              "#9c179e"
             ],
             [
              0.4444444444444444,
              "#bd3786"
             ],
             [
              0.5555555555555556,
              "#d8576b"
             ],
             [
              0.6666666666666666,
              "#ed7953"
             ],
             [
              0.7777777777777778,
              "#fb9f3a"
             ],
             [
              0.8888888888888888,
              "#fdca26"
             ],
             [
              1,
              "#f0f921"
             ]
            ],
            "type": "histogram2dcontour"
           }
          ],
          "mesh3d": [
           {
            "colorbar": {
             "outlinewidth": 0,
             "ticks": ""
            },
            "type": "mesh3d"
           }
          ],
          "parcoords": [
           {
            "line": {
             "colorbar": {
              "outlinewidth": 0,
              "ticks": ""
             }
            },
            "type": "parcoords"
           }
          ],
          "pie": [
           {
            "automargin": true,
            "type": "pie"
           }
          ],
          "scatter": [
           {
            "fillpattern": {
             "fillmode": "overlay",
             "size": 10,
             "solidity": 0.2
            },
            "type": "scatter"
           }
          ],
          "scatter3d": [
           {
            "line": {
             "colorbar": {
              "outlinewidth": 0,
              "ticks": ""
             }
            },
            "marker": {
             "colorbar": {
              "outlinewidth": 0,
              "ticks": ""
             }
            },
            "type": "scatter3d"
           }
          ],
          "scattercarpet": [
           {
            "marker": {
             "colorbar": {
              "outlinewidth": 0,
              "ticks": ""
             }
            },
            "type": "scattercarpet"
           }
          ],
          "scattergeo": [
           {
            "marker": {
             "colorbar": {
              "outlinewidth": 0,
              "ticks": ""
             }
            },
            "type": "scattergeo"
           }
          ],
          "scattergl": [
           {
            "marker": {
             "colorbar": {
              "outlinewidth": 0,
              "ticks": ""
             }
            },
            "type": "scattergl"
           }
          ],
          "scattermapbox": [
           {
            "marker": {
             "colorbar": {
              "outlinewidth": 0,
              "ticks": ""
             }
            },
            "type": "scattermapbox"
           }
          ],
          "scatterpolar": [
           {
            "marker": {
             "colorbar": {
              "outlinewidth": 0,
              "ticks": ""
             }
            },
            "type": "scatterpolar"
           }
          ],
          "scatterpolargl": [
           {
            "marker": {
             "colorbar": {
              "outlinewidth": 0,
              "ticks": ""
             }
            },
            "type": "scatterpolargl"
           }
          ],
          "scatterternary": [
           {
            "marker": {
             "colorbar": {
              "outlinewidth": 0,
              "ticks": ""
             }
            },
            "type": "scatterternary"
           }
          ],
          "surface": [
           {
            "colorbar": {
             "outlinewidth": 0,
             "ticks": ""
            },
            "colorscale": [
             [
              0,
              "#0d0887"
             ],
             [
              0.1111111111111111,
              "#46039f"
             ],
             [
              0.2222222222222222,
              "#7201a8"
             ],
             [
              0.3333333333333333,
              "#9c179e"
             ],
             [
              0.4444444444444444,
              "#bd3786"
             ],
             [
              0.5555555555555556,
              "#d8576b"
             ],
             [
              0.6666666666666666,
              "#ed7953"
             ],
             [
              0.7777777777777778,
              "#fb9f3a"
             ],
             [
              0.8888888888888888,
              "#fdca26"
             ],
             [
              1,
              "#f0f921"
             ]
            ],
            "type": "surface"
           }
          ],
          "table": [
           {
            "cells": {
             "fill": {
              "color": "#EBF0F8"
             },
             "line": {
              "color": "white"
             }
            },
            "header": {
             "fill": {
              "color": "#C8D4E3"
             },
             "line": {
              "color": "white"
             }
            },
            "type": "table"
           }
          ]
         },
         "layout": {
          "annotationdefaults": {
           "arrowcolor": "#2a3f5f",
           "arrowhead": 0,
           "arrowwidth": 1
          },
          "autotypenumbers": "strict",
          "coloraxis": {
           "colorbar": {
            "outlinewidth": 0,
            "ticks": ""
           }
          },
          "colorscale": {
           "diverging": [
            [
             0,
             "#8e0152"
            ],
            [
             0.1,
             "#c51b7d"
            ],
            [
             0.2,
             "#de77ae"
            ],
            [
             0.3,
             "#f1b6da"
            ],
            [
             0.4,
             "#fde0ef"
            ],
            [
             0.5,
             "#f7f7f7"
            ],
            [
             0.6,
             "#e6f5d0"
            ],
            [
             0.7,
             "#b8e186"
            ],
            [
             0.8,
             "#7fbc41"
            ],
            [
             0.9,
             "#4d9221"
            ],
            [
             1,
             "#276419"
            ]
           ],
           "sequential": [
            [
             0,
             "#0d0887"
            ],
            [
             0.1111111111111111,
             "#46039f"
            ],
            [
             0.2222222222222222,
             "#7201a8"
            ],
            [
             0.3333333333333333,
             "#9c179e"
            ],
            [
             0.4444444444444444,
             "#bd3786"
            ],
            [
             0.5555555555555556,
             "#d8576b"
            ],
            [
             0.6666666666666666,
             "#ed7953"
            ],
            [
             0.7777777777777778,
             "#fb9f3a"
            ],
            [
             0.8888888888888888,
             "#fdca26"
            ],
            [
             1,
             "#f0f921"
            ]
           ],
           "sequentialminus": [
            [
             0,
             "#0d0887"
            ],
            [
             0.1111111111111111,
             "#46039f"
            ],
            [
             0.2222222222222222,
             "#7201a8"
            ],
            [
             0.3333333333333333,
             "#9c179e"
            ],
            [
             0.4444444444444444,
             "#bd3786"
            ],
            [
             0.5555555555555556,
             "#d8576b"
            ],
            [
             0.6666666666666666,
             "#ed7953"
            ],
            [
             0.7777777777777778,
             "#fb9f3a"
            ],
            [
             0.8888888888888888,
             "#fdca26"
            ],
            [
             1,
             "#f0f921"
            ]
           ]
          },
          "colorway": [
           "#636efa",
           "#EF553B",
           "#00cc96",
           "#ab63fa",
           "#FFA15A",
           "#19d3f3",
           "#FF6692",
           "#B6E880",
           "#FF97FF",
           "#FECB52"
          ],
          "font": {
           "color": "#2a3f5f"
          },
          "geo": {
           "bgcolor": "white",
           "lakecolor": "white",
           "landcolor": "#E5ECF6",
           "showlakes": true,
           "showland": true,
           "subunitcolor": "white"
          },
          "hoverlabel": {
           "align": "left"
          },
          "hovermode": "closest",
          "mapbox": {
           "style": "light"
          },
          "paper_bgcolor": "white",
          "plot_bgcolor": "#E5ECF6",
          "polar": {
           "angularaxis": {
            "gridcolor": "white",
            "linecolor": "white",
            "ticks": ""
           },
           "bgcolor": "#E5ECF6",
           "radialaxis": {
            "gridcolor": "white",
            "linecolor": "white",
            "ticks": ""
           }
          },
          "scene": {
           "xaxis": {
            "backgroundcolor": "#E5ECF6",
            "gridcolor": "white",
            "gridwidth": 2,
            "linecolor": "white",
            "showbackground": true,
            "ticks": "",
            "zerolinecolor": "white"
           },
           "yaxis": {
            "backgroundcolor": "#E5ECF6",
            "gridcolor": "white",
            "gridwidth": 2,
            "linecolor": "white",
            "showbackground": true,
            "ticks": "",
            "zerolinecolor": "white"
           },
           "zaxis": {
            "backgroundcolor": "#E5ECF6",
            "gridcolor": "white",
            "gridwidth": 2,
            "linecolor": "white",
            "showbackground": true,
            "ticks": "",
            "zerolinecolor": "white"
           }
          },
          "shapedefaults": {
           "line": {
            "color": "#2a3f5f"
           }
          },
          "ternary": {
           "aaxis": {
            "gridcolor": "white",
            "linecolor": "white",
            "ticks": ""
           },
           "baxis": {
            "gridcolor": "white",
            "linecolor": "white",
            "ticks": ""
           },
           "bgcolor": "#E5ECF6",
           "caxis": {
            "gridcolor": "white",
            "linecolor": "white",
            "ticks": ""
           }
          },
          "title": {
           "x": 0.05
          },
          "xaxis": {
           "automargin": true,
           "gridcolor": "white",
           "linecolor": "white",
           "ticks": "",
           "title": {
            "standoff": 15
           },
           "zerolinecolor": "white",
           "zerolinewidth": 2
          },
          "yaxis": {
           "automargin": true,
           "gridcolor": "white",
           "linecolor": "white",
           "ticks": "",
           "title": {
            "standoff": 15
           },
           "zerolinecolor": "white",
           "zerolinewidth": 2
          }
         }
        },
        "title": {
         "text": "Histogram of PeakMemory (MB) readings:"
        },
        "xaxis": {
         "anchor": "y",
         "domain": [
          0,
          1
         ],
         "title": {
          "text": "PeakMemory (MB)"
         }
        },
        "yaxis": {
         "anchor": "x",
         "domain": [
          0,
          1
         ],
         "title": {
          "text": "density"
         }
        }
       }
      },
      "text/html": [
       "<div>                            <div id=\"7494fe77-ebdb-476f-aca9-c2982de6560d\" class=\"plotly-graph-div\" style=\"height:525px; width:100%;\"></div>            <script type=\"text/javascript\">                require([\"plotly\"], function(Plotly) {                    window.PLOTLYENV=window.PLOTLYENV || {};                                    if (document.getElementById(\"7494fe77-ebdb-476f-aca9-c2982de6560d\")) {                    Plotly.newPlot(                        \"7494fe77-ebdb-476f-aca9-c2982de6560d\",                        [{\"alignmentgroup\":\"True\",\"bingroup\":\"x\",\"histnorm\":\"density\",\"hovertemplate\":\"x=%{x}<br>density=%{y}<extra></extra>\",\"legendgroup\":\"\",\"marker\":{\"color\":\"#636efa\",\"pattern\":{\"shape\":\"\"}},\"name\":\"\",\"nbinsx\":40,\"offsetgroup\":\"\",\"orientation\":\"v\",\"showlegend\":false,\"x\":[449,453,302,449,450,458,85,308,450,300,86,307,458,448,301,450,298,457,458,453,451,450,457,53,311,452,451,449,456,450,457,50,310,456,450,453,449,305,454,456,458,449,449,450,460,455,51],\"xaxis\":\"x\",\"yaxis\":\"y\",\"type\":\"histogram\"}],                        {\"template\":{\"data\":{\"histogram2dcontour\":[{\"type\":\"histogram2dcontour\",\"colorbar\":{\"outlinewidth\":0,\"ticks\":\"\"},\"colorscale\":[[0.0,\"#0d0887\"],[0.1111111111111111,\"#46039f\"],[0.2222222222222222,\"#7201a8\"],[0.3333333333333333,\"#9c179e\"],[0.4444444444444444,\"#bd3786\"],[0.5555555555555556,\"#d8576b\"],[0.6666666666666666,\"#ed7953\"],[0.7777777777777778,\"#fb9f3a\"],[0.8888888888888888,\"#fdca26\"],[1.0,\"#f0f921\"]]}],\"choropleth\":[{\"type\":\"choropleth\",\"colorbar\":{\"outlinewidth\":0,\"ticks\":\"\"}}],\"histogram2d\":[{\"type\":\"histogram2d\",\"colorbar\":{\"outlinewidth\":0,\"ticks\":\"\"},\"colorscale\":[[0.0,\"#0d0887\"],[0.1111111111111111,\"#46039f\"],[0.2222222222222222,\"#7201a8\"],[0.3333333333333333,\"#9c179e\"],[0.4444444444444444,\"#bd3786\"],[0.5555555555555556,\"#d8576b\"],[0.6666666666666666,\"#ed7953\"],[0.7777777777777778,\"#fb9f3a\"],[0.8888888888888888,\"#fdca26\"],[1.0,\"#f0f921\"]]}],\"heatmap\":[{\"type\":\"heatmap\",\"colorbar\":{\"outlinewidth\":0,\"ticks\":\"\"},\"colorscale\":[[0.0,\"#0d0887\"],[0.1111111111111111,\"#46039f\"],[0.2222222222222222,\"#7201a8\"],[0.3333333333333333,\"#9c179e\"],[0.4444444444444444,\"#bd3786\"],[0.5555555555555556,\"#d8576b\"],[0.6666666666666666,\"#ed7953\"],[0.7777777777777778,\"#fb9f3a\"],[0.8888888888888888,\"#fdca26\"],[1.0,\"#f0f921\"]]}],\"heatmapgl\":[{\"type\":\"heatmapgl\",\"colorbar\":{\"outlinewidth\":0,\"ticks\":\"\"},\"colorscale\":[[0.0,\"#0d0887\"],[0.1111111111111111,\"#46039f\"],[0.2222222222222222,\"#7201a8\"],[0.3333333333333333,\"#9c179e\"],[0.4444444444444444,\"#bd3786\"],[0.5555555555555556,\"#d8576b\"],[0.6666666666666666,\"#ed7953\"],[0.7777777777777778,\"#fb9f3a\"],[0.8888888888888888,\"#fdca26\"],[1.0,\"#f0f921\"]]}],\"contourcarpet\":[{\"type\":\"contourcarpet\",\"colorbar\":{\"outlinewidth\":0,\"ticks\":\"\"}}],\"contour\":[{\"type\":\"contour\",\"colorbar\":{\"outlinewidth\":0,\"ticks\":\"\"},\"colorscale\":[[0.0,\"#0d0887\"],[0.1111111111111111,\"#46039f\"],[0.2222222222222222,\"#7201a8\"],[0.3333333333333333,\"#9c179e\"],[0.4444444444444444,\"#bd3786\"],[0.5555555555555556,\"#d8576b\"],[0.6666666666666666,\"#ed7953\"],[0.7777777777777778,\"#fb9f3a\"],[0.8888888888888888,\"#fdca26\"],[1.0,\"#f0f921\"]]}],\"surface\":[{\"type\":\"surface\",\"colorbar\":{\"outlinewidth\":0,\"ticks\":\"\"},\"colorscale\":[[0.0,\"#0d0887\"],[0.1111111111111111,\"#46039f\"],[0.2222222222222222,\"#7201a8\"],[0.3333333333333333,\"#9c179e\"],[0.4444444444444444,\"#bd3786\"],[0.5555555555555556,\"#d8576b\"],[0.6666666666666666,\"#ed7953\"],[0.7777777777777778,\"#fb9f3a\"],[0.8888888888888888,\"#fdca26\"],[1.0,\"#f0f921\"]]}],\"mesh3d\":[{\"type\":\"mesh3d\",\"colorbar\":{\"outlinewidth\":0,\"ticks\":\"\"}}],\"scatter\":[{\"fillpattern\":{\"fillmode\":\"overlay\",\"size\":10,\"solidity\":0.2},\"type\":\"scatter\"}],\"parcoords\":[{\"type\":\"parcoords\",\"line\":{\"colorbar\":{\"outlinewidth\":0,\"ticks\":\"\"}}}],\"scatterpolargl\":[{\"type\":\"scatterpolargl\",\"marker\":{\"colorbar\":{\"outlinewidth\":0,\"ticks\":\"\"}}}],\"bar\":[{\"error_x\":{\"color\":\"#2a3f5f\"},\"error_y\":{\"color\":\"#2a3f5f\"},\"marker\":{\"line\":{\"color\":\"#E5ECF6\",\"width\":0.5},\"pattern\":{\"fillmode\":\"overlay\",\"size\":10,\"solidity\":0.2}},\"type\":\"bar\"}],\"scattergeo\":[{\"type\":\"scattergeo\",\"marker\":{\"colorbar\":{\"outlinewidth\":0,\"ticks\":\"\"}}}],\"scatterpolar\":[{\"type\":\"scatterpolar\",\"marker\":{\"colorbar\":{\"outlinewidth\":0,\"ticks\":\"\"}}}],\"histogram\":[{\"marker\":{\"pattern\":{\"fillmode\":\"overlay\",\"size\":10,\"solidity\":0.2}},\"type\":\"histogram\"}],\"scattergl\":[{\"type\":\"scattergl\",\"marker\":{\"colorbar\":{\"outlinewidth\":0,\"ticks\":\"\"}}}],\"scatter3d\":[{\"type\":\"scatter3d\",\"line\":{\"colorbar\":{\"outlinewidth\":0,\"ticks\":\"\"}},\"marker\":{\"colorbar\":{\"outlinewidth\":0,\"ticks\":\"\"}}}],\"scattermapbox\":[{\"type\":\"scattermapbox\",\"marker\":{\"colorbar\":{\"outlinewidth\":0,\"ticks\":\"\"}}}],\"scatterternary\":[{\"type\":\"scatterternary\",\"marker\":{\"colorbar\":{\"outlinewidth\":0,\"ticks\":\"\"}}}],\"scattercarpet\":[{\"type\":\"scattercarpet\",\"marker\":{\"colorbar\":{\"outlinewidth\":0,\"ticks\":\"\"}}}],\"carpet\":[{\"aaxis\":{\"endlinecolor\":\"#2a3f5f\",\"gridcolor\":\"white\",\"linecolor\":\"white\",\"minorgridcolor\":\"white\",\"startlinecolor\":\"#2a3f5f\"},\"baxis\":{\"endlinecolor\":\"#2a3f5f\",\"gridcolor\":\"white\",\"linecolor\":\"white\",\"minorgridcolor\":\"white\",\"startlinecolor\":\"#2a3f5f\"},\"type\":\"carpet\"}],\"table\":[{\"cells\":{\"fill\":{\"color\":\"#EBF0F8\"},\"line\":{\"color\":\"white\"}},\"header\":{\"fill\":{\"color\":\"#C8D4E3\"},\"line\":{\"color\":\"white\"}},\"type\":\"table\"}],\"barpolar\":[{\"marker\":{\"line\":{\"color\":\"#E5ECF6\",\"width\":0.5},\"pattern\":{\"fillmode\":\"overlay\",\"size\":10,\"solidity\":0.2}},\"type\":\"barpolar\"}],\"pie\":[{\"automargin\":true,\"type\":\"pie\"}]},\"layout\":{\"autotypenumbers\":\"strict\",\"colorway\":[\"#636efa\",\"#EF553B\",\"#00cc96\",\"#ab63fa\",\"#FFA15A\",\"#19d3f3\",\"#FF6692\",\"#B6E880\",\"#FF97FF\",\"#FECB52\"],\"font\":{\"color\":\"#2a3f5f\"},\"hovermode\":\"closest\",\"hoverlabel\":{\"align\":\"left\"},\"paper_bgcolor\":\"white\",\"plot_bgcolor\":\"#E5ECF6\",\"polar\":{\"bgcolor\":\"#E5ECF6\",\"angularaxis\":{\"gridcolor\":\"white\",\"linecolor\":\"white\",\"ticks\":\"\"},\"radialaxis\":{\"gridcolor\":\"white\",\"linecolor\":\"white\",\"ticks\":\"\"}},\"ternary\":{\"bgcolor\":\"#E5ECF6\",\"aaxis\":{\"gridcolor\":\"white\",\"linecolor\":\"white\",\"ticks\":\"\"},\"baxis\":{\"gridcolor\":\"white\",\"linecolor\":\"white\",\"ticks\":\"\"},\"caxis\":{\"gridcolor\":\"white\",\"linecolor\":\"white\",\"ticks\":\"\"}},\"coloraxis\":{\"colorbar\":{\"outlinewidth\":0,\"ticks\":\"\"}},\"colorscale\":{\"sequential\":[[0.0,\"#0d0887\"],[0.1111111111111111,\"#46039f\"],[0.2222222222222222,\"#7201a8\"],[0.3333333333333333,\"#9c179e\"],[0.4444444444444444,\"#bd3786\"],[0.5555555555555556,\"#d8576b\"],[0.6666666666666666,\"#ed7953\"],[0.7777777777777778,\"#fb9f3a\"],[0.8888888888888888,\"#fdca26\"],[1.0,\"#f0f921\"]],\"sequentialminus\":[[0.0,\"#0d0887\"],[0.1111111111111111,\"#46039f\"],[0.2222222222222222,\"#7201a8\"],[0.3333333333333333,\"#9c179e\"],[0.4444444444444444,\"#bd3786\"],[0.5555555555555556,\"#d8576b\"],[0.6666666666666666,\"#ed7953\"],[0.7777777777777778,\"#fb9f3a\"],[0.8888888888888888,\"#fdca26\"],[1.0,\"#f0f921\"]],\"diverging\":[[0,\"#8e0152\"],[0.1,\"#c51b7d\"],[0.2,\"#de77ae\"],[0.3,\"#f1b6da\"],[0.4,\"#fde0ef\"],[0.5,\"#f7f7f7\"],[0.6,\"#e6f5d0\"],[0.7,\"#b8e186\"],[0.8,\"#7fbc41\"],[0.9,\"#4d9221\"],[1,\"#276419\"]]},\"xaxis\":{\"gridcolor\":\"white\",\"linecolor\":\"white\",\"ticks\":\"\",\"title\":{\"standoff\":15},\"zerolinecolor\":\"white\",\"automargin\":true,\"zerolinewidth\":2},\"yaxis\":{\"gridcolor\":\"white\",\"linecolor\":\"white\",\"ticks\":\"\",\"title\":{\"standoff\":15},\"zerolinecolor\":\"white\",\"automargin\":true,\"zerolinewidth\":2},\"scene\":{\"xaxis\":{\"backgroundcolor\":\"#E5ECF6\",\"gridcolor\":\"white\",\"linecolor\":\"white\",\"showbackground\":true,\"ticks\":\"\",\"zerolinecolor\":\"white\",\"gridwidth\":2},\"yaxis\":{\"backgroundcolor\":\"#E5ECF6\",\"gridcolor\":\"white\",\"linecolor\":\"white\",\"showbackground\":true,\"ticks\":\"\",\"zerolinecolor\":\"white\",\"gridwidth\":2},\"zaxis\":{\"backgroundcolor\":\"#E5ECF6\",\"gridcolor\":\"white\",\"linecolor\":\"white\",\"showbackground\":true,\"ticks\":\"\",\"zerolinecolor\":\"white\",\"gridwidth\":2}},\"shapedefaults\":{\"line\":{\"color\":\"#2a3f5f\"}},\"annotationdefaults\":{\"arrowcolor\":\"#2a3f5f\",\"arrowhead\":0,\"arrowwidth\":1},\"geo\":{\"bgcolor\":\"white\",\"landcolor\":\"#E5ECF6\",\"subunitcolor\":\"white\",\"showland\":true,\"showlakes\":true,\"lakecolor\":\"white\"},\"title\":{\"x\":0.05},\"mapbox\":{\"style\":\"light\"}}},\"xaxis\":{\"anchor\":\"y\",\"domain\":[0.0,1.0],\"title\":{\"text\":\"PeakMemory (MB)\"}},\"yaxis\":{\"anchor\":\"x\",\"domain\":[0.0,1.0],\"title\":{\"text\":\"density\"}},\"legend\":{\"tracegroupgap\":0},\"margin\":{\"t\":60},\"barmode\":\"relative\",\"title\":{\"text\":\"Histogram of PeakMemory (MB) readings:\"}},                        {\"responsive\": true}                    ).then(function(){\n",
       "                            \n",
       "var gd = document.getElementById('7494fe77-ebdb-476f-aca9-c2982de6560d');\n",
       "var x = new MutationObserver(function (mutations, observer) {{\n",
       "        var display = window.getComputedStyle(gd).display;\n",
       "        if (!display || display === 'none') {{\n",
       "            console.log([gd, 'removed!']);\n",
       "            Plotly.purge(gd);\n",
       "            observer.disconnect();\n",
       "        }}\n",
       "}});\n",
       "\n",
       "// Listen for the removal of the full notebook cells\n",
       "var notebookContainer = gd.closest('#notebook-container');\n",
       "if (notebookContainer) {{\n",
       "    x.observe(notebookContainer, {childList: true});\n",
       "}}\n",
       "\n",
       "// Listen for the clearing of the current output cell\n",
       "var outputEl = gd.closest('.output');\n",
       "if (outputEl) {{\n",
       "    x.observe(outputEl, {childList: true});\n",
       "}}\n",
       "\n",
       "                        })                };                });            </script>        </div>"
      ]
     },
     "metadata": {},
     "output_type": "display_data"
    }
   ],
   "source": [
    "fig = px.histogram(x=merge['PeakMemory (MB)'], nbins=40, histnorm='density')\n",
    "fig.update_layout(title='Histogram of PeakMemory (MB) readings:',\n",
    "                 xaxis_title='PeakMemory (MB)', yaxis_title='density')"
   ]
  },
  {
   "cell_type": "code",
   "execution_count": 84,
   "metadata": {},
   "outputs": [
    {
     "data": {
      "text/plain": [
       "<matplotlib.axes._subplots.AxesSubplot at 0x2807d9a3348>"
      ]
     },
     "execution_count": 84,
     "metadata": {},
     "output_type": "execute_result"
    },
    {
     "data": {
      "image/png": "[encoded data removed]",
      "text/plain": [
       "<Figure size 432x288 with 1 Axes>"
      ]
     },
     "metadata": {
      "needs_background": "light"
     },
     "output_type": "display_data"
    }
   ],
   "source": [
    "merge['Build'].value_counts().plot(kind='bar')\n",
    "#Findings so far:\n",
    "\n",
    "#Build 10 is most common, 1-9 are all less common (only 3 devices for each one)"
   ]
  },
  {
   "cell_type": "code",
   "execution_count": 85,
   "metadata": {},
   "outputs": [
    {
     "data": {
      "text/plain": [
       "<matplotlib.axes._subplots.AxesSubplot at 0x2807daab188>"
      ]
     },
     "execution_count": 85,
     "metadata": {},
     "output_type": "execute_result"
    },
    {
     "data": {
      "image/png": "[encoded data removed]",
      "text/plain": [
       "<Figure size 432x288 with 1 Axes>"
      ]
     },
     "metadata": {
      "needs_background": "light"
     },
     "output_type": "display_data"
    }
   ],
   "source": [
    "merge['MLNetwork'].value_counts().plot(kind='bar')\n",
    "#Findings so far:\n",
    "\n",
    "#Number of AlexNet is twice as much as MobileNet"
   ]
  },
  {
   "cell_type": "code",
   "execution_count": 86,
   "metadata": {},
   "outputs": [
    {
     "data": {
      "text/plain": [
       "<matplotlib.axes._subplots.AxesSubplot at 0x2807db138c8>"
      ]
     },
     "execution_count": 86,
     "metadata": {},
     "output_type": "execute_result"
    },
    {
     "data": {
      "image/png": "[encoded data removed]",
      "text/plain": [
       "<Figure size 432x288 with 1 Axes>"
      ]
     },
     "metadata": {
      "needs_background": "light"
     },
     "output_type": "display_data"
    }
   ],
   "source": [
    "merge['Optimised'].value_counts().plot(kind='bar')\n",
    "#Findings so far:\n",
    "\n",
    "#Most devices (around 75%) are unoptimised"
   ]
  },
  {
   "cell_type": "code",
   "execution_count": 87,
   "metadata": {},
   "outputs": [
    {
     "data": {
      "text/plain": [
       "<matplotlib.axes._subplots.AxesSubplot at 0x2807d9f8f08>"
      ]
     },
     "execution_count": 87,
     "metadata": {},
     "output_type": "execute_result"
    },
    {
     "data": {
      "image/png": "[encoded data removed]",
      "text/plain": [
       "<Figure size 432x288 with 1 Axes>"
      ]
     },
     "metadata": {
      "needs_background": "light"
     },
     "output_type": "display_data"
    }
   ],
   "source": [
    "merge['Threads'].value_counts().plot(kind='bar')\n",
    "#Findings so far:\n",
    "\n",
    "#Majority of devices have 5 threads, and vast majority is multi threaded"
   ]
  },
  {
   "cell_type": "code",
   "execution_count": 88,
   "metadata": {},
   "outputs": [
    {
     "data": {
      "text/plain": [
       "<matplotlib.axes._subplots.AxesSubplot at 0x2807db18c08>"
      ]
     },
     "execution_count": 88,
     "metadata": {},
     "output_type": "execute_result"
    },
    {
     "data": {
      "image/png": "[encoded data removed]",
      "text/plain": [
       "<Figure size 432x288 with 1 Axes>"
      ]
     },
     "metadata": {
      "needs_background": "light"
     },
     "output_type": "display_data"
    }
   ],
   "source": [
    "merge['Device'].value_counts().plot(kind='bar')"
   ]
  },
  {
   "cell_type": "code",
   "execution_count": 89,
   "metadata": {},
   "outputs": [
    {
     "data": {
      "text/plain": [
       "<matplotlib.axes._subplots.AxesSubplot at 0x2807db8be08>"
      ]
     },
     "execution_count": 89,
     "metadata": {},
     "output_type": "execute_result"
    },
    {
     "data": {
      "image/png": "[encoded data removed]",
      "text/plain": [
       "<Figure size 432x288 with 1 Axes>"
      ]
     },
     "metadata": {
      "needs_background": "light"
     },
     "output_type": "display_data"
    }
   ],
   "source": [
    "merge['CPUFrequency (MHz)'].value_counts().plot(kind='bar')"
   ]
  },
  {
   "cell_type": "code",
   "execution_count": null,
   "metadata": {},
   "outputs": [],
   "source": [
    "#Findings so far:\n",
    "\n",
    "#Device 1 under reperesented, need to increase sample size\n",
    "#Majority of devices have 5 threads, and vast majority is multi threaded\n",
    "#Majority unoptimised\n",
    "#AlexNet most common MLNetwork\n",
    "#10 is most common build\n",
    "#1000Hz is most common frequency"
   ]
  },
  {
   "cell_type": "code",
   "execution_count": 90,
   "metadata": {},
   "outputs": [
    {
     "name": "stdout",
     "output_type": "stream",
     "text": [
      "          TestId  CPUFrequency (MHz)    Threads      Build   Time (ms)  \\\n",
      "count  47.000000           47.000000  47.000000  47.000000   47.000000   \n",
      "mean   23.000000         1297.872340   4.148936   7.127660  128.801418   \n",
      "std    13.711309          462.267268   1.366982   3.187046  149.035930   \n",
      "min     0.000000         1000.000000   1.000000   1.000000   19.000000   \n",
      "25%    11.500000         1000.000000   3.500000   4.500000   51.500000   \n",
      "50%    23.000000         1000.000000   5.000000   8.000000   83.333333   \n",
      "75%    34.500000         2000.000000   5.000000  10.000000  114.500000   \n",
      "max    46.000000         2000.000000   5.000000  10.000000  800.000000   \n",
      "\n",
      "       PeakMemory (MB)  \n",
      "count        47.000000  \n",
      "mean        383.234043  \n",
      "std         125.454168  \n",
      "min          50.000000  \n",
      "25%         309.000000  \n",
      "50%         450.000000  \n",
      "75%         454.500000  \n",
      "max         460.000000  \n"
     ]
    }
   ],
   "source": [
    "merge2 = merge.describe()\n",
    "print(merge2)"
   ]
  },
  {
   "cell_type": "code",
   "execution_count": 91,
   "metadata": {},
   "outputs": [
    {
     "data": {
      "text/html": [
       "<div>\n",
       "<style scoped>\n",
       "    .dataframe tbody tr th:only-of-type {\n",
       "        vertical-align: middle;\n",
       "    }\n",
       "\n",
       "    .dataframe tbody tr th {\n",
       "        vertical-align: top;\n",
       "    }\n",
       "\n",
       "    .dataframe thead th {\n",
       "        text-align: right;\n",
       "    }\n",
       "</style>\n",
       "<table border=\"1\" class=\"dataframe\">\n",
       "  <thead>\n",
       "    <tr style=\"text-align: right;\">\n",
       "      <th></th>\n",
       "      <th>TestId</th>\n",
       "      <th>CPUFrequency (MHz)</th>\n",
       "      <th>Build</th>\n",
       "      <th>Time (ms)</th>\n",
       "      <th>PeakMemory (MB)</th>\n",
       "    </tr>\n",
       "    <tr>\n",
       "      <th>Threads</th>\n",
       "      <th></th>\n",
       "      <th></th>\n",
       "      <th></th>\n",
       "      <th></th>\n",
       "      <th></th>\n",
       "    </tr>\n",
       "  </thead>\n",
       "  <tbody>\n",
       "    <tr>\n",
       "      <th>1</th>\n",
       "      <td>34.500000</td>\n",
       "      <td>1250.000000</td>\n",
       "      <td>10.000000</td>\n",
       "      <td>412.500000</td>\n",
       "      <td>237.500000</td>\n",
       "    </tr>\n",
       "    <tr>\n",
       "      <th>2</th>\n",
       "      <td>35.500000</td>\n",
       "      <td>1250.000000</td>\n",
       "      <td>10.000000</td>\n",
       "      <td>231.250000</td>\n",
       "      <td>243.000000</td>\n",
       "    </tr>\n",
       "    <tr>\n",
       "      <th>3</th>\n",
       "      <td>36.500000</td>\n",
       "      <td>1250.000000</td>\n",
       "      <td>10.000000</td>\n",
       "      <td>154.166667</td>\n",
       "      <td>243.500000</td>\n",
       "    </tr>\n",
       "    <tr>\n",
       "      <th>4</th>\n",
       "      <td>37.500000</td>\n",
       "      <td>1250.000000</td>\n",
       "      <td>10.000000</td>\n",
       "      <td>175.000000</td>\n",
       "      <td>361.000000</td>\n",
       "    </tr>\n",
       "    <tr>\n",
       "      <th>5</th>\n",
       "      <td>16.290323</td>\n",
       "      <td>1322.580645</td>\n",
       "      <td>5.645161</td>\n",
       "      <td>69.741935</td>\n",
       "      <td>441.032258</td>\n",
       "    </tr>\n",
       "  </tbody>\n",
       "</table>\n",
       "</div>"
      ],
      "text/plain": [
       "            TestId  CPUFrequency (MHz)      Build   Time (ms)  PeakMemory (MB)\n",
       "Threads                                                                       \n",
       "1        34.500000         1250.000000  10.000000  412.500000       237.500000\n",
       "2        35.500000         1250.000000  10.000000  231.250000       243.000000\n",
       "3        36.500000         1250.000000  10.000000  154.166667       243.500000\n",
       "4        37.500000         1250.000000  10.000000  175.000000       361.000000\n",
       "5        16.290323         1322.580645   5.645161   69.741935       441.032258"
      ]
     },
     "execution_count": 91,
     "metadata": {},
     "output_type": "execute_result"
    }
   ],
   "source": [
    "meansThreads = merge.groupby('Threads').mean()\n",
    "meansThreads\n",
    "#Findings so far:\n",
    "\n",
    "#CPUFrequency (MHz) doesn't vary much \n",
    "#Build is 10 for Threads 1,2,3,4. Build varies for 5 Threads\n",
    "#PeakMemory (MB) increases as Thread count increases\n",
    "#Generally Time (ms) decreases as thread count increases"
   ]
  },
  {
   "cell_type": "code",
   "execution_count": 92,
   "metadata": {},
   "outputs": [
    {
     "data": {
      "text/html": [
       "<div>\n",
       "<style scoped>\n",
       "    .dataframe tbody tr th:only-of-type {\n",
       "        vertical-align: middle;\n",
       "    }\n",
       "\n",
       "    .dataframe tbody tr th {\n",
       "        vertical-align: top;\n",
       "    }\n",
       "\n",
       "    .dataframe thead th {\n",
       "        text-align: right;\n",
       "    }\n",
       "</style>\n",
       "<table border=\"1\" class=\"dataframe\">\n",
       "  <thead>\n",
       "    <tr style=\"text-align: right;\">\n",
       "      <th></th>\n",
       "      <th>TestId</th>\n",
       "      <th>CPUFrequency (MHz)</th>\n",
       "      <th>Threads</th>\n",
       "      <th>Time (ms)</th>\n",
       "      <th>PeakMemory (MB)</th>\n",
       "    </tr>\n",
       "    <tr>\n",
       "      <th>Build</th>\n",
       "      <th></th>\n",
       "      <th></th>\n",
       "      <th></th>\n",
       "      <th></th>\n",
       "      <th></th>\n",
       "    </tr>\n",
       "  </thead>\n",
       "  <tbody>\n",
       "    <tr>\n",
       "      <th>1</th>\n",
       "      <td>9.0</td>\n",
       "      <td>1333.333333</td>\n",
       "      <td>5.0</td>\n",
       "      <td>73.000000</td>\n",
       "      <td>452.000000</td>\n",
       "    </tr>\n",
       "    <tr>\n",
       "      <th>2</th>\n",
       "      <td>10.0</td>\n",
       "      <td>1333.333333</td>\n",
       "      <td>5.0</td>\n",
       "      <td>73.000000</td>\n",
       "      <td>452.000000</td>\n",
       "    </tr>\n",
       "    <tr>\n",
       "      <th>3</th>\n",
       "      <td>11.0</td>\n",
       "      <td>1333.333333</td>\n",
       "      <td>5.0</td>\n",
       "      <td>73.666667</td>\n",
       "      <td>453.333333</td>\n",
       "    </tr>\n",
       "    <tr>\n",
       "      <th>4</th>\n",
       "      <td>12.0</td>\n",
       "      <td>1333.333333</td>\n",
       "      <td>5.0</td>\n",
       "      <td>72.666667</td>\n",
       "      <td>453.333333</td>\n",
       "    </tr>\n",
       "    <tr>\n",
       "      <th>5</th>\n",
       "      <td>13.0</td>\n",
       "      <td>1333.333333</td>\n",
       "      <td>5.0</td>\n",
       "      <td>71.666667</td>\n",
       "      <td>452.000000</td>\n",
       "    </tr>\n",
       "    <tr>\n",
       "      <th>6</th>\n",
       "      <td>14.0</td>\n",
       "      <td>1333.333333</td>\n",
       "      <td>5.0</td>\n",
       "      <td>58.000000</td>\n",
       "      <td>452.333333</td>\n",
       "    </tr>\n",
       "    <tr>\n",
       "      <th>7</th>\n",
       "      <td>15.0</td>\n",
       "      <td>1333.333333</td>\n",
       "      <td>5.0</td>\n",
       "      <td>57.333333</td>\n",
       "      <td>454.333333</td>\n",
       "    </tr>\n",
       "    <tr>\n",
       "      <th>8</th>\n",
       "      <td>16.0</td>\n",
       "      <td>1333.333333</td>\n",
       "      <td>5.0</td>\n",
       "      <td>60.000000</td>\n",
       "      <td>454.000000</td>\n",
       "    </tr>\n",
       "    <tr>\n",
       "      <th>9</th>\n",
       "      <td>17.0</td>\n",
       "      <td>1333.333333</td>\n",
       "      <td>5.0</td>\n",
       "      <td>58.000000</td>\n",
       "      <td>451.666667</td>\n",
       "    </tr>\n",
       "    <tr>\n",
       "      <th>10</th>\n",
       "      <td>36.5</td>\n",
       "      <td>1250.000000</td>\n",
       "      <td>3.0</td>\n",
       "      <td>213.083333</td>\n",
       "      <td>289.350000</td>\n",
       "    </tr>\n",
       "  </tbody>\n",
       "</table>\n",
       "</div>"
      ],
      "text/plain": [
       "       TestId  CPUFrequency (MHz)  Threads   Time (ms)  PeakMemory (MB)\n",
       "Build                                                                  \n",
       "1         9.0         1333.333333      5.0   73.000000       452.000000\n",
       "2        10.0         1333.333333      5.0   73.000000       452.000000\n",
       "3        11.0         1333.333333      5.0   73.666667       453.333333\n",
       "4        12.0         1333.333333      5.0   72.666667       453.333333\n",
       "5        13.0         1333.333333      5.0   71.666667       452.000000\n",
       "6        14.0         1333.333333      5.0   58.000000       452.333333\n",
       "7        15.0         1333.333333      5.0   57.333333       454.333333\n",
       "8        16.0         1333.333333      5.0   60.000000       454.000000\n",
       "9        17.0         1333.333333      5.0   58.000000       451.666667\n",
       "10       36.5         1250.000000      3.0  213.083333       289.350000"
      ]
     },
     "execution_count": 92,
     "metadata": {},
     "output_type": "execute_result"
    }
   ],
   "source": [
    "meansBuild = merge.groupby('Build').mean()\n",
    "meansBuild\n",
    "#Findings so far:\n",
    "\n",
    "#CPUFrequency (MHz) is roughly the same for different Build variants\n",
    "#Threads is same value for Build 1-9. Thread count is lower for 10, because Thread count varies for Build 10\n",
    "#Time (ms) decreases as Build increases for 1-9, but spikes at Build 10. \n",
    "#PeakMemory (MB) is similar for Build 1-9, and much lower for Build 10"
   ]
  },
  {
   "cell_type": "code",
   "execution_count": 93,
   "metadata": {},
   "outputs": [
    {
     "data": {
      "text/html": [
       "<div>\n",
       "<style scoped>\n",
       "    .dataframe tbody tr th:only-of-type {\n",
       "        vertical-align: middle;\n",
       "    }\n",
       "\n",
       "    .dataframe tbody tr th {\n",
       "        vertical-align: top;\n",
       "    }\n",
       "\n",
       "    .dataframe thead th {\n",
       "        text-align: right;\n",
       "    }\n",
       "</style>\n",
       "<table border=\"1\" class=\"dataframe\">\n",
       "  <thead>\n",
       "    <tr style=\"text-align: right;\">\n",
       "      <th></th>\n",
       "      <th>TestId</th>\n",
       "      <th>CPUFrequency (MHz)</th>\n",
       "      <th>Threads</th>\n",
       "      <th>Build</th>\n",
       "      <th>Time (ms)</th>\n",
       "      <th>PeakMemory (MB)</th>\n",
       "    </tr>\n",
       "    <tr>\n",
       "      <th>Optimised</th>\n",
       "      <th></th>\n",
       "      <th></th>\n",
       "      <th></th>\n",
       "      <th></th>\n",
       "      <th></th>\n",
       "      <th></th>\n",
       "    </tr>\n",
       "  </thead>\n",
       "  <tbody>\n",
       "    <tr>\n",
       "      <th>N</th>\n",
       "      <td>21.973684</td>\n",
       "      <td>1368.421053</td>\n",
       "      <td>4.210526</td>\n",
       "      <td>6.710526</td>\n",
       "      <td>150.982456</td>\n",
       "      <td>418.105263</td>\n",
       "    </tr>\n",
       "    <tr>\n",
       "      <th>Y</th>\n",
       "      <td>27.333333</td>\n",
       "      <td>1000.000000</td>\n",
       "      <td>3.888889</td>\n",
       "      <td>8.888889</td>\n",
       "      <td>35.148148</td>\n",
       "      <td>236.000000</td>\n",
       "    </tr>\n",
       "  </tbody>\n",
       "</table>\n",
       "</div>"
      ],
      "text/plain": [
       "              TestId  CPUFrequency (MHz)   Threads     Build   Time (ms)  \\\n",
       "Optimised                                                                  \n",
       "N          21.973684         1368.421053  4.210526  6.710526  150.982456   \n",
       "Y          27.333333         1000.000000  3.888889  8.888889   35.148148   \n",
       "\n",
       "           PeakMemory (MB)  \n",
       "Optimised                   \n",
       "N               418.105263  \n",
       "Y               236.000000  "
      ]
     },
     "execution_count": 93,
     "metadata": {},
     "output_type": "execute_result"
    }
   ],
   "source": [
    "meansOptimised = merge.groupby('Optimised').mean()\n",
    "meansOptimised\n",
    "#Findings so far:\n",
    "\n",
    "#Optimised CPUs tend to have lower Frequencies, because unoptimised CPUs have higher frequency variants\n",
    "#Optimised CPUs have lower Time (ms)\n",
    "#Optimised CPUs tend to have lower Threads counts\n",
    "#Optimised CPUs have lower PeakMemory (MB) usage\n",
    "#Optimised CPUs have lower Build"
   ]
  },
  {
   "cell_type": "code",
   "execution_count": 94,
   "metadata": {},
   "outputs": [
    {
     "data": {
      "text/html": [
       "<div>\n",
       "<style scoped>\n",
       "    .dataframe tbody tr th:only-of-type {\n",
       "        vertical-align: middle;\n",
       "    }\n",
       "\n",
       "    .dataframe tbody tr th {\n",
       "        vertical-align: top;\n",
       "    }\n",
       "\n",
       "    .dataframe thead th {\n",
       "        text-align: right;\n",
       "    }\n",
       "</style>\n",
       "<table border=\"1\" class=\"dataframe\">\n",
       "  <thead>\n",
       "    <tr style=\"text-align: right;\">\n",
       "      <th></th>\n",
       "      <th>TestId</th>\n",
       "      <th>CPUFrequency (MHz)</th>\n",
       "      <th>Threads</th>\n",
       "      <th>Build</th>\n",
       "      <th>Time (ms)</th>\n",
       "      <th>PeakMemory (MB)</th>\n",
       "    </tr>\n",
       "    <tr>\n",
       "      <th>MLNetwork</th>\n",
       "      <th></th>\n",
       "      <th></th>\n",
       "      <th></th>\n",
       "      <th></th>\n",
       "      <th></th>\n",
       "      <th></th>\n",
       "    </tr>\n",
       "  </thead>\n",
       "  <tbody>\n",
       "    <tr>\n",
       "      <th>AlexNet</th>\n",
       "      <td>25.000000</td>\n",
       "      <td>1424.242424</td>\n",
       "      <td>4.090909</td>\n",
       "      <td>7.272727</td>\n",
       "      <td>164.070707</td>\n",
       "      <td>413.303030</td>\n",
       "    </tr>\n",
       "    <tr>\n",
       "      <th>MobileNet</th>\n",
       "      <td>18.285714</td>\n",
       "      <td>1000.000000</td>\n",
       "      <td>4.285714</td>\n",
       "      <td>6.785714</td>\n",
       "      <td>45.666667</td>\n",
       "      <td>312.357143</td>\n",
       "    </tr>\n",
       "  </tbody>\n",
       "</table>\n",
       "</div>"
      ],
      "text/plain": [
       "              TestId  CPUFrequency (MHz)   Threads     Build   Time (ms)  \\\n",
       "MLNetwork                                                                  \n",
       "AlexNet    25.000000         1424.242424  4.090909  7.272727  164.070707   \n",
       "MobileNet  18.285714         1000.000000  4.285714  6.785714   45.666667   \n",
       "\n",
       "           PeakMemory (MB)  \n",
       "MLNetwork                   \n",
       "AlexNet         413.303030  \n",
       "MobileNet       312.357143  "
      ]
     },
     "execution_count": 94,
     "metadata": {},
     "output_type": "execute_result"
    }
   ],
   "source": [
    "meansMLNetwork = merge.groupby('MLNetwork').mean()\n",
    "meansMLNetwork\n",
    "#Findings so far:\n",
    "\n",
    "#MobileNet CPUs have same frequency, AlexNet CPUs have high frequency variants\n",
    "#Build and Threads have little difference between MLNetwork variants\n",
    "#PeakMemory (MB) is around 300 for MobileNet and around 400 for AlexNet. \n",
    "#AlexNet has lower usage than MobileNet.\n",
    "#Time (ms) is much lower for MobileNet. Around 45 for MobileNet and 165 for AlexNet."
   ]
  },
  {
   "cell_type": "code",
   "execution_count": 95,
   "metadata": {},
   "outputs": [
    {
     "data": {
      "text/html": [
       "<div>\n",
       "<style scoped>\n",
       "    .dataframe tbody tr th:only-of-type {\n",
       "        vertical-align: middle;\n",
       "    }\n",
       "\n",
       "    .dataframe tbody tr th {\n",
       "        vertical-align: top;\n",
       "    }\n",
       "\n",
       "    .dataframe thead th {\n",
       "        text-align: right;\n",
       "    }\n",
       "</style>\n",
       "<table border=\"1\" class=\"dataframe\">\n",
       "  <thead>\n",
       "    <tr style=\"text-align: right;\">\n",
       "      <th></th>\n",
       "      <th>TestId</th>\n",
       "      <th>CPUFrequency (MHz)</th>\n",
       "      <th>Threads</th>\n",
       "      <th>Build</th>\n",
       "      <th>Time (ms)</th>\n",
       "      <th>PeakMemory (MB)</th>\n",
       "    </tr>\n",
       "    <tr>\n",
       "      <th>Device</th>\n",
       "      <th></th>\n",
       "      <th></th>\n",
       "      <th></th>\n",
       "      <th></th>\n",
       "      <th></th>\n",
       "      <th></th>\n",
       "    </tr>\n",
       "  </thead>\n",
       "  <tbody>\n",
       "    <tr>\n",
       "      <th>Device_0</th>\n",
       "      <td>21.095238</td>\n",
       "      <td>1333.333333</td>\n",
       "      <td>4.285714</td>\n",
       "      <td>6.785714</td>\n",
       "      <td>94.531746</td>\n",
       "      <td>385.809524</td>\n",
       "    </tr>\n",
       "    <tr>\n",
       "      <th>Device_1</th>\n",
       "      <td>39.000000</td>\n",
       "      <td>1000.000000</td>\n",
       "      <td>3.000000</td>\n",
       "      <td>10.000000</td>\n",
       "      <td>416.666667</td>\n",
       "      <td>361.600000</td>\n",
       "    </tr>\n",
       "  </tbody>\n",
       "</table>\n",
       "</div>"
      ],
      "text/plain": [
       "             TestId  CPUFrequency (MHz)   Threads      Build   Time (ms)  \\\n",
       "Device                                                                     \n",
       "Device_0  21.095238         1333.333333  4.285714   6.785714   94.531746   \n",
       "Device_1  39.000000         1000.000000  3.000000  10.000000  416.666667   \n",
       "\n",
       "          PeakMemory (MB)  \n",
       "Device                     \n",
       "Device_0       385.809524  \n",
       "Device_1       361.600000  "
      ]
     },
     "execution_count": 95,
     "metadata": {},
     "output_type": "execute_result"
    }
   ],
   "source": [
    "meansDevice = merge.groupby('Device').mean()\n",
    "meansDevice\n",
    "#Findings so far:\n",
    "\n",
    "#Device_1 CPUs tend to have lower Frequencies, because Device_0 CPUs have higher frequency variants\n",
    "#Device_0 CPUs have higher thread counts\n",
    "#Device_0 CPUs have lower Time (ms) of completion\n",
    "#Similar PeakMemory (MB) usage between both variants\n",
    "#Device_1 is entirely build value 10"
   ]
  },
  {
   "cell_type": "code",
   "execution_count": 115,
   "metadata": {},
   "outputs": [
    {
     "data": {
      "text/html": [
       "<div>\n",
       "<style scoped>\n",
       "    .dataframe tbody tr th:only-of-type {\n",
       "        vertical-align: middle;\n",
       "    }\n",
       "\n",
       "    .dataframe tbody tr th {\n",
       "        vertical-align: top;\n",
       "    }\n",
       "\n",
       "    .dataframe thead th {\n",
       "        text-align: right;\n",
       "    }\n",
       "</style>\n",
       "<table border=\"1\" class=\"dataframe\">\n",
       "  <thead>\n",
       "    <tr style=\"text-align: right;\">\n",
       "      <th></th>\n",
       "      <th>TestId</th>\n",
       "      <th>Threads</th>\n",
       "      <th>Build</th>\n",
       "      <th>Time (ms)</th>\n",
       "      <th>PeakMemory (MB)</th>\n",
       "    </tr>\n",
       "    <tr>\n",
       "      <th>CPUFrequency (MHz)</th>\n",
       "      <th></th>\n",
       "      <th></th>\n",
       "      <th></th>\n",
       "      <th></th>\n",
       "      <th></th>\n",
       "    </tr>\n",
       "  </thead>\n",
       "  <tbody>\n",
       "    <tr>\n",
       "      <th>1000</th>\n",
       "      <td>21.606061</td>\n",
       "      <td>4.090909</td>\n",
       "      <td>7.272727</td>\n",
       "      <td>144.737374</td>\n",
       "      <td>365.606061</td>\n",
       "    </tr>\n",
       "    <tr>\n",
       "      <th>2000</th>\n",
       "      <td>26.285714</td>\n",
       "      <td>4.285714</td>\n",
       "      <td>6.785714</td>\n",
       "      <td>91.238095</td>\n",
       "      <td>424.785714</td>\n",
       "    </tr>\n",
       "  </tbody>\n",
       "</table>\n",
       "</div>"
      ],
      "text/plain": [
       "                       TestId   Threads     Build   Time (ms)  PeakMemory (MB)\n",
       "CPUFrequency (MHz)                                                            \n",
       "1000                21.606061  4.090909  7.272727  144.737374       365.606061\n",
       "2000                26.285714  4.285714  6.785714   91.238095       424.785714"
      ]
     },
     "execution_count": 115,
     "metadata": {},
     "output_type": "execute_result"
    }
   ],
   "source": [
    "meansFrequency = merge.groupby('CPUFrequency (MHz)').mean()\n",
    "meansFrequency\n",
    "#Findings so far:\n",
    "\n",
    "#Higher frequency leads to lower times\n",
    "#Higher frequency leads to more PeakMemory (MB) usage\n",
    "#Thread count similar between frequencies\n",
    "#Build variant similar between frequencies"
   ]
  },
  {
   "cell_type": "code",
   "execution_count": 116,
   "metadata": {},
   "outputs": [
    {
     "data": {
      "text/html": [
       "<div>\n",
       "<style scoped>\n",
       "    .dataframe tbody tr th:only-of-type {\n",
       "        vertical-align: middle;\n",
       "    }\n",
       "\n",
       "    .dataframe tbody tr th {\n",
       "        vertical-align: top;\n",
       "    }\n",
       "\n",
       "    .dataframe thead th {\n",
       "        text-align: right;\n",
       "    }\n",
       "</style>\n",
       "<table border=\"1\" class=\"dataframe\">\n",
       "  <thead>\n",
       "    <tr style=\"text-align: right;\">\n",
       "      <th></th>\n",
       "      <th>TestId</th>\n",
       "      <th>CPUFrequency (MHz)</th>\n",
       "      <th>Threads</th>\n",
       "      <th>Build</th>\n",
       "      <th>Time (ms)</th>\n",
       "    </tr>\n",
       "    <tr>\n",
       "      <th>PeakMemory (MB)</th>\n",
       "      <th></th>\n",
       "      <th></th>\n",
       "      <th></th>\n",
       "      <th></th>\n",
       "      <th></th>\n",
       "    </tr>\n",
       "  </thead>\n",
       "  <tbody>\n",
       "    <tr>\n",
       "      <th>50</th>\n",
       "      <td>43.000000</td>\n",
       "      <td>1000.0</td>\n",
       "      <td>2.000000</td>\n",
       "      <td>10.000000</td>\n",
       "      <td>50.000000</td>\n",
       "    </tr>\n",
       "    <tr>\n",
       "      <th>51</th>\n",
       "      <td>42.000000</td>\n",
       "      <td>1000.0</td>\n",
       "      <td>1.000000</td>\n",
       "      <td>10.000000</td>\n",
       "      <td>100.000000</td>\n",
       "    </tr>\n",
       "    <tr>\n",
       "      <th>53</th>\n",
       "      <td>44.000000</td>\n",
       "      <td>1000.0</td>\n",
       "      <td>3.000000</td>\n",
       "      <td>10.000000</td>\n",
       "      <td>33.333333</td>\n",
       "    </tr>\n",
       "    <tr>\n",
       "      <th>85</th>\n",
       "      <td>45.000000</td>\n",
       "      <td>1000.0</td>\n",
       "      <td>4.000000</td>\n",
       "      <td>10.000000</td>\n",
       "      <td>25.000000</td>\n",
       "    </tr>\n",
       "    <tr>\n",
       "      <th>86</th>\n",
       "      <td>46.000000</td>\n",
       "      <td>1000.0</td>\n",
       "      <td>5.000000</td>\n",
       "      <td>10.000000</td>\n",
       "      <td>20.000000</td>\n",
       "    </tr>\n",
       "    <tr>\n",
       "      <th>298</th>\n",
       "      <td>37.000000</td>\n",
       "      <td>1000.0</td>\n",
       "      <td>1.000000</td>\n",
       "      <td>10.000000</td>\n",
       "      <td>800.000000</td>\n",
       "    </tr>\n",
       "    <tr>\n",
       "      <th>300</th>\n",
       "      <td>27.000000</td>\n",
       "      <td>1000.0</td>\n",
       "      <td>1.000000</td>\n",
       "      <td>10.000000</td>\n",
       "      <td>500.000000</td>\n",
       "    </tr>\n",
       "    <tr>\n",
       "      <th>301</th>\n",
       "      <td>32.000000</td>\n",
       "      <td>2000.0</td>\n",
       "      <td>1.000000</td>\n",
       "      <td>10.000000</td>\n",
       "      <td>250.000000</td>\n",
       "    </tr>\n",
       "    <tr>\n",
       "      <th>302</th>\n",
       "      <td>39.000000</td>\n",
       "      <td>1000.0</td>\n",
       "      <td>3.000000</td>\n",
       "      <td>10.000000</td>\n",
       "      <td>333.333333</td>\n",
       "    </tr>\n",
       "    <tr>\n",
       "      <th>305</th>\n",
       "      <td>38.000000</td>\n",
       "      <td>1000.0</td>\n",
       "      <td>2.000000</td>\n",
       "      <td>10.000000</td>\n",
       "      <td>500.000000</td>\n",
       "    </tr>\n",
       "    <tr>\n",
       "      <th>307</th>\n",
       "      <td>33.000000</td>\n",
       "      <td>2000.0</td>\n",
       "      <td>2.000000</td>\n",
       "      <td>10.000000</td>\n",
       "      <td>125.000000</td>\n",
       "    </tr>\n",
       "    <tr>\n",
       "      <th>308</th>\n",
       "      <td>34.000000</td>\n",
       "      <td>2000.0</td>\n",
       "      <td>3.000000</td>\n",
       "      <td>10.000000</td>\n",
       "      <td>83.333333</td>\n",
       "    </tr>\n",
       "    <tr>\n",
       "      <th>310</th>\n",
       "      <td>28.000000</td>\n",
       "      <td>1000.0</td>\n",
       "      <td>2.000000</td>\n",
       "      <td>10.000000</td>\n",
       "      <td>250.000000</td>\n",
       "    </tr>\n",
       "    <tr>\n",
       "      <th>311</th>\n",
       "      <td>29.000000</td>\n",
       "      <td>1000.0</td>\n",
       "      <td>3.000000</td>\n",
       "      <td>10.000000</td>\n",
       "      <td>166.666667</td>\n",
       "    </tr>\n",
       "    <tr>\n",
       "      <th>448</th>\n",
       "      <td>4.000000</td>\n",
       "      <td>1000.0</td>\n",
       "      <td>5.000000</td>\n",
       "      <td>5.000000</td>\n",
       "      <td>63.000000</td>\n",
       "    </tr>\n",
       "    <tr>\n",
       "      <th>449</th>\n",
       "      <td>18.500000</td>\n",
       "      <td>1000.0</td>\n",
       "      <td>4.833333</td>\n",
       "      <td>7.666667</td>\n",
       "      <td>99.000000</td>\n",
       "    </tr>\n",
       "    <tr>\n",
       "      <th>450</th>\n",
       "      <td>9.142857</td>\n",
       "      <td>1000.0</td>\n",
       "      <td>4.857143</td>\n",
       "      <td>4.571429</td>\n",
       "      <td>78.000000</td>\n",
       "    </tr>\n",
       "    <tr>\n",
       "      <th>451</th>\n",
       "      <td>4.000000</td>\n",
       "      <td>1000.0</td>\n",
       "      <td>5.000000</td>\n",
       "      <td>5.000000</td>\n",
       "      <td>43.500000</td>\n",
       "    </tr>\n",
       "    <tr>\n",
       "      <th>452</th>\n",
       "      <td>13.000000</td>\n",
       "      <td>1000.0</td>\n",
       "      <td>5.000000</td>\n",
       "      <td>5.000000</td>\n",
       "      <td>101.000000</td>\n",
       "    </tr>\n",
       "    <tr>\n",
       "      <th>453</th>\n",
       "      <td>13.000000</td>\n",
       "      <td>1000.0</td>\n",
       "      <td>5.000000</td>\n",
       "      <td>5.000000</td>\n",
       "      <td>103.333333</td>\n",
       "    </tr>\n",
       "    <tr>\n",
       "      <th>454</th>\n",
       "      <td>41.000000</td>\n",
       "      <td>1000.0</td>\n",
       "      <td>5.000000</td>\n",
       "      <td>10.000000</td>\n",
       "      <td>200.000000</td>\n",
       "    </tr>\n",
       "    <tr>\n",
       "      <th>455</th>\n",
       "      <td>15.000000</td>\n",
       "      <td>1000.0</td>\n",
       "      <td>5.000000</td>\n",
       "      <td>7.000000</td>\n",
       "      <td>97.000000</td>\n",
       "    </tr>\n",
       "    <tr>\n",
       "      <th>456</th>\n",
       "      <td>19.666667</td>\n",
       "      <td>2000.0</td>\n",
       "      <td>5.000000</td>\n",
       "      <td>2.666667</td>\n",
       "      <td>52.333333</td>\n",
       "    </tr>\n",
       "    <tr>\n",
       "      <th>457</th>\n",
       "      <td>22.333333</td>\n",
       "      <td>2000.0</td>\n",
       "      <td>5.000000</td>\n",
       "      <td>5.333333</td>\n",
       "      <td>51.666667</td>\n",
       "    </tr>\n",
       "    <tr>\n",
       "      <th>458</th>\n",
       "      <td>27.000000</td>\n",
       "      <td>2000.0</td>\n",
       "      <td>5.000000</td>\n",
       "      <td>7.750000</td>\n",
       "      <td>51.750000</td>\n",
       "    </tr>\n",
       "    <tr>\n",
       "      <th>460</th>\n",
       "      <td>35.000000</td>\n",
       "      <td>2000.0</td>\n",
       "      <td>4.000000</td>\n",
       "      <td>10.000000</td>\n",
       "      <td>300.000000</td>\n",
       "    </tr>\n",
       "  </tbody>\n",
       "</table>\n",
       "</div>"
      ],
      "text/plain": [
       "                    TestId  CPUFrequency (MHz)   Threads      Build  \\\n",
       "PeakMemory (MB)                                                       \n",
       "50               43.000000              1000.0  2.000000  10.000000   \n",
       "51               42.000000              1000.0  1.000000  10.000000   \n",
       "53               44.000000              1000.0  3.000000  10.000000   \n",
       "85               45.000000              1000.0  4.000000  10.000000   \n",
       "86               46.000000              1000.0  5.000000  10.000000   \n",
       "298              37.000000              1000.0  1.000000  10.000000   \n",
       "300              27.000000              1000.0  1.000000  10.000000   \n",
       "301              32.000000              2000.0  1.000000  10.000000   \n",
       "302              39.000000              1000.0  3.000000  10.000000   \n",
       "305              38.000000              1000.0  2.000000  10.000000   \n",
       "307              33.000000              2000.0  2.000000  10.000000   \n",
       "308              34.000000              2000.0  3.000000  10.000000   \n",
       "310              28.000000              1000.0  2.000000  10.000000   \n",
       "311              29.000000              1000.0  3.000000  10.000000   \n",
       "448               4.000000              1000.0  5.000000   5.000000   \n",
       "449              18.500000              1000.0  4.833333   7.666667   \n",
       "450               9.142857              1000.0  4.857143   4.571429   \n",
       "451               4.000000              1000.0  5.000000   5.000000   \n",
       "452              13.000000              1000.0  5.000000   5.000000   \n",
       "453              13.000000              1000.0  5.000000   5.000000   \n",
       "454              41.000000              1000.0  5.000000  10.000000   \n",
       "455              15.000000              1000.0  5.000000   7.000000   \n",
       "456              19.666667              2000.0  5.000000   2.666667   \n",
       "457              22.333333              2000.0  5.000000   5.333333   \n",
       "458              27.000000              2000.0  5.000000   7.750000   \n",
       "460              35.000000              2000.0  4.000000  10.000000   \n",
       "\n",
       "                  Time (ms)  \n",
       "PeakMemory (MB)              \n",
       "50                50.000000  \n",
       "51               100.000000  \n",
       "53                33.333333  \n",
       "85                25.000000  \n",
       "86                20.000000  \n",
       "298              800.000000  \n",
       "300              500.000000  \n",
       "301              250.000000  \n",
       "302              333.333333  \n",
       "305              500.000000  \n",
       "307              125.000000  \n",
       "308               83.333333  \n",
       "310              250.000000  \n",
       "311              166.666667  \n",
       "448               63.000000  \n",
       "449               99.000000  \n",
       "450               78.000000  \n",
       "451               43.500000  \n",
       "452              101.000000  \n",
       "453              103.333333  \n",
       "454              200.000000  \n",
       "455               97.000000  \n",
       "456               52.333333  \n",
       "457               51.666667  \n",
       "458               51.750000  \n",
       "460              300.000000  "
      ]
     },
     "execution_count": 116,
     "metadata": {},
     "output_type": "execute_result"
    }
   ],
   "source": [
    "meansMemory = merge.groupby('PeakMemory (MB)').mean()\n",
    "meansMemory"
   ]
  },
  {
   "cell_type": "code",
   "execution_count": 117,
   "metadata": {},
   "outputs": [
    {
     "data": {
      "text/html": [
       "<div>\n",
       "<style scoped>\n",
       "    .dataframe tbody tr th:only-of-type {\n",
       "        vertical-align: middle;\n",
       "    }\n",
       "\n",
       "    .dataframe tbody tr th {\n",
       "        vertical-align: top;\n",
       "    }\n",
       "\n",
       "    .dataframe thead th {\n",
       "        text-align: right;\n",
       "    }\n",
       "</style>\n",
       "<table border=\"1\" class=\"dataframe\">\n",
       "  <thead>\n",
       "    <tr style=\"text-align: right;\">\n",
       "      <th></th>\n",
       "      <th>TestId</th>\n",
       "      <th>CPUFrequency (MHz)</th>\n",
       "      <th>Threads</th>\n",
       "      <th>Build</th>\n",
       "      <th>PeakMemory (MB)</th>\n",
       "    </tr>\n",
       "    <tr>\n",
       "      <th>Time (ms)</th>\n",
       "      <th></th>\n",
       "      <th></th>\n",
       "      <th></th>\n",
       "      <th></th>\n",
       "      <th></th>\n",
       "    </tr>\n",
       "  </thead>\n",
       "  <tbody>\n",
       "    <tr>\n",
       "      <th>19.000000</th>\n",
       "      <td>8.000000</td>\n",
       "      <td>1000.000000</td>\n",
       "      <td>5.000000</td>\n",
       "      <td>9.00</td>\n",
       "      <td>449.000000</td>\n",
       "    </tr>\n",
       "    <tr>\n",
       "      <th>20.000000</th>\n",
       "      <td>46.000000</td>\n",
       "      <td>1000.000000</td>\n",
       "      <td>5.000000</td>\n",
       "      <td>10.00</td>\n",
       "      <td>86.000000</td>\n",
       "    </tr>\n",
       "    <tr>\n",
       "      <th>21.000000</th>\n",
       "      <td>5.000000</td>\n",
       "      <td>1000.000000</td>\n",
       "      <td>5.000000</td>\n",
       "      <td>6.00</td>\n",
       "      <td>449.000000</td>\n",
       "    </tr>\n",
       "    <tr>\n",
       "      <th>23.000000</th>\n",
       "      <td>7.000000</td>\n",
       "      <td>1000.000000</td>\n",
       "      <td>5.000000</td>\n",
       "      <td>8.00</td>\n",
       "      <td>451.000000</td>\n",
       "    </tr>\n",
       "    <tr>\n",
       "      <th>25.000000</th>\n",
       "      <td>25.500000</td>\n",
       "      <td>1000.000000</td>\n",
       "      <td>4.500000</td>\n",
       "      <td>8.50</td>\n",
       "      <td>267.500000</td>\n",
       "    </tr>\n",
       "    <tr>\n",
       "      <th>33.333333</th>\n",
       "      <td>44.000000</td>\n",
       "      <td>1000.000000</td>\n",
       "      <td>3.000000</td>\n",
       "      <td>10.00</td>\n",
       "      <td>53.000000</td>\n",
       "    </tr>\n",
       "    <tr>\n",
       "      <th>50.000000</th>\n",
       "      <td>31.000000</td>\n",
       "      <td>1750.000000</td>\n",
       "      <td>4.250000</td>\n",
       "      <td>7.75</td>\n",
       "      <td>355.750000</td>\n",
       "    </tr>\n",
       "    <tr>\n",
       "      <th>51.000000</th>\n",
       "      <td>22.000000</td>\n",
       "      <td>2000.000000</td>\n",
       "      <td>5.000000</td>\n",
       "      <td>5.00</td>\n",
       "      <td>456.000000</td>\n",
       "    </tr>\n",
       "    <tr>\n",
       "      <th>52.000000</th>\n",
       "      <td>20.000000</td>\n",
       "      <td>2000.000000</td>\n",
       "      <td>5.000000</td>\n",
       "      <td>3.00</td>\n",
       "      <td>457.000000</td>\n",
       "    </tr>\n",
       "    <tr>\n",
       "      <th>53.000000</th>\n",
       "      <td>22.000000</td>\n",
       "      <td>2000.000000</td>\n",
       "      <td>5.000000</td>\n",
       "      <td>5.00</td>\n",
       "      <td>456.750000</td>\n",
       "    </tr>\n",
       "    <tr>\n",
       "      <th>54.000000</th>\n",
       "      <td>23.000000</td>\n",
       "      <td>2000.000000</td>\n",
       "      <td>5.000000</td>\n",
       "      <td>6.00</td>\n",
       "      <td>458.000000</td>\n",
       "    </tr>\n",
       "    <tr>\n",
       "      <th>63.000000</th>\n",
       "      <td>4.000000</td>\n",
       "      <td>1000.000000</td>\n",
       "      <td>5.000000</td>\n",
       "      <td>5.00</td>\n",
       "      <td>448.000000</td>\n",
       "    </tr>\n",
       "    <tr>\n",
       "      <th>64.000000</th>\n",
       "      <td>1.000000</td>\n",
       "      <td>1000.000000</td>\n",
       "      <td>5.000000</td>\n",
       "      <td>2.00</td>\n",
       "      <td>451.000000</td>\n",
       "    </tr>\n",
       "    <tr>\n",
       "      <th>65.000000</th>\n",
       "      <td>1.000000</td>\n",
       "      <td>1000.000000</td>\n",
       "      <td>5.000000</td>\n",
       "      <td>2.00</td>\n",
       "      <td>450.000000</td>\n",
       "    </tr>\n",
       "    <tr>\n",
       "      <th>66.000000</th>\n",
       "      <td>3.000000</td>\n",
       "      <td>1000.000000</td>\n",
       "      <td>5.000000</td>\n",
       "      <td>4.00</td>\n",
       "      <td>450.000000</td>\n",
       "    </tr>\n",
       "    <tr>\n",
       "      <th>83.333333</th>\n",
       "      <td>34.000000</td>\n",
       "      <td>2000.000000</td>\n",
       "      <td>3.000000</td>\n",
       "      <td>10.00</td>\n",
       "      <td>308.000000</td>\n",
       "    </tr>\n",
       "    <tr>\n",
       "      <th>97.000000</th>\n",
       "      <td>15.000000</td>\n",
       "      <td>1000.000000</td>\n",
       "      <td>5.000000</td>\n",
       "      <td>7.00</td>\n",
       "      <td>455.000000</td>\n",
       "    </tr>\n",
       "    <tr>\n",
       "      <th>99.000000</th>\n",
       "      <td>14.000000</td>\n",
       "      <td>1000.000000</td>\n",
       "      <td>5.000000</td>\n",
       "      <td>6.00</td>\n",
       "      <td>450.000000</td>\n",
       "    </tr>\n",
       "    <tr>\n",
       "      <th>100.000000</th>\n",
       "      <td>36.500000</td>\n",
       "      <td>1000.000000</td>\n",
       "      <td>3.000000</td>\n",
       "      <td>10.00</td>\n",
       "      <td>250.000000</td>\n",
       "    </tr>\n",
       "    <tr>\n",
       "      <th>101.000000</th>\n",
       "      <td>11.000000</td>\n",
       "      <td>1000.000000</td>\n",
       "      <td>5.000000</td>\n",
       "      <td>3.00</td>\n",
       "      <td>451.000000</td>\n",
       "    </tr>\n",
       "    <tr>\n",
       "      <th>102.000000</th>\n",
       "      <td>13.000000</td>\n",
       "      <td>1000.000000</td>\n",
       "      <td>5.000000</td>\n",
       "      <td>5.00</td>\n",
       "      <td>450.333333</td>\n",
       "    </tr>\n",
       "    <tr>\n",
       "      <th>104.000000</th>\n",
       "      <td>13.500000</td>\n",
       "      <td>1000.000000</td>\n",
       "      <td>5.000000</td>\n",
       "      <td>5.50</td>\n",
       "      <td>453.000000</td>\n",
       "    </tr>\n",
       "    <tr>\n",
       "      <th>125.000000</th>\n",
       "      <td>31.500000</td>\n",
       "      <td>1500.000000</td>\n",
       "      <td>3.000000</td>\n",
       "      <td>10.00</td>\n",
       "      <td>378.500000</td>\n",
       "    </tr>\n",
       "    <tr>\n",
       "      <th>166.666667</th>\n",
       "      <td>29.000000</td>\n",
       "      <td>1000.000000</td>\n",
       "      <td>3.000000</td>\n",
       "      <td>10.00</td>\n",
       "      <td>311.000000</td>\n",
       "    </tr>\n",
       "    <tr>\n",
       "      <th>200.000000</th>\n",
       "      <td>41.000000</td>\n",
       "      <td>1000.000000</td>\n",
       "      <td>5.000000</td>\n",
       "      <td>10.00</td>\n",
       "      <td>454.000000</td>\n",
       "    </tr>\n",
       "    <tr>\n",
       "      <th>250.000000</th>\n",
       "      <td>33.333333</td>\n",
       "      <td>1333.333333</td>\n",
       "      <td>2.333333</td>\n",
       "      <td>10.00</td>\n",
       "      <td>353.333333</td>\n",
       "    </tr>\n",
       "    <tr>\n",
       "      <th>300.000000</th>\n",
       "      <td>35.000000</td>\n",
       "      <td>2000.000000</td>\n",
       "      <td>4.000000</td>\n",
       "      <td>10.00</td>\n",
       "      <td>460.000000</td>\n",
       "    </tr>\n",
       "    <tr>\n",
       "      <th>333.333333</th>\n",
       "      <td>39.000000</td>\n",
       "      <td>1000.000000</td>\n",
       "      <td>3.000000</td>\n",
       "      <td>10.00</td>\n",
       "      <td>302.000000</td>\n",
       "    </tr>\n",
       "    <tr>\n",
       "      <th>500.000000</th>\n",
       "      <td>32.500000</td>\n",
       "      <td>1000.000000</td>\n",
       "      <td>1.500000</td>\n",
       "      <td>10.00</td>\n",
       "      <td>302.500000</td>\n",
       "    </tr>\n",
       "    <tr>\n",
       "      <th>800.000000</th>\n",
       "      <td>37.000000</td>\n",
       "      <td>1000.000000</td>\n",
       "      <td>1.000000</td>\n",
       "      <td>10.00</td>\n",
       "      <td>298.000000</td>\n",
       "    </tr>\n",
       "  </tbody>\n",
       "</table>\n",
       "</div>"
      ],
      "text/plain": [
       "               TestId  CPUFrequency (MHz)   Threads  Build  PeakMemory (MB)\n",
       "Time (ms)                                                                  \n",
       "19.000000    8.000000         1000.000000  5.000000   9.00       449.000000\n",
       "20.000000   46.000000         1000.000000  5.000000  10.00        86.000000\n",
       "21.000000    5.000000         1000.000000  5.000000   6.00       449.000000\n",
       "23.000000    7.000000         1000.000000  5.000000   8.00       451.000000\n",
       "25.000000   25.500000         1000.000000  4.500000   8.50       267.500000\n",
       "33.333333   44.000000         1000.000000  3.000000  10.00        53.000000\n",
       "50.000000   31.000000         1750.000000  4.250000   7.75       355.750000\n",
       "51.000000   22.000000         2000.000000  5.000000   5.00       456.000000\n",
       "52.000000   20.000000         2000.000000  5.000000   3.00       457.000000\n",
       "53.000000   22.000000         2000.000000  5.000000   5.00       456.750000\n",
       "54.000000   23.000000         2000.000000  5.000000   6.00       458.000000\n",
       "63.000000    4.000000         1000.000000  5.000000   5.00       448.000000\n",
       "64.000000    1.000000         1000.000000  5.000000   2.00       451.000000\n",
       "65.000000    1.000000         1000.000000  5.000000   2.00       450.000000\n",
       "66.000000    3.000000         1000.000000  5.000000   4.00       450.000000\n",
       "83.333333   34.000000         2000.000000  3.000000  10.00       308.000000\n",
       "97.000000   15.000000         1000.000000  5.000000   7.00       455.000000\n",
       "99.000000   14.000000         1000.000000  5.000000   6.00       450.000000\n",
       "100.000000  36.500000         1000.000000  3.000000  10.00       250.000000\n",
       "101.000000  11.000000         1000.000000  5.000000   3.00       451.000000\n",
       "102.000000  13.000000         1000.000000  5.000000   5.00       450.333333\n",
       "104.000000  13.500000         1000.000000  5.000000   5.50       453.000000\n",
       "125.000000  31.500000         1500.000000  3.000000  10.00       378.500000\n",
       "166.666667  29.000000         1000.000000  3.000000  10.00       311.000000\n",
       "200.000000  41.000000         1000.000000  5.000000  10.00       454.000000\n",
       "250.000000  33.333333         1333.333333  2.333333  10.00       353.333333\n",
       "300.000000  35.000000         2000.000000  4.000000  10.00       460.000000\n",
       "333.333333  39.000000         1000.000000  3.000000  10.00       302.000000\n",
       "500.000000  32.500000         1000.000000  1.500000  10.00       302.500000\n",
       "800.000000  37.000000         1000.000000  1.000000  10.00       298.000000"
      ]
     },
     "execution_count": 117,
     "metadata": {},
     "output_type": "execute_result"
    }
   ],
   "source": [
    "meansTime = merge.groupby('Time (ms)').mean()\n",
    "meansTime"
   ]
  },
  {
   "cell_type": "code",
   "execution_count": null,
   "metadata": {},
   "outputs": [],
   "source": [
    "#For lowest Time (ms)\n",
    "\n",
    "#High thread count\n",
    "#Using Device_0\n",
    "#Using MobileNet\n",
    "#Optimised\n",
    "#Build variant 7 \n",
    "\n",
    "#Questions\n",
    "#Why is build 10 not the best for low times?\n",
    "#Build 10 is most common, so could be common on low spec models."
   ]
  },
  {
   "cell_type": "code",
   "execution_count": null,
   "metadata": {},
   "outputs": [],
   "source": [
    "#Findings\n",
    "\n",
    "#Correlation between time and peak memory is very weak.\n",
    "#Device 1 under reperesented, need to increase sample size\n",
    "#Majority of devices have 5 threads, and vast majority is multi threaded\n",
    "#Majority unoptimised\n",
    "#AlexNet most common MLNetwork\n",
    "#10 is most common build\n",
    "#1000Hz is most common frequency\n",
    "\n",
    "\n",
    "#Comparing Threads:\n",
    "\n",
    "#CPUFrequency (MHz) doesn't vary much \n",
    "#Build is 10 for Threads 1,2,3,4. Build varies for 5 Threads\n",
    "#PeakMemory (MB) increases as Thread count increases\n",
    "#Generally Time (ms) decreases as thread count increases\n",
    "\n",
    "\n",
    "#Comparing Build types:\n",
    "\n",
    "#CPUFrequency (MHz) is roughly the same for different Build variants\n",
    "#Threads is same value for Build 1-9. Thread count is lower for 10, because Thread count varies for Build 10\n",
    "#Time (ms) decreases as Build increases for 1-9, but spikes at Build 10. \n",
    "#PeakMemory (MB) is similar for Build 1-9, and much lower for Build 10\n",
    "\n",
    "\n",
    "#Comparing Optimization:\n",
    "\n",
    "#Optimised CPUs tend to have lower Frequencies, because unoptimised CPUs have higher frequency variants\n",
    "#Optimised CPUs have lower Time (ms)\n",
    "#Optimised CPUs tend to have lower Threads counts\n",
    "#Optimised CPUs have lower PeakMemory (MB) usage\n",
    "#Optimised CPUs have lower Build\n",
    "\n",
    "\n",
    "#Comparing MLNetwork type:\n",
    "\n",
    "#MobileNet CPUs have same frequency, AlexNet CPUs have high frequency variants\n",
    "#Build and Threads have little difference between MLNetwork variants\n",
    "#PeakMemory (MB) is around 300 for MobileNet and around 400 for AlexNet. \n",
    "#AlexNet has lower usage than MobileNet.\n",
    "#Time (ms) is much lower for MobileNet. Around 45 for MobileNet and 165 for AlexNet.\n",
    "\n",
    "\n",
    "#Comparing Device type:\n",
    "#Device_1 CPUs tend to have lower Frequencies, because Device_0 CPUs have higher frequency variants\n",
    "#Device_0 CPUs have higher thread counts\n",
    "#Device_0 CPUs have lower Time (ms) of completion\n",
    "#Similar PeakMemory (MB) usage between both variants\n",
    "#Device_1 is entirely build value 10\n",
    "\n",
    "\n",
    "#Comparing CPUFrequency (MHz):\t\n",
    "\n",
    "#Higher frequency leads to lower times\n",
    "#Higher frequency leads to more PeakMemory (MB) usage\n",
    "#Thread count similar between frequencies\n",
    "#Build variant similar between frequencies\n",
    "\n",
    "#What leads to highest PeakMemory (MB)?\n",
    "\n",
    "#Higher CPU frequency leads to more memory usage. Perhaps higher frequency CPU can take advantage or more memory.\n",
    "#Device_0 uses slightly more memory. Perhaps Device_0 has more onboard memory.\n",
    "#AlexNet leads to more memory usage.\n",
    "#Non-optimised devices leads to more memory usage. Perhaps optimisation leads to better and more efficient memory usage.\n",
    "#Build 1-9, have significantly more memory usage. Perhaps Build 10 leads to better and more efficient memory usage.\n",
    "#Thread count 5 have the most memory usage. Perhaps because more threads can utilize the available memory.\n",
    "\n",
    "#Why is this the case? Why has the observed behaviour has occurred?\n",
    "\n",
    "#Data indicates that this is the case.\n",
    "\n",
    "#Perhaps higher frequency CPU can take advantage of more memory.\n",
    "#Perhaps Device_0 has more onboard memory.\n",
    "#Perhaps optimisation leads to better and more efficient memory usage.\n",
    "#Perhaps Build 10 leads to better and more efficient memory usage.\n",
    "#Perhaps because more threads can utilize the available memory.\n",
    "\n",
    "\n",
    "#What leads to lowest times?\n",
    "\n",
    "#Higher frequency on CPU have lower time of completion.\n",
    "#Device_0 have lower time of completion.\n",
    "#MobileNet has lower average time of completion.\n",
    "#Optimised CPUs have lower time of completion.\n",
    "#Higher thread counts have lower time of completion.\n",
    "\n",
    "\n",
    "#Why is this the case? Why has the observed behaviour has occurred?\n",
    "\n",
    "#Data indicates that this is the case.\n",
    "\n",
    "#Logically, higher frequency and threadcounts would lead to better performance, as more frequency means more instuctions \n",
    "#completed per minute, and more thread count means more instuctions completed simultaneously. Task length would depend\n",
    "#on how quickly the instructions were completed, so these two factors are significant in determing the result. \n",
    "\n",
    "#Optimised devices would complete the task quicker, as they are optimised for the task, and are thus more efficient at \n",
    "#completing it.\n",
    "\n",
    "#MobileNet has lower average time of completion, perhaps their devices are better designed for this, as they have slightly \n",
    "#higher average thread count, and are better optimized for the task.\n",
    "\n",
    "\n",
    "#Follow up actions for development team\n",
    "\n",
    "\n",
    "#Ways to improve the sample of data, as many categories are underreperesented:\n",
    "#Increase Device 1 sampling, to increase sample size to get more accurate data.\n",
    "#Increase amount of Threads 1,2,3,4, to get more accurate data. \n",
    "#Include more optimized devices in testing.\n",
    "#Add more build 1-9 devices, as they are severely under reperesented. Could help get explanation on why build 7 performs best.\n",
    "\n",
    "#What leads to lowest times?\n",
    "\n",
    "#Higher frequency on CPU have lower time of completion.\n",
    "#Device_0 have lower time of completion.\n",
    "#MobileNet has lower average time of completion.\n",
    "#Optimised CPUs have lower time of completion.\n",
    "#Higher thread counts have lower time of completion.\n",
    "\n",
    "#What leads to highest PeakMemory (MB)?\n",
    "\n",
    "#Higher CPU frequency leads to more memory usage.\n",
    "#Device_0 uses slightly more memory.\n",
    "#AlexNet leads to more memory usage.\n",
    "#Non-optimised devices leads to more memory usage.\n",
    "#Build 1-9, have significantly more memory usage.\n",
    "#Thread count 5 have the most memory usage."
   ]
  }
 ],
 "metadata": {
  "kernelspec": {
   "display_name": "Python 3",
   "language": "python",
   "name": "python3"
  },
  "language_info": {
   "codemirror_mode": {
    "name": "ipython",
    "version": 3
   },
   "file_extension": ".py",
   "mimetype": "text/x-python",
   "name": "python",
   "nbconvert_exporter": "python",
   "pygments_lexer": "ipython3",
   "version": "3.7.4"
  }
 },
 "nbformat": 4,
 "nbformat_minor": 2
}
