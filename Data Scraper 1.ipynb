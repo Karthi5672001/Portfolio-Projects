{
 "cells": [
  {
   "cell_type": "code",
   "execution_count": null,
   "metadata": {},
   "outputs": [],
   "source": []
  },
  {
   "cell_type": "code",
   "execution_count": 51,
   "metadata": {},
   "outputs": [
    {
     "name": "stdout",
     "output_type": "stream",
     "text": [
      "2022-11-24\n",
      "\n",
      "     Samsung 870 QVO 2 TB SATA 2.5 Inch Internal Solid State Drive (SSD) (MZ-77Q2T0), Black\n",
      "    \n",
      "\n",
      "      35,842 ratings\n",
      "     \n"
     ]
    }
   ],
   "source": [
    "from bs4 import BeautifulSoup\n",
    "import requests\n",
    "import time\n",
    "import datetime\n",
    "import smtplib\n",
    "# Timestamp\n",
    "today = datetime.date.today()\n",
    "print(today)\n",
    "#We look for ratings and item name\n",
    "\n",
    "#Website\n",
    "URL = 'https://www.amazon.co.uk/Samsung-Internal-Solid-State-MZ-77Q2T0/dp/B089R1C9HV/?_encoding=UTF8&pd_rd_w=zJWcG&content-id=amzn1.sym.3bcd4179-dfc9-4ec8-bccf-cf5b493a737e&pf_rd_p=3bcd4179-dfc9-4ec8-bccf-cf5b493a737e&pf_rd_r=G6VAYVBFXP7QF62SBV6B&pd_rd_wg=b1zuZ&pd_rd_r=48fdaf4f-1cf6-4f32-a025-e8dd00c6b8df&ref_=pd_gw_deals_m1&th=1'\n",
    "#Computer\n",
    "headers = {\"User-Agent\": \"Mozilla/5.0 (Windows NT 10.0; Win64; x64) AppleWebKit/537.36 (KHTML, like Gecko) Chrome/107.0.0.0 Safari/537.36\",  \"Accept-Encoding\":\"gzip, deflate\", \"Accept\":\"text/html,application/xhtml+xml,application/xml;q=0.9,*/*;q=0.8\", \"DNT\":\"1\",\"Connection\":\"close\", \"Upgrade-Insecure-Requests\":\"1\"}\n",
    "\n",
    "page = requests.get(URL, headers=headers)\n",
    "\n",
    "soup1 = BeautifulSoup(page.content, \"html.parser\")\n",
    "\n",
    "soup2 = BeautifulSoup(soup1.prettify(), \"html.parser\")\n",
    "\n",
    "title = soup2.find(id='productTitle').get_text()\n",
    "\n",
    "ratings = soup2.find(id='acrCustomerReviewText').get_text()\n",
    "\n",
    "\n",
    "print(title)\n",
    "print(ratings)"
   ]
  },
  {
   "cell_type": "code",
   "execution_count": 52,
   "metadata": {},
   "outputs": [
    {
     "name": "stdout",
     "output_type": "stream",
     "text": [
      "Samsung 870 QVO 2 TB SATA 2.5 Inch Internal Solid State Drive (SSD) (MZ-77Q2T0), Black\n",
      "35,842\n"
     ]
    }
   ],
   "source": [
    "#Formatting the data\n",
    "ratings = ratings.strip()[:-8]\n",
    "title = title.strip()\n",
    "print(title)\n",
    "print(ratings)"
   ]
  },
  {
   "cell_type": "code",
   "execution_count": 66,
   "metadata": {},
   "outputs": [],
   "source": [
    "#Writing a CSV for data\n",
    "import csv \n",
    "header = ['Ratings', 'title', 'Date']\n",
    "data = [ratings, title, today]\n",
    "with open('WebDataset.csv', 'w', newline='', encoding='UTF8') as f:\n",
    "    writer = csv.writer(f)\n",
    "    writer.writerow(header)\n",
    "    writer.writerow(data)"
   ]
  },
  {
   "cell_type": "code",
   "execution_count": 67,
   "metadata": {},
   "outputs": [
    {
     "name": "stdout",
     "output_type": "stream",
     "text": [
      "  Ratings                                              title        Date\n",
      "0  35,842  Samsung 870 QVO 2 TB SATA 2.5 Inch Internal So...  2022-11-24\n"
     ]
    }
   ],
   "source": [
    "import pandas as pd\n",
    "\n",
    "df = pd.read_csv(r'C:\\Users\\karth\\WebDataset.csv')\n",
    "\n",
    "print(df)"
   ]
  },
  {
   "cell_type": "code",
   "execution_count": 61,
   "metadata": {},
   "outputs": [],
   "source": [
    "#Appending data to the WebDataset.csv\n",
    "\n",
    "with open('WebDataset.csv', 'a+', newline='', encoding='UTF8') as f:\n",
    "    writer = csv.writer(f)\n",
    "    writer.writerow(data)"
   ]
  },
  {
   "cell_type": "code",
   "execution_count": null,
   "metadata": {},
   "outputs": [],
   "source": [
    "# Email alert\n",
    "\n",
    "def Email_alert():\n",
    "    server = smtplib.SMTP_SSL('smtp.gmail.com',465)\n",
    "    server.ehlo()\n",
    "    #server.starttls()\n",
    "    server.ehlo()\n",
    "    server.login('karthi@gmail.com','ijdszfhdsifhfdsiudfhusdi')\n",
    "    \n",
    "    subject = \"SSD has over 35000 ratings\"\n",
    "    body = \"https://www.amazon.co.uk/Samsung-Internal-Solid-State-MZ-77Q2T0/dp/B089R1C9HV/?_encoding=UTF8&pd_rd_w=zJWcG&content-id=amzn1.sym.3bcd4179-dfc9-4ec8-bccf-cf5b493a737e&pf_rd_p=3bcd4179-dfc9-4ec8-bccf-cf5b493a737e&pf_rd_r=G6VAYVBFXP7QF62SBV6B&pd_rd_wg=b1zuZ&pd_rd_r=48fdaf4f-1cf6-4f32-a025-e8dd00c6b8df&ref_=pd_gw_deals_m1&th=1\"\n",
    "   \n",
    "    msg = f\"Subject: {subject}\\n\\n{body}\"\n",
    "    \n",
    "    server.sendmail(\n",
    "        'karthi@gmail.com',\n",
    "        msg\n",
    "     \n",
    "    )"
   ]
  }
 ],
 "metadata": {
  "kernelspec": {
   "display_name": "Python 3",
   "language": "python",
   "name": "python3"
  },
  "language_info": {
   "codemirror_mode": {
    "name": "ipython",
    "version": 3
   },
   "file_extension": ".py",
   "mimetype": "text/x-python",
   "name": "python",
   "nbconvert_exporter": "python",
   "pygments_lexer": "ipython3",
   "version": "3.7.4"
  }
 },
 "nbformat": 4,
 "nbformat_minor": 2
}
